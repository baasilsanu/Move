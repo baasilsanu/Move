{
 "cells": [
  {
   "cell_type": "code",
   "execution_count": 1,
   "metadata": {},
   "outputs": [],
   "source": [
    "from sympy import Matrix, symbols, transpose, zeros\n",
    "import numpy as np\n",
    "import sympy as sp"
   ]
  },
  {
   "cell_type": "code",
   "execution_count": 2,
   "metadata": {},
   "outputs": [],
   "source": [
    "epsilon_val = 0.12394270273516043\n",
    "N_0_squared_val = 318.8640217310387\n",
    "r_m_val = 0.1\n",
    "k_val = 2 * np.pi * 6\n",
    "m_val = 2 * np.pi * 3\n",
    "m_u_val = 2 * np.pi * 7\n",
    "dt_val = 0.001\n",
    "total_time_val = 200\n"
   ]
  },
  {
   "cell_type": "code",
   "execution_count": 4,
   "metadata": {},
   "outputs": [],
   "source": [
    "# dxdt = Matrix([Delta_C_dot[i, j] for i in range(4) for j in range(4)] + [Delta_U_dot])\n",
    "# k_plus_square_val = k_val**2 + (m_val + m_u_val)**2"
   ]
  },
  {
   "cell_type": "code",
   "execution_count": 5,
   "metadata": {},
   "outputs": [],
   "source": [
    "epsilon, N_0_squared, r_m, k, m, m_u, dt, total_time = symbols('epsilon N_0_squared r_m k m m_u dt total_time')\n",
    "k_plus_square, k_e_square = symbols('k_plus_square k_e_square')\n",
    "Delta_U, U_star = symbols('Delta_U U_star')\n",
    "\n",
    "Zero_array = Matrix.zeros(2, 2)\n",
    "W_e = Matrix([[-1, k / k_e_square], [-k * N_0_squared, -1]])\n",
    "W_plus = Matrix([[-1, -k / k_plus_square], [k * N_0_squared, -1]])\n",
    "L_e_plus = Matrix([[(k / (2 * k_e_square)) * (k_plus_square - m_u**2), 0], [0, k / 2]])\n",
    "L_plus_e = Matrix([[(k / (2 * k_plus_square)) * (m_u**2 - k_e_square), 0], [0, k / 2]])"
   ]
  },
  {
   "cell_type": "code",
   "execution_count": 6,
   "metadata": {},
   "outputs": [],
   "source": [
    "L = Matrix([\n",
    "    [Zero_array, L_e_plus],\n",
    "    [L_plus_e, Zero_array]\n",
    "])\n",
    "\n",
    "W = Matrix([\n",
    "    [W_e, Zero_array],\n",
    "    [Zero_array, W_plus]\n",
    "])\n"
   ]
  },
  {
   "cell_type": "code",
   "execution_count": 8,
   "metadata": {},
   "outputs": [],
   "source": [
    "C_star = Matrix(4, 4, symbols('C_star:16'))\n",
    "\n",
    "Delta_C = Matrix(4, 4, symbols('Delta_C:16'))\n",
    "\n",
    "x = Matrix([Delta_C[i, j] for i in range(4) for j in range(4)] + [Delta_U])\n",
    "\n",
    "Delta_C_dot = Delta_U * (L * C_star + C_star * L.T) + W * Delta_C + U_star * (L * Delta_C + Delta_C * L.T) + Delta_C * W.T\n",
    "\n",
    "Delta_U_dot = 0.25 * k * (k_plus_square - k_e_square) * Delta_C[0, 2] - r_m * Delta_U #the C element\n",
    "\n",
    "dxdt = Matrix([Delta_C_dot[i, j] for i in range(4) for j in range(4)] + [Delta_U_dot])\n",
    "\n",
    "A = dxdt.jacobian(x)"
   ]
  },
  {
   "cell_type": "code",
   "execution_count": 9,
   "metadata": {},
   "outputs": [
    {
     "data": {
      "text/latex": [
       "$\\displaystyle \\left[\\begin{array}{ccccccccccccccccc}-2 & \\frac{k}{k_{e square}} & \\frac{U_{star} k \\left(k_{plus square} - m_{u}^{2}\\right)}{2 k_{e square}} & 0 & \\frac{k}{k_{e square}} & 0 & 0 & 0 & \\frac{U_{star} k \\left(k_{plus square} - m_{u}^{2}\\right)}{2 k_{e square}} & 0 & 0 & 0 & 0 & 0 & 0 & 0 & \\frac{C_{star2} k \\left(k_{plus square} - m_{u}^{2}\\right)}{2 k_{e square}} + \\frac{C_{star8} k \\left(k_{plus square} - m_{u}^{2}\\right)}{2 k_{e square}}\\\\- N_{0 squared} k & -2 & 0 & \\frac{U_{star} k}{2} & 0 & \\frac{k}{k_{e square}} & 0 & 0 & 0 & \\frac{U_{star} k \\left(k_{plus square} - m_{u}^{2}\\right)}{2 k_{e square}} & 0 & 0 & 0 & 0 & 0 & 0 & \\frac{C_{star3} k}{2} + \\frac{C_{star9} k \\left(k_{plus square} - m_{u}^{2}\\right)}{2 k_{e square}}\\\\\\frac{U_{star} k \\left(- k_{e square} + m_{u}^{2}\\right)}{2 k_{plus square}} & 0 & -2 & - \\frac{k}{k_{plus square}} & 0 & 0 & \\frac{k}{k_{e square}} & 0 & 0 & 0 & \\frac{U_{star} k \\left(k_{plus square} - m_{u}^{2}\\right)}{2 k_{e square}} & 0 & 0 & 0 & 0 & 0 & \\frac{C_{star0} k \\left(- k_{e square} + m_{u}^{2}\\right)}{2 k_{plus square}} + \\frac{C_{star10} k \\left(k_{plus square} - m_{u}^{2}\\right)}{2 k_{e square}}\\\\0 & \\frac{U_{star} k}{2} & N_{0 squared} k & -2 & 0 & 0 & 0 & \\frac{k}{k_{e square}} & 0 & 0 & 0 & \\frac{U_{star} k \\left(k_{plus square} - m_{u}^{2}\\right)}{2 k_{e square}} & 0 & 0 & 0 & 0 & \\frac{C_{star1} k}{2} + \\frac{C_{star11} k \\left(k_{plus square} - m_{u}^{2}\\right)}{2 k_{e square}}\\\\- N_{0 squared} k & 0 & 0 & 0 & -2 & \\frac{k}{k_{e square}} & \\frac{U_{star} k \\left(k_{plus square} - m_{u}^{2}\\right)}{2 k_{e square}} & 0 & 0 & 0 & 0 & 0 & \\frac{U_{star} k}{2} & 0 & 0 & 0 & \\frac{C_{star12} k}{2} + \\frac{C_{star6} k \\left(k_{plus square} - m_{u}^{2}\\right)}{2 k_{e square}}\\\\0 & - N_{0 squared} k & 0 & 0 & - N_{0 squared} k & -2 & 0 & \\frac{U_{star} k}{2} & 0 & 0 & 0 & 0 & 0 & \\frac{U_{star} k}{2} & 0 & 0 & \\frac{C_{star13} k}{2} + \\frac{C_{star7} k}{2}\\\\0 & 0 & - N_{0 squared} k & 0 & \\frac{U_{star} k \\left(- k_{e square} + m_{u}^{2}\\right)}{2 k_{plus square}} & 0 & -2 & - \\frac{k}{k_{plus square}} & 0 & 0 & 0 & 0 & 0 & 0 & \\frac{U_{star} k}{2} & 0 & \\frac{C_{star14} k}{2} + \\frac{C_{star4} k \\left(- k_{e square} + m_{u}^{2}\\right)}{2 k_{plus square}}\\\\0 & 0 & 0 & - N_{0 squared} k & 0 & \\frac{U_{star} k}{2} & N_{0 squared} k & -2 & 0 & 0 & 0 & 0 & 0 & 0 & 0 & \\frac{U_{star} k}{2} & \\frac{C_{star15} k}{2} + \\frac{C_{star5} k}{2}\\\\\\frac{U_{star} k \\left(- k_{e square} + m_{u}^{2}\\right)}{2 k_{plus square}} & 0 & 0 & 0 & 0 & 0 & 0 & 0 & -2 & \\frac{k}{k_{e square}} & \\frac{U_{star} k \\left(k_{plus square} - m_{u}^{2}\\right)}{2 k_{e square}} & 0 & - \\frac{k}{k_{plus square}} & 0 & 0 & 0 & \\frac{C_{star0} k \\left(- k_{e square} + m_{u}^{2}\\right)}{2 k_{plus square}} + \\frac{C_{star10} k \\left(k_{plus square} - m_{u}^{2}\\right)}{2 k_{e square}}\\\\0 & \\frac{U_{star} k \\left(- k_{e square} + m_{u}^{2}\\right)}{2 k_{plus square}} & 0 & 0 & 0 & 0 & 0 & 0 & - N_{0 squared} k & -2 & 0 & \\frac{U_{star} k}{2} & 0 & - \\frac{k}{k_{plus square}} & 0 & 0 & \\frac{C_{star1} k \\left(- k_{e square} + m_{u}^{2}\\right)}{2 k_{plus square}} + \\frac{C_{star11} k}{2}\\\\0 & 0 & \\frac{U_{star} k \\left(- k_{e square} + m_{u}^{2}\\right)}{2 k_{plus square}} & 0 & 0 & 0 & 0 & 0 & \\frac{U_{star} k \\left(- k_{e square} + m_{u}^{2}\\right)}{2 k_{plus square}} & 0 & -2 & - \\frac{k}{k_{plus square}} & 0 & 0 & - \\frac{k}{k_{plus square}} & 0 & \\frac{C_{star2} k \\left(- k_{e square} + m_{u}^{2}\\right)}{2 k_{plus square}} + \\frac{C_{star8} k \\left(- k_{e square} + m_{u}^{2}\\right)}{2 k_{plus square}}\\\\0 & 0 & 0 & \\frac{U_{star} k \\left(- k_{e square} + m_{u}^{2}\\right)}{2 k_{plus square}} & 0 & 0 & 0 & 0 & 0 & \\frac{U_{star} k}{2} & N_{0 squared} k & -2 & 0 & 0 & 0 & - \\frac{k}{k_{plus square}} & \\frac{C_{star3} k \\left(- k_{e square} + m_{u}^{2}\\right)}{2 k_{plus square}} + \\frac{C_{star9} k}{2}\\\\0 & 0 & 0 & 0 & \\frac{U_{star} k}{2} & 0 & 0 & 0 & N_{0 squared} k & 0 & 0 & 0 & -2 & \\frac{k}{k_{e square}} & \\frac{U_{star} k \\left(k_{plus square} - m_{u}^{2}\\right)}{2 k_{e square}} & 0 & \\frac{C_{star14} k \\left(k_{plus square} - m_{u}^{2}\\right)}{2 k_{e square}} + \\frac{C_{star4} k}{2}\\\\0 & 0 & 0 & 0 & 0 & \\frac{U_{star} k}{2} & 0 & 0 & 0 & N_{0 squared} k & 0 & 0 & - N_{0 squared} k & -2 & 0 & \\frac{U_{star} k}{2} & \\frac{C_{star15} k}{2} + \\frac{C_{star5} k}{2}\\\\0 & 0 & 0 & 0 & 0 & 0 & \\frac{U_{star} k}{2} & 0 & 0 & 0 & N_{0 squared} k & 0 & \\frac{U_{star} k \\left(- k_{e square} + m_{u}^{2}\\right)}{2 k_{plus square}} & 0 & -2 & - \\frac{k}{k_{plus square}} & \\frac{C_{star12} k \\left(- k_{e square} + m_{u}^{2}\\right)}{2 k_{plus square}} + \\frac{C_{star6} k}{2}\\\\0 & 0 & 0 & 0 & 0 & 0 & 0 & \\frac{U_{star} k}{2} & 0 & 0 & 0 & N_{0 squared} k & 0 & \\frac{U_{star} k}{2} & N_{0 squared} k & -2 & \\frac{C_{star13} k}{2} + \\frac{C_{star7} k}{2}\\\\0 & 0 & 0.25 k \\left(- k_{e square} + k_{plus square}\\right) & 0 & 0 & 0 & 0 & 0 & 0 & 0 & 0 & 0 & 0 & 0 & 0 & 0 & - r_{m}\\end{array}\\right]$"
      ],
      "text/plain": [
       "Matrix([\n",
       "[                                               -2,                                      k/k_e_square,  U_star*k*(k_plus_square - m_u**2)/(2*k_e_square),                                                 0,                                      k/k_e_square,            0,                                                0,                0,  U_star*k*(k_plus_square - m_u**2)/(2*k_e_square),                                                0,                                                0,                                                0,                                                 0,                0,                                                0,                0,   C_star2*k*(k_plus_square - m_u**2)/(2*k_e_square) + C_star8*k*(k_plus_square - m_u**2)/(2*k_e_square)],\n",
       "[                                   -N_0_squared*k,                                                -2,                                                 0,                                        U_star*k/2,                                                 0, k/k_e_square,                                                0,                0,                                                 0, U_star*k*(k_plus_square - m_u**2)/(2*k_e_square),                                                0,                                                0,                                                 0,                0,                                                0,                0,                                         C_star3*k/2 + C_star9*k*(k_plus_square - m_u**2)/(2*k_e_square)],\n",
       "[U_star*k*(-k_e_square + m_u**2)/(2*k_plus_square),                                                 0,                                                -2,                                  -k/k_plus_square,                                                 0,            0,                                     k/k_e_square,                0,                                                 0,                                                0, U_star*k*(k_plus_square - m_u**2)/(2*k_e_square),                                                0,                                                 0,                0,                                                0,                0, C_star0*k*(-k_e_square + m_u**2)/(2*k_plus_square) + C_star10*k*(k_plus_square - m_u**2)/(2*k_e_square)],\n",
       "[                                                0,                                        U_star*k/2,                                     N_0_squared*k,                                                -2,                                                 0,            0,                                                0,     k/k_e_square,                                                 0,                                                0,                                                0, U_star*k*(k_plus_square - m_u**2)/(2*k_e_square),                                                 0,                0,                                                0,                0,                                        C_star1*k/2 + C_star11*k*(k_plus_square - m_u**2)/(2*k_e_square)],\n",
       "[                                   -N_0_squared*k,                                                 0,                                                 0,                                                 0,                                                -2, k/k_e_square, U_star*k*(k_plus_square - m_u**2)/(2*k_e_square),                0,                                                 0,                                                0,                                                0,                                                0,                                        U_star*k/2,                0,                                                0,                0,                                        C_star12*k/2 + C_star6*k*(k_plus_square - m_u**2)/(2*k_e_square)],\n",
       "[                                                0,                                    -N_0_squared*k,                                                 0,                                                 0,                                    -N_0_squared*k,           -2,                                                0,       U_star*k/2,                                                 0,                                                0,                                                0,                                                0,                                                 0,       U_star*k/2,                                                0,                0,                                                                              C_star13*k/2 + C_star7*k/2],\n",
       "[                                                0,                                                 0,                                    -N_0_squared*k,                                                 0, U_star*k*(-k_e_square + m_u**2)/(2*k_plus_square),            0,                                               -2, -k/k_plus_square,                                                 0,                                                0,                                                0,                                                0,                                                 0,                0,                                       U_star*k/2,                0,                                       C_star14*k/2 + C_star4*k*(-k_e_square + m_u**2)/(2*k_plus_square)],\n",
       "[                                                0,                                                 0,                                                 0,                                    -N_0_squared*k,                                                 0,   U_star*k/2,                                    N_0_squared*k,               -2,                                                 0,                                                0,                                                0,                                                0,                                                 0,                0,                                                0,       U_star*k/2,                                                                              C_star15*k/2 + C_star5*k/2],\n",
       "[U_star*k*(-k_e_square + m_u**2)/(2*k_plus_square),                                                 0,                                                 0,                                                 0,                                                 0,            0,                                                0,                0,                                                -2,                                     k/k_e_square, U_star*k*(k_plus_square - m_u**2)/(2*k_e_square),                                                0,                                  -k/k_plus_square,                0,                                                0,                0, C_star0*k*(-k_e_square + m_u**2)/(2*k_plus_square) + C_star10*k*(k_plus_square - m_u**2)/(2*k_e_square)],\n",
       "[                                                0, U_star*k*(-k_e_square + m_u**2)/(2*k_plus_square),                                                 0,                                                 0,                                                 0,            0,                                                0,                0,                                    -N_0_squared*k,                                               -2,                                                0,                                       U_star*k/2,                                                 0, -k/k_plus_square,                                                0,                0,                                       C_star1*k*(-k_e_square + m_u**2)/(2*k_plus_square) + C_star11*k/2],\n",
       "[                                                0,                                                 0, U_star*k*(-k_e_square + m_u**2)/(2*k_plus_square),                                                 0,                                                 0,            0,                                                0,                0, U_star*k*(-k_e_square + m_u**2)/(2*k_plus_square),                                                0,                                               -2,                                 -k/k_plus_square,                                                 0,                0,                                 -k/k_plus_square,                0, C_star2*k*(-k_e_square + m_u**2)/(2*k_plus_square) + C_star8*k*(-k_e_square + m_u**2)/(2*k_plus_square)],\n",
       "[                                                0,                                                 0,                                                 0, U_star*k*(-k_e_square + m_u**2)/(2*k_plus_square),                                                 0,            0,                                                0,                0,                                                 0,                                       U_star*k/2,                                    N_0_squared*k,                                               -2,                                                 0,                0,                                                0, -k/k_plus_square,                                        C_star3*k*(-k_e_square + m_u**2)/(2*k_plus_square) + C_star9*k/2],\n",
       "[                                                0,                                                 0,                                                 0,                                                 0,                                        U_star*k/2,            0,                                                0,                0,                                     N_0_squared*k,                                                0,                                                0,                                                0,                                                -2,     k/k_e_square, U_star*k*(k_plus_square - m_u**2)/(2*k_e_square),                0,                                        C_star14*k*(k_plus_square - m_u**2)/(2*k_e_square) + C_star4*k/2],\n",
       "[                                                0,                                                 0,                                                 0,                                                 0,                                                 0,   U_star*k/2,                                                0,                0,                                                 0,                                    N_0_squared*k,                                                0,                                                0,                                    -N_0_squared*k,               -2,                                                0,       U_star*k/2,                                                                              C_star15*k/2 + C_star5*k/2],\n",
       "[                                                0,                                                 0,                                                 0,                                                 0,                                                 0,            0,                                       U_star*k/2,                0,                                                 0,                                                0,                                    N_0_squared*k,                                                0, U_star*k*(-k_e_square + m_u**2)/(2*k_plus_square),                0,                                               -2, -k/k_plus_square,                                       C_star12*k*(-k_e_square + m_u**2)/(2*k_plus_square) + C_star6*k/2],\n",
       "[                                                0,                                                 0,                                                 0,                                                 0,                                                 0,            0,                                                0,       U_star*k/2,                                                 0,                                                0,                                                0,                                    N_0_squared*k,                                                 0,       U_star*k/2,                                    N_0_squared*k,               -2,                                                                              C_star13*k/2 + C_star7*k/2],\n",
       "[                                                0,                                                 0,              0.25*k*(-k_e_square + k_plus_square),                                                 0,                                                 0,            0,                                                0,                0,                                                 0,                                                0,                                                0,                                                0,                                                 0,                0,                                                0,                0,                                                                                                    -r_m]])"
      ]
     },
     "execution_count": 9,
     "metadata": {},
     "output_type": "execute_result"
    }
   ],
   "source": [
    "A"
   ]
  },
  {
   "cell_type": "code",
   "execution_count": 10,
   "metadata": {},
   "outputs": [
    {
     "data": {
      "text/plain": [
       "<bound method MatrixBase.eigenvals of Matrix([\n",
       "[                                               -2,                                      k/k_e_square,  U_star*k*(k_plus_square - m_u**2)/(2*k_e_square),                                                 0,                                      k/k_e_square,            0,                                                0,                0,  U_star*k*(k_plus_square - m_u**2)/(2*k_e_square),                                                0,                                                0,                                                0,                                                 0,                0,                                                0,                0,   C_star2*k*(k_plus_square - m_u**2)/(2*k_e_square) + C_star8*k*(k_plus_square - m_u**2)/(2*k_e_square)],\n",
       "[                                   -N_0_squared*k,                                                -2,                                                 0,                                        U_star*k/2,                                                 0, k/k_e_square,                                                0,                0,                                                 0, U_star*k*(k_plus_square - m_u**2)/(2*k_e_square),                                                0,                                                0,                                                 0,                0,                                                0,                0,                                         C_star3*k/2 + C_star9*k*(k_plus_square - m_u**2)/(2*k_e_square)],\n",
       "[U_star*k*(-k_e_square + m_u**2)/(2*k_plus_square),                                                 0,                                                -2,                                  -k/k_plus_square,                                                 0,            0,                                     k/k_e_square,                0,                                                 0,                                                0, U_star*k*(k_plus_square - m_u**2)/(2*k_e_square),                                                0,                                                 0,                0,                                                0,                0, C_star0*k*(-k_e_square + m_u**2)/(2*k_plus_square) + C_star10*k*(k_plus_square - m_u**2)/(2*k_e_square)],\n",
       "[                                                0,                                        U_star*k/2,                                     N_0_squared*k,                                                -2,                                                 0,            0,                                                0,     k/k_e_square,                                                 0,                                                0,                                                0, U_star*k*(k_plus_square - m_u**2)/(2*k_e_square),                                                 0,                0,                                                0,                0,                                        C_star1*k/2 + C_star11*k*(k_plus_square - m_u**2)/(2*k_e_square)],\n",
       "[                                   -N_0_squared*k,                                                 0,                                                 0,                                                 0,                                                -2, k/k_e_square, U_star*k*(k_plus_square - m_u**2)/(2*k_e_square),                0,                                                 0,                                                0,                                                0,                                                0,                                        U_star*k/2,                0,                                                0,                0,                                        C_star12*k/2 + C_star6*k*(k_plus_square - m_u**2)/(2*k_e_square)],\n",
       "[                                                0,                                    -N_0_squared*k,                                                 0,                                                 0,                                    -N_0_squared*k,           -2,                                                0,       U_star*k/2,                                                 0,                                                0,                                                0,                                                0,                                                 0,       U_star*k/2,                                                0,                0,                                                                              C_star13*k/2 + C_star7*k/2],\n",
       "[                                                0,                                                 0,                                    -N_0_squared*k,                                                 0, U_star*k*(-k_e_square + m_u**2)/(2*k_plus_square),            0,                                               -2, -k/k_plus_square,                                                 0,                                                0,                                                0,                                                0,                                                 0,                0,                                       U_star*k/2,                0,                                       C_star14*k/2 + C_star4*k*(-k_e_square + m_u**2)/(2*k_plus_square)],\n",
       "[                                                0,                                                 0,                                                 0,                                    -N_0_squared*k,                                                 0,   U_star*k/2,                                    N_0_squared*k,               -2,                                                 0,                                                0,                                                0,                                                0,                                                 0,                0,                                                0,       U_star*k/2,                                                                              C_star15*k/2 + C_star5*k/2],\n",
       "[U_star*k*(-k_e_square + m_u**2)/(2*k_plus_square),                                                 0,                                                 0,                                                 0,                                                 0,            0,                                                0,                0,                                                -2,                                     k/k_e_square, U_star*k*(k_plus_square - m_u**2)/(2*k_e_square),                                                0,                                  -k/k_plus_square,                0,                                                0,                0, C_star0*k*(-k_e_square + m_u**2)/(2*k_plus_square) + C_star10*k*(k_plus_square - m_u**2)/(2*k_e_square)],\n",
       "[                                                0, U_star*k*(-k_e_square + m_u**2)/(2*k_plus_square),                                                 0,                                                 0,                                                 0,            0,                                                0,                0,                                    -N_0_squared*k,                                               -2,                                                0,                                       U_star*k/2,                                                 0, -k/k_plus_square,                                                0,                0,                                       C_star1*k*(-k_e_square + m_u**2)/(2*k_plus_square) + C_star11*k/2],\n",
       "[                                                0,                                                 0, U_star*k*(-k_e_square + m_u**2)/(2*k_plus_square),                                                 0,                                                 0,            0,                                                0,                0, U_star*k*(-k_e_square + m_u**2)/(2*k_plus_square),                                                0,                                               -2,                                 -k/k_plus_square,                                                 0,                0,                                 -k/k_plus_square,                0, C_star2*k*(-k_e_square + m_u**2)/(2*k_plus_square) + C_star8*k*(-k_e_square + m_u**2)/(2*k_plus_square)],\n",
       "[                                                0,                                                 0,                                                 0, U_star*k*(-k_e_square + m_u**2)/(2*k_plus_square),                                                 0,            0,                                                0,                0,                                                 0,                                       U_star*k/2,                                    N_0_squared*k,                                               -2,                                                 0,                0,                                                0, -k/k_plus_square,                                        C_star3*k*(-k_e_square + m_u**2)/(2*k_plus_square) + C_star9*k/2],\n",
       "[                                                0,                                                 0,                                                 0,                                                 0,                                        U_star*k/2,            0,                                                0,                0,                                     N_0_squared*k,                                                0,                                                0,                                                0,                                                -2,     k/k_e_square, U_star*k*(k_plus_square - m_u**2)/(2*k_e_square),                0,                                        C_star14*k*(k_plus_square - m_u**2)/(2*k_e_square) + C_star4*k/2],\n",
       "[                                                0,                                                 0,                                                 0,                                                 0,                                                 0,   U_star*k/2,                                                0,                0,                                                 0,                                    N_0_squared*k,                                                0,                                                0,                                    -N_0_squared*k,               -2,                                                0,       U_star*k/2,                                                                              C_star15*k/2 + C_star5*k/2],\n",
       "[                                                0,                                                 0,                                                 0,                                                 0,                                                 0,            0,                                       U_star*k/2,                0,                                                 0,                                                0,                                    N_0_squared*k,                                                0, U_star*k*(-k_e_square + m_u**2)/(2*k_plus_square),                0,                                               -2, -k/k_plus_square,                                       C_star12*k*(-k_e_square + m_u**2)/(2*k_plus_square) + C_star6*k/2],\n",
       "[                                                0,                                                 0,                                                 0,                                                 0,                                                 0,            0,                                                0,       U_star*k/2,                                                 0,                                                0,                                                0,                                    N_0_squared*k,                                                 0,       U_star*k/2,                                    N_0_squared*k,               -2,                                                                              C_star13*k/2 + C_star7*k/2],\n",
       "[                                                0,                                                 0,              0.25*k*(-k_e_square + k_plus_square),                                                 0,                                                 0,            0,                                                0,                0,                                                 0,                                                0,                                                0,                                                0,                                                 0,                0,                                                0,                0,                                                                                                    -r_m]])>"
      ]
     },
     "execution_count": 10,
     "metadata": {},
     "output_type": "execute_result"
    }
   ],
   "source": [
    "A.eigenvals"
   ]
  }
 ],
 "metadata": {
  "kernelspec": {
   "display_name": "simulations_env",
   "language": "python",
   "name": "python3"
  },
  "language_info": {
   "codemirror_mode": {
    "name": "ipython",
    "version": 3
   },
   "file_extension": ".py",
   "mimetype": "text/x-python",
   "name": "python",
   "nbconvert_exporter": "python",
   "pygments_lexer": "ipython3",
   "version": "3.12.3"
  }
 },
 "nbformat": 4,
 "nbformat_minor": 2
}
