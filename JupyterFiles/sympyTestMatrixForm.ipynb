{
 "cells": [
  {
   "cell_type": "code",
   "execution_count": 1,
   "metadata": {},
   "outputs": [],
   "source": [
    "from sympy import Matrix, symbols, transpose, zeros\n",
    "import numpy as np\n",
    "import sympy as sp"
   ]
  },
  {
   "cell_type": "code",
   "execution_count": 3,
   "metadata": {},
   "outputs": [
    {
     "data": {
      "text/latex": [
       "$\\displaystyle \\left[\\begin{matrix}2 A_{mat0} & A_{mat1} & A_{mat1} & 0\\\\A_{mat2} & A_{mat0} + A_{mat3} & 0 & A_{mat1}\\\\A_{mat2} & 0 & A_{mat0} + A_{mat3} & A_{mat1}\\\\0 & A_{mat2} & A_{mat2} & 2 A_{mat3}\\end{matrix}\\right]$"
      ],
      "text/plain": [
       "Matrix([\n",
       "[2*A_mat0,          A_mat1,          A_mat1,        0],\n",
       "[  A_mat2, A_mat0 + A_mat3,               0,   A_mat1],\n",
       "[  A_mat2,               0, A_mat0 + A_mat3,   A_mat1],\n",
       "[       0,          A_mat2,          A_mat2, 2*A_mat3]])"
      ]
     },
     "execution_count": 3,
     "metadata": {},
     "output_type": "execute_result"
    }
   ],
   "source": [
    "C_mat = Matrix(2, 2, symbols(\"C_mat:4\"))\n",
    "A_mat = Matrix(2, 2, symbols(\"A_mat:4\"))\n",
    "\n",
    "delta_C_mat = Matrix(2, 2, symbols(\"delta_C_mat:4\"))\n",
    "\n",
    "x = Matrix([C_mat[i, j] for i in range(2) for j in range(2)])\n",
    "\n",
    "delta_C_mat = A_mat * C_mat + C_mat * A_mat.T\n",
    "\n",
    "dxdt = Matrix([delta_C_mat[i, j] for i in range(2) for j in range(2)])\n",
    "\n",
    "A = dxdt.jacobian(x)\n",
    "\n",
    "A\n"
   ]
  }
 ],
 "metadata": {
  "kernelspec": {
   "display_name": "simulations_env",
   "language": "python",
   "name": "python3"
  },
  "language_info": {
   "codemirror_mode": {
    "name": "ipython",
    "version": 3
   },
   "file_extension": ".py",
   "mimetype": "text/x-python",
   "name": "python",
   "nbconvert_exporter": "python",
   "pygments_lexer": "ipython3",
   "version": "3.12.3"
  }
 },
 "nbformat": 4,
 "nbformat_minor": 2
}
