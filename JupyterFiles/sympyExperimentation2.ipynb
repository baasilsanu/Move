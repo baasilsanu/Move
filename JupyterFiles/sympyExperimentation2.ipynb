{
 "cells": [
  {
   "cell_type": "code",
   "execution_count": 2,
   "metadata": {},
   "outputs": [],
   "source": [
    "from sympy import Matrix, symbols, transpose, zeros, simplify\n",
    "import numpy as np\n",
    "import sympy as sp\n",
    "import itertools\n",
    "import matplotlib.pyplot as plt\n",
    "import pandas as pd\n",
    "from numba import jit\n",
    "from scipy.stats import linregress"
   ]
  },
  {
   "cell_type": "code",
   "execution_count": 3,
   "metadata": {},
   "outputs": [],
   "source": [
    "r_m_val = 0.1\n",
    "k_val = 2 * np.pi * 6\n",
    "m_val = 2 * np.pi * 3\n",
    "m_u_val = 2 * np.pi * 7\n",
    "dt_val = 0.001\n",
    "total_time_val = 200\n",
    "k_e_square_val = k_val**2 + m_val**2\n",
    "k_plus_square_val = k_val**2 + (m_val + m_u_val)**2\n",
    "\n"
   ]
  },
  {
   "cell_type": "code",
   "execution_count": 4,
   "metadata": {},
   "outputs": [],
   "source": [
    "# dxdt = Matrix([Delta_C_dot[i, j] for i in range(4) for j in range(4)] + [Delta_U_dot])\n",
    "# k_plus_square_val = k_val**2 + (m_val + m_u_val)**2"
   ]
  },
  {
   "cell_type": "code",
   "execution_count": 5,
   "metadata": {},
   "outputs": [],
   "source": [
    "epsilon, N_0_squared, r_m, k, m, m_u, dt, total_time = symbols('epsilon N_0_squared r_m k m m_u dt total_time')\n",
    "k_plus_square, k_e_square = symbols('k_plus_square k_e_square')\n",
    "Delta_U, U_star = symbols('Delta_U U_star')\n",
    "\n",
    "Zero_array = Matrix.zeros(2, 2)\n",
    "W_e = Matrix([[-1, k / k_e_square], [-k * N_0_squared, -1]])\n",
    "W_plus = Matrix([[-1, -k / k_plus_square], [k * N_0_squared, -1]])\n",
    "L_e_plus = Matrix([[(-k / (2 * k_e_square)) * (k_plus_square - m_u**2), 0], [0, k / 2]])\n",
    "L_plus_e = Matrix([[(-k / (2 * k_plus_square)) * (m_u**2 - k_e_square), 0], [0, -k / 2]])"
   ]
  },
  {
   "cell_type": "code",
   "execution_count": 6,
   "metadata": {},
   "outputs": [],
   "source": [
    "L = Matrix([\n",
    "    [Zero_array, L_e_plus],\n",
    "    [L_plus_e, Zero_array]\n",
    "])\n",
    "\n",
    "W = Matrix([\n",
    "    [W_e, Zero_array],\n",
    "    [Zero_array, W_plus]\n",
    "])\n"
   ]
  },
  {
   "cell_type": "code",
   "execution_count": 7,
   "metadata": {},
   "outputs": [],
   "source": [
    "C_star = Matrix(4, 4, symbols('C_star:16'))\n",
    "\n",
    "Delta_C = Matrix(4, 4, symbols('Delta_C:16'))\n",
    "\n",
    "x = Matrix([Delta_C[i, j] for i in range(4) for j in range(4)] + [Delta_U])\n",
    "\n",
    "Delta_C_dot = Delta_U * (L * C_star + C_star * L.T) + W * Delta_C + U_star * (L * Delta_C + Delta_C * L.T) + Delta_C * W.T \n",
    "\n",
    "Delta_U_dot = 0.25 * k * (k_plus_square - k_e_square) * Delta_C[0, 2] - r_m * Delta_U #the C element\n",
    "\n",
    "dxdt = Matrix([Delta_C_dot[i, j] for i in range(4) for j in range(4)] + [Delta_U_dot])\n",
    "\n",
    "A = dxdt.jacobian(x)"
   ]
  },
  {
   "cell_type": "code",
   "execution_count": 8,
   "metadata": {},
   "outputs": [
    {
     "data": {
      "text/latex": [
       "$\\displaystyle \\left[\\begin{array}{ccccccccccccccccc}-2 & \\frac{k}{k_{e square}} & - \\frac{U_{star} k \\left(k_{plus square} - m_{u}^{2}\\right)}{2 k_{e square}} & 0 & \\frac{k}{k_{e square}} & 0 & 0 & 0 & - \\frac{U_{star} k \\left(k_{plus square} - m_{u}^{2}\\right)}{2 k_{e square}} & 0 & 0 & 0 & 0 & 0 & 0 & 0 & - \\frac{C_{star2} k \\left(k_{plus square} - m_{u}^{2}\\right)}{2 k_{e square}} - \\frac{C_{star8} k \\left(k_{plus square} - m_{u}^{2}\\right)}{2 k_{e square}}\\\\- N_{0 squared} k & -2 & 0 & \\frac{U_{star} k}{2} & 0 & \\frac{k}{k_{e square}} & 0 & 0 & 0 & - \\frac{U_{star} k \\left(k_{plus square} - m_{u}^{2}\\right)}{2 k_{e square}} & 0 & 0 & 0 & 0 & 0 & 0 & \\frac{C_{star3} k}{2} - \\frac{C_{star9} k \\left(k_{plus square} - m_{u}^{2}\\right)}{2 k_{e square}}\\\\- \\frac{U_{star} k \\left(- k_{e square} + m_{u}^{2}\\right)}{2 k_{plus square}} & 0 & -2 & - \\frac{k}{k_{plus square}} & 0 & 0 & \\frac{k}{k_{e square}} & 0 & 0 & 0 & - \\frac{U_{star} k \\left(k_{plus square} - m_{u}^{2}\\right)}{2 k_{e square}} & 0 & 0 & 0 & 0 & 0 & - \\frac{C_{star0} k \\left(- k_{e square} + m_{u}^{2}\\right)}{2 k_{plus square}} - \\frac{C_{star10} k \\left(k_{plus square} - m_{u}^{2}\\right)}{2 k_{e square}}\\\\0 & - \\frac{U_{star} k}{2} & N_{0 squared} k & -2 & 0 & 0 & 0 & \\frac{k}{k_{e square}} & 0 & 0 & 0 & - \\frac{U_{star} k \\left(k_{plus square} - m_{u}^{2}\\right)}{2 k_{e square}} & 0 & 0 & 0 & 0 & - \\frac{C_{star1} k}{2} - \\frac{C_{star11} k \\left(k_{plus square} - m_{u}^{2}\\right)}{2 k_{e square}}\\\\- N_{0 squared} k & 0 & 0 & 0 & -2 & \\frac{k}{k_{e square}} & - \\frac{U_{star} k \\left(k_{plus square} - m_{u}^{2}\\right)}{2 k_{e square}} & 0 & 0 & 0 & 0 & 0 & \\frac{U_{star} k}{2} & 0 & 0 & 0 & \\frac{C_{star12} k}{2} - \\frac{C_{star6} k \\left(k_{plus square} - m_{u}^{2}\\right)}{2 k_{e square}}\\\\0 & - N_{0 squared} k & 0 & 0 & - N_{0 squared} k & -2 & 0 & \\frac{U_{star} k}{2} & 0 & 0 & 0 & 0 & 0 & \\frac{U_{star} k}{2} & 0 & 0 & \\frac{C_{star13} k}{2} + \\frac{C_{star7} k}{2}\\\\0 & 0 & - N_{0 squared} k & 0 & - \\frac{U_{star} k \\left(- k_{e square} + m_{u}^{2}\\right)}{2 k_{plus square}} & 0 & -2 & - \\frac{k}{k_{plus square}} & 0 & 0 & 0 & 0 & 0 & 0 & \\frac{U_{star} k}{2} & 0 & \\frac{C_{star14} k}{2} - \\frac{C_{star4} k \\left(- k_{e square} + m_{u}^{2}\\right)}{2 k_{plus square}}\\\\0 & 0 & 0 & - N_{0 squared} k & 0 & - \\frac{U_{star} k}{2} & N_{0 squared} k & -2 & 0 & 0 & 0 & 0 & 0 & 0 & 0 & \\frac{U_{star} k}{2} & \\frac{C_{star15} k}{2} - \\frac{C_{star5} k}{2}\\\\- \\frac{U_{star} k \\left(- k_{e square} + m_{u}^{2}\\right)}{2 k_{plus square}} & 0 & 0 & 0 & 0 & 0 & 0 & 0 & -2 & \\frac{k}{k_{e square}} & - \\frac{U_{star} k \\left(k_{plus square} - m_{u}^{2}\\right)}{2 k_{e square}} & 0 & - \\frac{k}{k_{plus square}} & 0 & 0 & 0 & - \\frac{C_{star0} k \\left(- k_{e square} + m_{u}^{2}\\right)}{2 k_{plus square}} - \\frac{C_{star10} k \\left(k_{plus square} - m_{u}^{2}\\right)}{2 k_{e square}}\\\\0 & - \\frac{U_{star} k \\left(- k_{e square} + m_{u}^{2}\\right)}{2 k_{plus square}} & 0 & 0 & 0 & 0 & 0 & 0 & - N_{0 squared} k & -2 & 0 & \\frac{U_{star} k}{2} & 0 & - \\frac{k}{k_{plus square}} & 0 & 0 & - \\frac{C_{star1} k \\left(- k_{e square} + m_{u}^{2}\\right)}{2 k_{plus square}} + \\frac{C_{star11} k}{2}\\\\0 & 0 & - \\frac{U_{star} k \\left(- k_{e square} + m_{u}^{2}\\right)}{2 k_{plus square}} & 0 & 0 & 0 & 0 & 0 & - \\frac{U_{star} k \\left(- k_{e square} + m_{u}^{2}\\right)}{2 k_{plus square}} & 0 & -2 & - \\frac{k}{k_{plus square}} & 0 & 0 & - \\frac{k}{k_{plus square}} & 0 & - \\frac{C_{star2} k \\left(- k_{e square} + m_{u}^{2}\\right)}{2 k_{plus square}} - \\frac{C_{star8} k \\left(- k_{e square} + m_{u}^{2}\\right)}{2 k_{plus square}}\\\\0 & 0 & 0 & - \\frac{U_{star} k \\left(- k_{e square} + m_{u}^{2}\\right)}{2 k_{plus square}} & 0 & 0 & 0 & 0 & 0 & - \\frac{U_{star} k}{2} & N_{0 squared} k & -2 & 0 & 0 & 0 & - \\frac{k}{k_{plus square}} & - \\frac{C_{star3} k \\left(- k_{e square} + m_{u}^{2}\\right)}{2 k_{plus square}} - \\frac{C_{star9} k}{2}\\\\0 & 0 & 0 & 0 & - \\frac{U_{star} k}{2} & 0 & 0 & 0 & N_{0 squared} k & 0 & 0 & 0 & -2 & \\frac{k}{k_{e square}} & - \\frac{U_{star} k \\left(k_{plus square} - m_{u}^{2}\\right)}{2 k_{e square}} & 0 & - \\frac{C_{star14} k \\left(k_{plus square} - m_{u}^{2}\\right)}{2 k_{e square}} - \\frac{C_{star4} k}{2}\\\\0 & 0 & 0 & 0 & 0 & - \\frac{U_{star} k}{2} & 0 & 0 & 0 & N_{0 squared} k & 0 & 0 & - N_{0 squared} k & -2 & 0 & \\frac{U_{star} k}{2} & \\frac{C_{star15} k}{2} - \\frac{C_{star5} k}{2}\\\\0 & 0 & 0 & 0 & 0 & 0 & - \\frac{U_{star} k}{2} & 0 & 0 & 0 & N_{0 squared} k & 0 & - \\frac{U_{star} k \\left(- k_{e square} + m_{u}^{2}\\right)}{2 k_{plus square}} & 0 & -2 & - \\frac{k}{k_{plus square}} & - \\frac{C_{star12} k \\left(- k_{e square} + m_{u}^{2}\\right)}{2 k_{plus square}} - \\frac{C_{star6} k}{2}\\\\0 & 0 & 0 & 0 & 0 & 0 & 0 & - \\frac{U_{star} k}{2} & 0 & 0 & 0 & N_{0 squared} k & 0 & - \\frac{U_{star} k}{2} & N_{0 squared} k & -2 & - \\frac{C_{star13} k}{2} - \\frac{C_{star7} k}{2}\\\\0 & 0 & 0.25 k \\left(- k_{e square} + k_{plus square}\\right) & 0 & 0 & 0 & 0 & 0 & 0 & 0 & 0 & 0 & 0 & 0 & 0 & 0 & - r_{m}\\end{array}\\right]$"
      ],
      "text/plain": [
       "Matrix([\n",
       "[                                                -2,                                       k/k_e_square,  -U_star*k*(k_plus_square - m_u**2)/(2*k_e_square),                                                  0,                                       k/k_e_square,            0,                                                 0,                0,  -U_star*k*(k_plus_square - m_u**2)/(2*k_e_square),                                                 0,                                                 0,                                                 0,                                                  0,                0,                                                 0,                0,   -C_star2*k*(k_plus_square - m_u**2)/(2*k_e_square) - C_star8*k*(k_plus_square - m_u**2)/(2*k_e_square)],\n",
       "[                                    -N_0_squared*k,                                                 -2,                                                  0,                                         U_star*k/2,                                                  0, k/k_e_square,                                                 0,                0,                                                  0, -U_star*k*(k_plus_square - m_u**2)/(2*k_e_square),                                                 0,                                                 0,                                                  0,                0,                                                 0,                0,                                          C_star3*k/2 - C_star9*k*(k_plus_square - m_u**2)/(2*k_e_square)],\n",
       "[-U_star*k*(-k_e_square + m_u**2)/(2*k_plus_square),                                                  0,                                                 -2,                                   -k/k_plus_square,                                                  0,            0,                                      k/k_e_square,                0,                                                  0,                                                 0, -U_star*k*(k_plus_square - m_u**2)/(2*k_e_square),                                                 0,                                                  0,                0,                                                 0,                0, -C_star0*k*(-k_e_square + m_u**2)/(2*k_plus_square) - C_star10*k*(k_plus_square - m_u**2)/(2*k_e_square)],\n",
       "[                                                 0,                                        -U_star*k/2,                                      N_0_squared*k,                                                 -2,                                                  0,            0,                                                 0,     k/k_e_square,                                                  0,                                                 0,                                                 0, -U_star*k*(k_plus_square - m_u**2)/(2*k_e_square),                                                  0,                0,                                                 0,                0,                                        -C_star1*k/2 - C_star11*k*(k_plus_square - m_u**2)/(2*k_e_square)],\n",
       "[                                    -N_0_squared*k,                                                  0,                                                  0,                                                  0,                                                 -2, k/k_e_square, -U_star*k*(k_plus_square - m_u**2)/(2*k_e_square),                0,                                                  0,                                                 0,                                                 0,                                                 0,                                         U_star*k/2,                0,                                                 0,                0,                                         C_star12*k/2 - C_star6*k*(k_plus_square - m_u**2)/(2*k_e_square)],\n",
       "[                                                 0,                                     -N_0_squared*k,                                                  0,                                                  0,                                     -N_0_squared*k,           -2,                                                 0,       U_star*k/2,                                                  0,                                                 0,                                                 0,                                                 0,                                                  0,       U_star*k/2,                                                 0,                0,                                                                               C_star13*k/2 + C_star7*k/2],\n",
       "[                                                 0,                                                  0,                                     -N_0_squared*k,                                                  0, -U_star*k*(-k_e_square + m_u**2)/(2*k_plus_square),            0,                                                -2, -k/k_plus_square,                                                  0,                                                 0,                                                 0,                                                 0,                                                  0,                0,                                        U_star*k/2,                0,                                        C_star14*k/2 - C_star4*k*(-k_e_square + m_u**2)/(2*k_plus_square)],\n",
       "[                                                 0,                                                  0,                                                  0,                                     -N_0_squared*k,                                                  0,  -U_star*k/2,                                     N_0_squared*k,               -2,                                                  0,                                                 0,                                                 0,                                                 0,                                                  0,                0,                                                 0,       U_star*k/2,                                                                               C_star15*k/2 - C_star5*k/2],\n",
       "[-U_star*k*(-k_e_square + m_u**2)/(2*k_plus_square),                                                  0,                                                  0,                                                  0,                                                  0,            0,                                                 0,                0,                                                 -2,                                      k/k_e_square, -U_star*k*(k_plus_square - m_u**2)/(2*k_e_square),                                                 0,                                   -k/k_plus_square,                0,                                                 0,                0, -C_star0*k*(-k_e_square + m_u**2)/(2*k_plus_square) - C_star10*k*(k_plus_square - m_u**2)/(2*k_e_square)],\n",
       "[                                                 0, -U_star*k*(-k_e_square + m_u**2)/(2*k_plus_square),                                                  0,                                                  0,                                                  0,            0,                                                 0,                0,                                     -N_0_squared*k,                                                -2,                                                 0,                                        U_star*k/2,                                                  0, -k/k_plus_square,                                                 0,                0,                                       -C_star1*k*(-k_e_square + m_u**2)/(2*k_plus_square) + C_star11*k/2],\n",
       "[                                                 0,                                                  0, -U_star*k*(-k_e_square + m_u**2)/(2*k_plus_square),                                                  0,                                                  0,            0,                                                 0,                0, -U_star*k*(-k_e_square + m_u**2)/(2*k_plus_square),                                                 0,                                                -2,                                  -k/k_plus_square,                                                  0,                0,                                  -k/k_plus_square,                0, -C_star2*k*(-k_e_square + m_u**2)/(2*k_plus_square) - C_star8*k*(-k_e_square + m_u**2)/(2*k_plus_square)],\n",
       "[                                                 0,                                                  0,                                                  0, -U_star*k*(-k_e_square + m_u**2)/(2*k_plus_square),                                                  0,            0,                                                 0,                0,                                                  0,                                       -U_star*k/2,                                     N_0_squared*k,                                                -2,                                                  0,                0,                                                 0, -k/k_plus_square,                                        -C_star3*k*(-k_e_square + m_u**2)/(2*k_plus_square) - C_star9*k/2],\n",
       "[                                                 0,                                                  0,                                                  0,                                                  0,                                        -U_star*k/2,            0,                                                 0,                0,                                      N_0_squared*k,                                                 0,                                                 0,                                                 0,                                                 -2,     k/k_e_square, -U_star*k*(k_plus_square - m_u**2)/(2*k_e_square),                0,                                        -C_star14*k*(k_plus_square - m_u**2)/(2*k_e_square) - C_star4*k/2],\n",
       "[                                                 0,                                                  0,                                                  0,                                                  0,                                                  0,  -U_star*k/2,                                                 0,                0,                                                  0,                                     N_0_squared*k,                                                 0,                                                 0,                                     -N_0_squared*k,               -2,                                                 0,       U_star*k/2,                                                                               C_star15*k/2 - C_star5*k/2],\n",
       "[                                                 0,                                                  0,                                                  0,                                                  0,                                                  0,            0,                                       -U_star*k/2,                0,                                                  0,                                                 0,                                     N_0_squared*k,                                                 0, -U_star*k*(-k_e_square + m_u**2)/(2*k_plus_square),                0,                                                -2, -k/k_plus_square,                                       -C_star12*k*(-k_e_square + m_u**2)/(2*k_plus_square) - C_star6*k/2],\n",
       "[                                                 0,                                                  0,                                                  0,                                                  0,                                                  0,            0,                                                 0,      -U_star*k/2,                                                  0,                                                 0,                                                 0,                                     N_0_squared*k,                                                  0,      -U_star*k/2,                                     N_0_squared*k,               -2,                                                                              -C_star13*k/2 - C_star7*k/2],\n",
       "[                                                 0,                                                  0,               0.25*k*(-k_e_square + k_plus_square),                                                  0,                                                  0,            0,                                                 0,                0,                                                  0,                                                 0,                                                 0,                                                 0,                                                  0,                0,                                                 0,                0,                                                                                                     -r_m]])"
      ]
     },
     "execution_count": 8,
     "metadata": {},
     "output_type": "execute_result"
    }
   ],
   "source": [
    "A"
   ]
  },
  {
   "cell_type": "code",
   "execution_count": 9,
   "metadata": {},
   "outputs": [
    {
     "data": {
      "text/plain": [
       "<bound method MatrixBase.eigenvals of Matrix([\n",
       "[                                                -2,                                       k/k_e_square,  -U_star*k*(k_plus_square - m_u**2)/(2*k_e_square),                                                  0,                                       k/k_e_square,            0,                                                 0,                0,  -U_star*k*(k_plus_square - m_u**2)/(2*k_e_square),                                                 0,                                                 0,                                                 0,                                                  0,                0,                                                 0,                0,   -C_star2*k*(k_plus_square - m_u**2)/(2*k_e_square) - C_star8*k*(k_plus_square - m_u**2)/(2*k_e_square)],\n",
       "[                                    -N_0_squared*k,                                                 -2,                                                  0,                                         U_star*k/2,                                                  0, k/k_e_square,                                                 0,                0,                                                  0, -U_star*k*(k_plus_square - m_u**2)/(2*k_e_square),                                                 0,                                                 0,                                                  0,                0,                                                 0,                0,                                          C_star3*k/2 - C_star9*k*(k_plus_square - m_u**2)/(2*k_e_square)],\n",
       "[-U_star*k*(-k_e_square + m_u**2)/(2*k_plus_square),                                                  0,                                                 -2,                                   -k/k_plus_square,                                                  0,            0,                                      k/k_e_square,                0,                                                  0,                                                 0, -U_star*k*(k_plus_square - m_u**2)/(2*k_e_square),                                                 0,                                                  0,                0,                                                 0,                0, -C_star0*k*(-k_e_square + m_u**2)/(2*k_plus_square) - C_star10*k*(k_plus_square - m_u**2)/(2*k_e_square)],\n",
       "[                                                 0,                                        -U_star*k/2,                                      N_0_squared*k,                                                 -2,                                                  0,            0,                                                 0,     k/k_e_square,                                                  0,                                                 0,                                                 0, -U_star*k*(k_plus_square - m_u**2)/(2*k_e_square),                                                  0,                0,                                                 0,                0,                                        -C_star1*k/2 - C_star11*k*(k_plus_square - m_u**2)/(2*k_e_square)],\n",
       "[                                    -N_0_squared*k,                                                  0,                                                  0,                                                  0,                                                 -2, k/k_e_square, -U_star*k*(k_plus_square - m_u**2)/(2*k_e_square),                0,                                                  0,                                                 0,                                                 0,                                                 0,                                         U_star*k/2,                0,                                                 0,                0,                                         C_star12*k/2 - C_star6*k*(k_plus_square - m_u**2)/(2*k_e_square)],\n",
       "[                                                 0,                                     -N_0_squared*k,                                                  0,                                                  0,                                     -N_0_squared*k,           -2,                                                 0,       U_star*k/2,                                                  0,                                                 0,                                                 0,                                                 0,                                                  0,       U_star*k/2,                                                 0,                0,                                                                               C_star13*k/2 + C_star7*k/2],\n",
       "[                                                 0,                                                  0,                                     -N_0_squared*k,                                                  0, -U_star*k*(-k_e_square + m_u**2)/(2*k_plus_square),            0,                                                -2, -k/k_plus_square,                                                  0,                                                 0,                                                 0,                                                 0,                                                  0,                0,                                        U_star*k/2,                0,                                        C_star14*k/2 - C_star4*k*(-k_e_square + m_u**2)/(2*k_plus_square)],\n",
       "[                                                 0,                                                  0,                                                  0,                                     -N_0_squared*k,                                                  0,  -U_star*k/2,                                     N_0_squared*k,               -2,                                                  0,                                                 0,                                                 0,                                                 0,                                                  0,                0,                                                 0,       U_star*k/2,                                                                               C_star15*k/2 - C_star5*k/2],\n",
       "[-U_star*k*(-k_e_square + m_u**2)/(2*k_plus_square),                                                  0,                                                  0,                                                  0,                                                  0,            0,                                                 0,                0,                                                 -2,                                      k/k_e_square, -U_star*k*(k_plus_square - m_u**2)/(2*k_e_square),                                                 0,                                   -k/k_plus_square,                0,                                                 0,                0, -C_star0*k*(-k_e_square + m_u**2)/(2*k_plus_square) - C_star10*k*(k_plus_square - m_u**2)/(2*k_e_square)],\n",
       "[                                                 0, -U_star*k*(-k_e_square + m_u**2)/(2*k_plus_square),                                                  0,                                                  0,                                                  0,            0,                                                 0,                0,                                     -N_0_squared*k,                                                -2,                                                 0,                                        U_star*k/2,                                                  0, -k/k_plus_square,                                                 0,                0,                                       -C_star1*k*(-k_e_square + m_u**2)/(2*k_plus_square) + C_star11*k/2],\n",
       "[                                                 0,                                                  0, -U_star*k*(-k_e_square + m_u**2)/(2*k_plus_square),                                                  0,                                                  0,            0,                                                 0,                0, -U_star*k*(-k_e_square + m_u**2)/(2*k_plus_square),                                                 0,                                                -2,                                  -k/k_plus_square,                                                  0,                0,                                  -k/k_plus_square,                0, -C_star2*k*(-k_e_square + m_u**2)/(2*k_plus_square) - C_star8*k*(-k_e_square + m_u**2)/(2*k_plus_square)],\n",
       "[                                                 0,                                                  0,                                                  0, -U_star*k*(-k_e_square + m_u**2)/(2*k_plus_square),                                                  0,            0,                                                 0,                0,                                                  0,                                       -U_star*k/2,                                     N_0_squared*k,                                                -2,                                                  0,                0,                                                 0, -k/k_plus_square,                                        -C_star3*k*(-k_e_square + m_u**2)/(2*k_plus_square) - C_star9*k/2],\n",
       "[                                                 0,                                                  0,                                                  0,                                                  0,                                        -U_star*k/2,            0,                                                 0,                0,                                      N_0_squared*k,                                                 0,                                                 0,                                                 0,                                                 -2,     k/k_e_square, -U_star*k*(k_plus_square - m_u**2)/(2*k_e_square),                0,                                        -C_star14*k*(k_plus_square - m_u**2)/(2*k_e_square) - C_star4*k/2],\n",
       "[                                                 0,                                                  0,                                                  0,                                                  0,                                                  0,  -U_star*k/2,                                                 0,                0,                                                  0,                                     N_0_squared*k,                                                 0,                                                 0,                                     -N_0_squared*k,               -2,                                                 0,       U_star*k/2,                                                                               C_star15*k/2 - C_star5*k/2],\n",
       "[                                                 0,                                                  0,                                                  0,                                                  0,                                                  0,            0,                                       -U_star*k/2,                0,                                                  0,                                                 0,                                     N_0_squared*k,                                                 0, -U_star*k*(-k_e_square + m_u**2)/(2*k_plus_square),                0,                                                -2, -k/k_plus_square,                                       -C_star12*k*(-k_e_square + m_u**2)/(2*k_plus_square) - C_star6*k/2],\n",
       "[                                                 0,                                                  0,                                                  0,                                                  0,                                                  0,            0,                                                 0,      -U_star*k/2,                                                  0,                                                 0,                                                 0,                                     N_0_squared*k,                                                  0,      -U_star*k/2,                                     N_0_squared*k,               -2,                                                                              -C_star13*k/2 - C_star7*k/2],\n",
       "[                                                 0,                                                  0,               0.25*k*(-k_e_square + k_plus_square),                                                  0,                                                  0,            0,                                                 0,                0,                                                  0,                                                 0,                                                 0,                                                 0,                                                  0,                0,                                                 0,                0,                                                                                                     -r_m]])>"
      ]
     },
     "execution_count": 9,
     "metadata": {},
     "output_type": "execute_result"
    }
   ],
   "source": [
    "A.eigenvals"
   ]
  },
  {
   "cell_type": "code",
   "execution_count": 10,
   "metadata": {},
   "outputs": [
    {
     "name": "stdout",
     "output_type": "stream",
     "text": [
      "Running simulation 0\n",
      "Running simulation 1\n",
      "Running simulation 2\n",
      "Running simulation 3\n",
      "Running simulation 4\n",
      "Running simulation 5\n",
      "Running simulation 6\n",
      "Running simulation 7\n",
      "Running simulation 8\n",
      "Running simulation 9\n",
      "Running simulation 10\n",
      "Running simulation 11\n",
      "Running simulation 12\n",
      "Running simulation 13\n",
      "Running simulation 14\n",
      "Running simulation 15\n",
      "Running simulation 16\n",
      "Running simulation 17\n",
      "Running simulation 18\n",
      "Running simulation 19\n",
      "Running simulation 20\n",
      "Running simulation 21\n",
      "Running simulation 22\n",
      "Running simulation 23\n",
      "Running simulation 24\n",
      "Running simulation 25\n",
      "Running simulation 26\n",
      "Running simulation 27\n",
      "Running simulation 28\n",
      "Running simulation 29\n",
      "Running simulation 30\n",
      "Running simulation 31\n",
      "Running simulation 32\n",
      "Running simulation 33\n",
      "Running simulation 34\n",
      "Running simulation 35\n",
      "Running simulation 36\n",
      "Running simulation 37\n",
      "Running simulation 38\n",
      "Running simulation 39\n",
      "Running simulation 40\n",
      "Running simulation 41\n",
      "Running simulation 42\n",
      "Running simulation 43\n",
      "Running simulation 44\n",
      "Running simulation 45\n",
      "Running simulation 46\n",
      "Running simulation 47\n",
      "Running simulation 48\n",
      "Running simulation 49\n",
      "Running simulation 50\n",
      "Running simulation 51\n",
      "Running simulation 52\n",
      "Running simulation 53\n",
      "Running simulation 54\n",
      "Running simulation 55\n",
      "Running simulation 56\n",
      "Running simulation 57\n",
      "Running simulation 58\n",
      "Running simulation 59\n",
      "Running simulation 60\n",
      "Running simulation 61\n",
      "Running simulation 62\n",
      "Running simulation 63\n",
      "Running simulation 64\n",
      "Running simulation 65\n",
      "Running simulation 66\n",
      "Running simulation 67\n",
      "Running simulation 68\n",
      "Running simulation 69\n",
      "Running simulation 70\n",
      "Running simulation 71\n",
      "Running simulation 72\n",
      "Running simulation 73\n",
      "Running simulation 74\n",
      "Running simulation 75\n",
      "Running simulation 76\n",
      "Running simulation 77\n",
      "Running simulation 78\n",
      "Running simulation 79\n",
      "Running simulation 80\n",
      "Running simulation 81\n",
      "Running simulation 82\n",
      "Running simulation 83\n",
      "Running simulation 84\n",
      "Running simulation 85\n",
      "Running simulation 86\n",
      "Running simulation 87\n",
      "Running simulation 88\n",
      "Running simulation 89\n",
      "Running simulation 90\n",
      "Running simulation 91\n",
      "Running simulation 92\n",
      "Running simulation 93\n",
      "Running simulation 94\n",
      "Running simulation 95\n",
      "Running simulation 96\n",
      "Running simulation 97\n",
      "Running simulation 98\n",
      "Running simulation 99\n"
     ]
    }
   ],
   "source": [
    "class SimulationSSD:\n",
    "    def __init__(self, epsilon, N_0_squared, r_m, k, m, m_u, dt, total_time):\n",
    "\n",
    "        #Make sure this is updated\n",
    "\n",
    "        self.epsilon = epsilon\n",
    "        self.N_0_squared = N_0_squared\n",
    "        self.r_m = r_m    \n",
    "        self.k = k\n",
    "        self.m = m\n",
    "        self.m_u = m_u\n",
    "        self.dt = dt\n",
    "        self.total_time = total_time\n",
    "        self.num_steps = int(total_time / dt)\n",
    "        self.k_e_square = k**2 + m**2\n",
    "        self.k_plus_square = k**2 + (m + m_u)**2\n",
    "\n",
    "        self.W_e = np.array([[-1, (k / self.k_e_square)], [-k * N_0_squared, -1]])\n",
    "        self.W_plus = np.array([[-1, -k / self.k_plus_square], [k * N_0_squared, -1]])\n",
    "        self.L_e_plus = np.array([[(-k / (2 * self.k_e_square)) * (self.k_plus_square - m_u**2), 0],\n",
    "                                  [0, k / 2]])\n",
    "        self.L_plus_e = np.array([[(-k / (2 * self.k_plus_square)) * (m_u**2 - self.k_e_square), 0],\n",
    "                                  [0, -k / 2]]) \n",
    "        self.U = 0.01\n",
    "        self.C = np.array([[0, 0, 0, 0], [0, 0, 0, 0], [0, 0, 0, 0], [0, 0, 0, 0]])\n",
    "\n",
    "        self.A_U = np.array([[-1, (k / self.k_e_square), self.U*(-k / (2 * self.k_e_square)) * (self.k_plus_square - m_u**2), self.U*0],\n",
    "                             \n",
    "                             [-k * N_0_squared, -1, self.U*0, self.U*self.k/2],\n",
    "\n",
    "                             [self.U*(-k / (2 * self.k_plus_square)) * (m_u**2 - self.k_e_square), self.U*0, -1, -self.k/self.k_plus_square],\n",
    "\n",
    "                             [self.U*0, self.U* -k / 2,k * N_0_squared, -1]])  \n",
    "    \n",
    "        self.Q = np.array([[8/self.k_e_square, 0, 0, 0], [0, 0, 0, 0], [0, 0, 0, 0], [0, 0, 0, 0]])\n",
    "        self.R = 0\n",
    "        self.C_History = np.zeros((self.num_steps, 4, 4))              \n",
    "        # self.C_History = np.zeros(self.num_steps)\n",
    "        self.U_History = np.zeros(self.num_steps)\n",
    "        self.R_History = np.zeros(self.num_steps)\n",
    "        self.C = self.C.astype(np.float64)\n",
    "\n",
    "    def simulate(self):\n",
    "        for i in range(self.num_steps):\n",
    "\n",
    "            self.A_U = np.array([[-1, (k / self.k_e_square), self.U*(-k / (2 * self.k_e_square)) * (self.k_plus_square - m_u**2), self.U*0],\n",
    "                             \n",
    "                             [-k * N_0_squared, -1, self.U*0, self.U*self.k/2],\n",
    "\n",
    "                             [self.U*(-k / (2 * self.k_plus_square)) * (m_u**2 - self.k_e_square), self.U*0, -1, -self.k/self.k_plus_square],\n",
    "\n",
    "                             [self.U*0, self.U* -k / 2,k * N_0_squared, -1]]) \n",
    "                             \n",
    " \n",
    "            C_dot = (self.A_U @ self.C + self.C @ np.transpose(self.A_U) + self.epsilon * self.Q) \n",
    "            U_dot = (self.R - self.r_m * self.U)\n",
    "\n",
    "            \n",
    "            self.C += C_dot * self.dt\n",
    "            self.U += U_dot * self.dt\n",
    "            self.R = 0.25 * self.k * (self.k_plus_square - self.k_e_square) * self.C[0][2]\n",
    "\n",
    "            self.C_History[i] = self.C\n",
    "            self.U_History[i] = self.U\n",
    "            self.R_History[i] = self.R\n",
    "\n",
    "    def make_plots(self):\n",
    "\n",
    "        time_array = np.arange(0, self.total_time, .001)\n",
    "        fig, axs = plt.subplots(1, 2, figsize = (15, 5))\n",
    "\n",
    "       \n",
    "        axs[0].plot(time_array, self.U_History)\n",
    "        axs[0].set_title(f\"U History\")\n",
    "        axs[0].grid()\n",
    "        axs[1].plot(time_array, self.R_History)\n",
    "        axs[1].set_title(f\"R Values\")\n",
    "        axs[1].grid()\n",
    "\n",
    "\n",
    "        plt.show()\n",
    "\n",
    "\n",
    "if __name__ == \"__main__\":\n",
    "    epsilon_values = np.linspace(0.06, 0.24, 10)\n",
    "    N_0_squared_values = np.linspace(150, 640, 10)\n",
    "    combo_list = list(itertools.product(epsilon_values, N_0_squared_values))\n",
    "\n",
    "    r_m = 0.1\n",
    "    k = 2 * np.pi * 6\n",
    "    m = 2 * np.pi * 3\n",
    "    m_u = 2 * np.pi * 7\n",
    "    dt = 0.001\n",
    "    total_time = 200\n",
    "\n",
    "    k_e_square = k**2 + m**2\n",
    "    simulations = []\n",
    "    for idx, (epsilon, N_0_squared) in enumerate(combo_list):\n",
    "        print(f\"Running simulation {idx}\")\n",
    "        sim = SimulationSSD(epsilon, N_0_squared, r_m, k, m, m_u, dt, total_time)\n",
    "        sim.simulate()\n",
    "        simulations.append(sim)\n",
    "        globals()[f'sim{idx}'] = sim\n",
    "        globals()[f'sim{idx}Ustar'] = sim.U_History[-1]\n",
    "        globals()[f'sim{idx}Cstar'] = sim.C_History[-1]\n",
    "        del sim"
   ]
  },
  {
   "cell_type": "code",
   "execution_count": 11,
   "metadata": {},
   "outputs": [
    {
     "name": "stdout",
     "output_type": "stream",
     "text": [
      "[[ 4.02752423e-05 -4.09276821e-03  8.03611845e-07 -3.91546822e-03]\n",
      " [-4.09276821e-03  1.24882202e+01  2.55762625e-03 -2.07762869e+00]\n",
      " [ 8.03611845e-07  2.55762625e-03  7.47137706e-06 -1.08132958e-03]\n",
      " [-3.91546822e-03 -2.07762869e+00 -1.08132958e-03  4.54106411e+00]]\n"
     ]
    }
   ],
   "source": [
    "print(sim0Cstar)"
   ]
  },
  {
   "cell_type": "code",
   "execution_count": 12,
   "metadata": {},
   "outputs": [],
   "source": [
    "# for idx in range(len(combo_list)):\n",
    "#     print(f\"Calculating eigenvalues for simulation {idx}\")\n",
    "#     U_star_val = globals()[f'sim{idx}Ustar']\n",
    "#     C_star_val = globals()[f'sim{idx}Cstar']\n",
    "#     epsilon_val, N_0_squared_val = combo_list[idx]\n",
    "\n",
    "#     C_star_subs = {f'C_star{i}': C_star_val[i//4, i % 4] for i in range(16)} \n",
    "#     subs_dict = {'U_star': U_star_val, **C_star_subs}\n",
    "\n",
    "#     subs_dict.update({'r_m': r_m_val, 'k': k_val, 'm': m_val, 'm_u': m_u_val, 'dt': dt_val, 'total_time': total_time_val, 'k_e_square': k_e_square_val, 'k_plus_square': k_plus_square_val, 'epsilon': epsilon_val, 'N_0_squared': N_0_squared_val})\n",
    "#     A_subs = A.subs(subs_dict)\n",
    "#     # A_numeric = np.array(A_subs).astype(np.complex128)\n",
    "#     # eigenvalues, eigenvectors = np.linalg.eig(A_numeric)\n",
    "#     eigenvalues = A_subs.eigenvals()\n",
    "#     globals()[f'Eigenvalues{idx}'] = eigenvalues\n"
   ]
  },
  {
   "cell_type": "code",
   "execution_count": 13,
   "metadata": {},
   "outputs": [
    {
     "name": "stdout",
     "output_type": "stream",
     "text": [
      "Calculating eigenvalues for simulation 0\n",
      "Calculating eigenvalues for simulation 1\n",
      "Calculating eigenvalues for simulation 2\n",
      "Calculating eigenvalues for simulation 3\n",
      "Calculating eigenvalues for simulation 4\n",
      "Calculating eigenvalues for simulation 5\n",
      "Calculating eigenvalues for simulation 6\n",
      "Calculating eigenvalues for simulation 7\n",
      "Calculating eigenvalues for simulation 8\n",
      "Calculating eigenvalues for simulation 9\n",
      "Calculating eigenvalues for simulation 10\n",
      "Calculating eigenvalues for simulation 11\n",
      "Calculating eigenvalues for simulation 12\n",
      "Calculating eigenvalues for simulation 13\n",
      "Calculating eigenvalues for simulation 14\n",
      "Calculating eigenvalues for simulation 15\n",
      "Calculating eigenvalues for simulation 16\n",
      "Calculating eigenvalues for simulation 17\n",
      "Calculating eigenvalues for simulation 18\n",
      "Calculating eigenvalues for simulation 19\n",
      "Calculating eigenvalues for simulation 20\n",
      "Calculating eigenvalues for simulation 21\n",
      "Calculating eigenvalues for simulation 22\n",
      "Calculating eigenvalues for simulation 23\n",
      "Calculating eigenvalues for simulation 24\n",
      "Calculating eigenvalues for simulation 25\n",
      "Calculating eigenvalues for simulation 26\n",
      "Calculating eigenvalues for simulation 27\n",
      "Calculating eigenvalues for simulation 28\n",
      "Calculating eigenvalues for simulation 29\n",
      "Calculating eigenvalues for simulation 30\n",
      "Calculating eigenvalues for simulation 31\n",
      "Calculating eigenvalues for simulation 32\n",
      "Calculating eigenvalues for simulation 33\n",
      "Calculating eigenvalues for simulation 34\n",
      "Calculating eigenvalues for simulation 35\n",
      "Calculating eigenvalues for simulation 36\n",
      "Calculating eigenvalues for simulation 37\n",
      "Calculating eigenvalues for simulation 38\n",
      "Calculating eigenvalues for simulation 39\n",
      "Calculating eigenvalues for simulation 40\n",
      "Calculating eigenvalues for simulation 41\n",
      "Calculating eigenvalues for simulation 42\n",
      "Calculating eigenvalues for simulation 43\n",
      "Calculating eigenvalues for simulation 44\n",
      "Calculating eigenvalues for simulation 45\n",
      "Calculating eigenvalues for simulation 46\n",
      "Calculating eigenvalues for simulation 47\n",
      "Calculating eigenvalues for simulation 48\n",
      "Calculating eigenvalues for simulation 49\n",
      "Calculating eigenvalues for simulation 50\n",
      "Calculating eigenvalues for simulation 51\n",
      "Calculating eigenvalues for simulation 52\n",
      "Calculating eigenvalues for simulation 53\n",
      "Calculating eigenvalues for simulation 54\n",
      "Calculating eigenvalues for simulation 55\n",
      "Calculating eigenvalues for simulation 56\n",
      "Calculating eigenvalues for simulation 57\n",
      "Calculating eigenvalues for simulation 58\n",
      "Calculating eigenvalues for simulation 59\n",
      "Calculating eigenvalues for simulation 60\n",
      "Calculating eigenvalues for simulation 61\n",
      "Calculating eigenvalues for simulation 62\n",
      "Calculating eigenvalues for simulation 63\n",
      "Calculating eigenvalues for simulation 64\n",
      "Calculating eigenvalues for simulation 65\n",
      "Calculating eigenvalues for simulation 66\n",
      "Calculating eigenvalues for simulation 67\n",
      "Calculating eigenvalues for simulation 68\n",
      "Calculating eigenvalues for simulation 69\n",
      "Calculating eigenvalues for simulation 70\n",
      "Calculating eigenvalues for simulation 71\n",
      "Calculating eigenvalues for simulation 72\n",
      "Calculating eigenvalues for simulation 73\n",
      "Calculating eigenvalues for simulation 74\n",
      "Calculating eigenvalues for simulation 75\n",
      "Calculating eigenvalues for simulation 76\n",
      "Calculating eigenvalues for simulation 77\n",
      "Calculating eigenvalues for simulation 78\n",
      "Calculating eigenvalues for simulation 79\n",
      "Calculating eigenvalues for simulation 80\n",
      "Calculating eigenvalues for simulation 81\n",
      "Calculating eigenvalues for simulation 82\n",
      "Calculating eigenvalues for simulation 83\n",
      "Calculating eigenvalues for simulation 84\n",
      "Calculating eigenvalues for simulation 85\n",
      "Calculating eigenvalues for simulation 86\n",
      "Calculating eigenvalues for simulation 87\n",
      "Calculating eigenvalues for simulation 88\n",
      "Calculating eigenvalues for simulation 89\n",
      "Calculating eigenvalues for simulation 90\n",
      "Calculating eigenvalues for simulation 91\n",
      "Calculating eigenvalues for simulation 92\n",
      "Calculating eigenvalues for simulation 93\n",
      "Calculating eigenvalues for simulation 94\n",
      "Calculating eigenvalues for simulation 95\n",
      "Calculating eigenvalues for simulation 96\n",
      "Calculating eigenvalues for simulation 97\n",
      "Calculating eigenvalues for simulation 98\n",
      "Calculating eigenvalues for simulation 99\n"
     ]
    }
   ],
   "source": [
    "for idx in range(len(combo_list)):\n",
    "    print(f\"Calculating eigenvalues for simulation {idx}\")\n",
    "    U_star_val = globals()[f'sim{idx}Ustar']\n",
    "    C_star_val = globals()[f'sim{idx}Cstar']\n",
    "    epsilon_val, N_0_squared_val = combo_list[idx]\n",
    "\n",
    "    C_star_subs = {f'C_star{i}': C_star_val[i // 4, i % 4] for i in range(16)}\n",
    "    subs_dict = {'U_star': U_star_val, **C_star_subs}\n",
    "\n",
    "    subs_dict.update({'r_m': r_m_val, 'k': k_val, 'm': m_val, 'm_u': m_u_val, 'dt': dt_val, 'total_time': total_time_val, 'k_e_square': k_e_square_val, 'k_plus_square': k_plus_square_val, 'epsilon': epsilon_val, 'N_0_squared': N_0_squared_val})\n",
    "    A_subs = A.subs(subs_dict)\n",
    "    # A_numeric = np.array(A_subs).astype(np.complex128)\n",
    "    # eigenvalues, eigenvectors = np.linalg.eig(A_numeric)\n",
    "    eigenvalues = A_subs.eigenvals()\n",
    "    globals()[f'Eigenvalues{idx}'] = eigenvalues\n"
   ]
  },
  {
   "cell_type": "code",
   "execution_count": 14,
   "metadata": {},
   "outputs": [],
   "source": [
    "# Eigenvalues0"
   ]
  },
  {
   "cell_type": "markdown",
   "metadata": {},
   "source": [
    "Massive W right here"
   ]
  },
  {
   "cell_type": "code",
   "execution_count": 15,
   "metadata": {},
   "outputs": [],
   "source": [
    "# combo_list = [(.06, 150)]\n",
    "# for idx in range(len(combo_list)):\n",
    "#     # print(f\"Calculating eigenvalues for simulation {idx}\")\n",
    "#     U_star_val = globals()[f'sim{idx}Ustar']\n",
    "#     C_star_val = globals()[f'sim{idx}Cstar']\n",
    "#     epsilon_val, N_0_squared_val = combo_list[idx]\n",
    "\n",
    "#     C_star_subs = {f'C_star{i}': C_star_val[i // 4, i % 4] for i in range(16)} #change here\n",
    "#     subs_dict = {'U_star': U_star_val, **C_star_subs}\n",
    "\n",
    "#     subs_dict.update({'r_m': r_m_val, 'k': k_val, 'm': m_val, 'm_u': m_u_val, 'dt': dt_val, 'total_time': total_time_val, 'k_e_square': k_e_square_val, 'k_plus_square': k_plus_square_val, 'epsilon': epsilon_val, 'N_0_squared': N_0_squared_val})\n",
    "#     A_subs = A.subs(subs_dict)\n",
    "#     # A_numeric = np.array(A_subs).astype(np.complex128)\n",
    "#     # eigenvalues, eigenvectors = np.linalg.eig(A_numeric)\n",
    "#     # eigenvalues = A_subs.eigenvals()\n",
    "#     # globals()[f'Eigenvalues{idx}'] = eigenvalues\n",
    "# A_subs"
   ]
  },
  {
   "cell_type": "code",
   "execution_count": 16,
   "metadata": {},
   "outputs": [],
   "source": [
    "def derive_max_eigenvalue(matrix):\n",
    "    eigenvalues = matrix.eigenvals()\n",
    "    real_parts = []\n",
    "\n",
    "    for eig, multiplicity in eigenvalues.items():\n",
    "        real_part = simplify(eig.as_real_imag()[0]) \n",
    "        real_parts.append(real_part)\n",
    "\n",
    "    return max(real_parts) \n"
   ]
  },
  {
   "cell_type": "code",
   "execution_count": 17,
   "metadata": {},
   "outputs": [
    {
     "name": "stdout",
     "output_type": "stream",
     "text": [
      "Calculating eigenvalues for simulation 0\n",
      "Calculating eigenvalues for simulation 1\n",
      "Calculating eigenvalues for simulation 2\n",
      "Calculating eigenvalues for simulation 3\n",
      "Calculating eigenvalues for simulation 4\n",
      "Calculating eigenvalues for simulation 5\n",
      "Calculating eigenvalues for simulation 6\n",
      "Calculating eigenvalues for simulation 7\n",
      "Calculating eigenvalues for simulation 8\n",
      "Calculating eigenvalues for simulation 9\n",
      "Calculating eigenvalues for simulation 10\n",
      "Calculating eigenvalues for simulation 11\n",
      "Calculating eigenvalues for simulation 12\n",
      "Calculating eigenvalues for simulation 13\n",
      "Calculating eigenvalues for simulation 14\n",
      "Calculating eigenvalues for simulation 15\n",
      "Calculating eigenvalues for simulation 16\n",
      "Calculating eigenvalues for simulation 17\n",
      "Calculating eigenvalues for simulation 18\n",
      "Calculating eigenvalues for simulation 19\n",
      "Calculating eigenvalues for simulation 20\n",
      "Calculating eigenvalues for simulation 21\n",
      "Calculating eigenvalues for simulation 22\n",
      "Calculating eigenvalues for simulation 23\n",
      "Calculating eigenvalues for simulation 24\n",
      "Calculating eigenvalues for simulation 25\n",
      "Calculating eigenvalues for simulation 26\n",
      "Calculating eigenvalues for simulation 27\n",
      "Calculating eigenvalues for simulation 28\n",
      "Calculating eigenvalues for simulation 29\n",
      "Calculating eigenvalues for simulation 30\n",
      "Calculating eigenvalues for simulation 31\n",
      "Calculating eigenvalues for simulation 32\n",
      "Calculating eigenvalues for simulation 33\n",
      "Calculating eigenvalues for simulation 34\n",
      "Calculating eigenvalues for simulation 35\n",
      "Calculating eigenvalues for simulation 36\n",
      "Calculating eigenvalues for simulation 37\n",
      "Calculating eigenvalues for simulation 38\n",
      "Calculating eigenvalues for simulation 39\n",
      "Calculating eigenvalues for simulation 40\n",
      "Calculating eigenvalues for simulation 41\n",
      "Calculating eigenvalues for simulation 42\n",
      "Calculating eigenvalues for simulation 43\n",
      "Calculating eigenvalues for simulation 44\n",
      "Calculating eigenvalues for simulation 45\n",
      "Calculating eigenvalues for simulation 46\n",
      "Calculating eigenvalues for simulation 47\n",
      "Calculating eigenvalues for simulation 48\n",
      "Calculating eigenvalues for simulation 49\n",
      "Calculating eigenvalues for simulation 50\n",
      "Calculating eigenvalues for simulation 51\n",
      "Calculating eigenvalues for simulation 52\n",
      "Calculating eigenvalues for simulation 53\n",
      "Calculating eigenvalues for simulation 54\n",
      "Calculating eigenvalues for simulation 55\n",
      "Calculating eigenvalues for simulation 56\n",
      "Calculating eigenvalues for simulation 57\n",
      "Calculating eigenvalues for simulation 58\n",
      "Calculating eigenvalues for simulation 59\n",
      "Calculating eigenvalues for simulation 60\n",
      "Calculating eigenvalues for simulation 61\n",
      "Calculating eigenvalues for simulation 62\n",
      "Calculating eigenvalues for simulation 63\n",
      "Calculating eigenvalues for simulation 64\n",
      "Calculating eigenvalues for simulation 65\n",
      "Calculating eigenvalues for simulation 66\n",
      "Calculating eigenvalues for simulation 67\n",
      "Calculating eigenvalues for simulation 68\n",
      "Calculating eigenvalues for simulation 69\n",
      "Calculating eigenvalues for simulation 70\n",
      "Calculating eigenvalues for simulation 71\n",
      "Calculating eigenvalues for simulation 72\n",
      "Calculating eigenvalues for simulation 73\n",
      "Calculating eigenvalues for simulation 74\n",
      "Calculating eigenvalues for simulation 75\n",
      "Calculating eigenvalues for simulation 76\n",
      "Calculating eigenvalues for simulation 77\n",
      "Calculating eigenvalues for simulation 78\n",
      "Calculating eigenvalues for simulation 79\n",
      "Calculating eigenvalues for simulation 80\n",
      "Calculating eigenvalues for simulation 81\n",
      "Calculating eigenvalues for simulation 82\n",
      "Calculating eigenvalues for simulation 83\n",
      "Calculating eigenvalues for simulation 84\n",
      "Calculating eigenvalues for simulation 85\n",
      "Calculating eigenvalues for simulation 86\n",
      "Calculating eigenvalues for simulation 87\n",
      "Calculating eigenvalues for simulation 88\n",
      "Calculating eigenvalues for simulation 89\n",
      "Calculating eigenvalues for simulation 90\n",
      "Calculating eigenvalues for simulation 91\n",
      "Calculating eigenvalues for simulation 92\n",
      "Calculating eigenvalues for simulation 93\n",
      "Calculating eigenvalues for simulation 94\n",
      "Calculating eigenvalues for simulation 95\n",
      "Calculating eigenvalues for simulation 96\n",
      "Calculating eigenvalues for simulation 97\n",
      "Calculating eigenvalues for simulation 98\n",
      "Calculating eigenvalues for simulation 99\n"
     ]
    }
   ],
   "source": [
    "stabilityStat = []\n",
    "for idx in range(len(combo_list)):\n",
    "    print(f\"Calculating eigenvalues for simulation {idx}\")\n",
    "    U_star_val = globals()[f'sim{idx}Ustar']\n",
    "    C_star_val = globals()[f'sim{idx}Cstar']\n",
    "    epsilon_val, N_0_squared_val = combo_list[idx]\n",
    "\n",
    "    C_star_subs = {f'C_star{i}': C_star_val[i // 4, i % 4] for i in range(16)} \n",
    "    subs_dict = {'U_star': U_star_val, **C_star_subs}\n",
    "\n",
    "    subs_dict.update({'r_m': r_m_val, 'k': k_val, 'm': m_val, 'm_u': m_u_val, 'dt': dt_val, 'total_time': total_time_val, 'k_e_square': k_e_square_val, 'k_plus_square': k_plus_square_val, 'epsilon': epsilon_val, 'N_0_squared': N_0_squared_val})\n",
    "    A_subs = A.subs(subs_dict)\n",
    "    A_subs = (A_subs + A_subs.T)/2 #change\n",
    "    stabilityIndicator = derive_max_eigenvalue(A_subs)\n",
    "    stabilityStat.append(float(stabilityIndicator))\n"
   ]
  },
  {
   "cell_type": "code",
   "execution_count": 137,
   "metadata": {},
   "outputs": [
    {
     "data": {
      "text/plain": [
       "{-2.0 - 16.9669511535006*I: 1,\n",
       " -2.0 + 16.9669511535006*I: 1,\n",
       " -2.0 - 9.4633356081941*I: 1,\n",
       " -2.0 + 9.4633356081941*I: 1,\n",
       " -1.99863777058245 - 26.522214819026*I: 1,\n",
       " -1.99863777058245 + 26.522214819026*I: 1,\n",
       " -1.9534196572004 - 17.5127441038743*I: 1,\n",
       " -0.370218189165144 - 9.55229726515369*I: 1,\n",
       " -2.3135772722923 - 8.94320520891369*I: 1,\n",
       " -1.9534196572004 + 17.5127441038743*I: 1,\n",
       " -2.82829422151942 - 6.56783364715292e-61*I: 1,\n",
       " -2.0 + 4.92412256422902e-63*I: 1,\n",
       " -2.0 - 2.53437336684871e-63*I: 1,\n",
       " -2.0 - 4.0932941844741e-29*I: 1,\n",
       " -2.0 + 4.0932941844741e-29*I: 1,\n",
       " -2.3135772722923 + 8.94320520891369*I: 1,\n",
       " -0.370218189165144 + 9.55229726515369*I: 1}"
      ]
     },
     "execution_count": 137,
     "metadata": {},
     "output_type": "execute_result"
    }
   ],
   "source": [
    "A_subs.eigenvals()"
   ]
  },
  {
   "cell_type": "code",
   "execution_count": 18,
   "metadata": {},
   "outputs": [
    {
     "name": "stdout",
     "output_type": "stream",
     "text": [
      "[17424.122459511582, 17879.73388169468, 18509.99134431758, 19329.229721482985, 20340.91781600212, 21534.68727656517, 22888.940396513648, 24376.864277415014, 25972.011845810244, 27651.45302308802, 17425.79889394907, 17883.469701044694, 18516.65641414478, 19339.38481591444, 20354.629756116134, 21551.551575261405, 22908.277573694366, 24397.943001878786, 25994.191829480904, 27674.23644754667, 17427.586325136712, 17887.425715117864, 18523.71864887888, 19350.19774093981, 20369.340458813822, 21569.81112373587, 22929.426187526005, 24421.23538886851, 26018.95024284346, 27699.913440453663, 17429.477818305077, 17891.572862693756, 18531.09698550242, 19361.49684452756, 20384.75366593045, 21589.028769561493, 22951.81403785311, 24446.057235341417, 26045.52242347903, 27727.671441582992, 17431.4703095208, 17895.898017715634, 18538.75366431951, 19373.199086532208, 20400.719716333366, 21608.97298723117, 22975.122602695574, 24472.007765136084, 26073.437072142842, 27756.98397760374, 17433.562218556344, 17900.39435766867, 18546.66880073104, 19385.259960734566, 20417.156625083782, 21629.513623652878, 22999.16749848597, 24498.84745470804, 26102.402879722318, 27787.51419377769, 17435.752629427545, 17905.05792905856, 18554.83083512433, 19397.653436134708, 20434.015991316206, 21650.572837753618, 23023.836609715105, 24526.4277801628, 26132.23521426691, 27819.04351385652, 17438.040958533104, 17909.886228590378, 18563.23247491264, 19410.36312044572, 20451.267311406224, 21672.101358496824, 23049.058394194388, 24554.652882035956, 26162.813237840513, 27851.426599667466, 17440.42680301766, 17914.87754740543, 18571.868787325067, 19423.378014890586, 20468.89023693915, 21694.06638963764, 23074.785139710344, 24583.458473748036, 26194.05522910566, 27884.564126147987, 17442.909864811463, 17920.030640271372, 18580.736227019763, 19436.690318885656, 20486.870499740104, 21716.445108130778, 23100.983742523127, 24612.799901773607, 26225.904180167363, 27918.386348791293]\n"
     ]
    }
   ],
   "source": [
    "print(stabilityStat)"
   ]
  },
  {
   "cell_type": "code",
   "execution_count": 19,
   "metadata": {},
   "outputs": [
    {
     "data": {
      "text/plain": [
       "100"
      ]
     },
     "execution_count": 19,
     "metadata": {},
     "output_type": "execute_result"
    }
   ],
   "source": [
    "len(stabilityStat)"
   ]
  },
  {
   "cell_type": "code",
   "execution_count": 134,
   "metadata": {},
   "outputs": [
    {
     "data": {
      "image/png": "[encoded data removed]",
      "text/plain": [
       "<Figure size 1000x700 with 2 Axes>"
      ]
     },
     "metadata": {},
     "output_type": "display_data"
    }
   ],
   "source": [
    "epsilon_values = np.linspace(0.06, 0.24, 10)\n",
    "N_0_squared_values = np.linspace(150, 640, 10)\n",
    "x, y = epsilon_values, N_0_squared_values\n",
    "# x, y = (epsilon_values - np.min(epsilon_values)) / (np.max(epsilon_values) - np.min(epsilon_values)), (N_0_squared_values - np.min(N_0_squared_values)) / (np.max(N_0_squared_values) - np.min(N_0_squared_values))\n",
    "z = np.array(stabilityStat).reshape(len(epsilon_values), len(N_0_squared_values))\n",
    "z = z.T\n",
    "\n",
    "fig = plt.figure(figsize=(10, 7))\n",
    "plt.imshow(z, extent=[x.min(), x.max(), y.min(), y.max()],origin='lower', aspect='auto', cmap='viridis')\n",
    "\n",
    "plt.xlabel('Turbulence Excitation Intensity')\n",
    "plt.ylabel('Stratification Strength')\n",
    "plt.colorbar()\n",
    "\n",
    "plt.show()"
   ]
  },
  {
   "cell_type": "code",
   "execution_count": 131,
   "metadata": {},
   "outputs": [
    {
     "data": {
      "text/plain": [
       "array([[17424.12245951, 17425.79889395, 17427.58632514, 17429.47781831,\n",
       "        17431.47030952, 17433.56221856, 17435.75262943, 17438.04095853,\n",
       "        17440.42680302, 17442.90986481],\n",
       "       [17879.73388169, 17883.46970104, 17887.42571512, 17891.57286269,\n",
       "        17895.89801772, 17900.39435767, 17905.05792906, 17909.88622859,\n",
       "        17914.87754741, 17920.03064027],\n",
       "       [18509.99134432, 18516.65641414, 18523.71864888, 18531.0969855 ,\n",
       "        18538.75366432, 18546.66880073, 18554.83083512, 18563.23247491,\n",
       "        18571.86878733, 18580.73622702],\n",
       "       [19329.22972148, 19339.38481591, 19350.19774094, 19361.49684453,\n",
       "        19373.19908653, 19385.25996073, 19397.65343613, 19410.36312045,\n",
       "        19423.37801489, 19436.69031889],\n",
       "       [20340.917816  , 20354.62975612, 20369.34045881, 20384.75366593,\n",
       "        20400.71971633, 20417.15662508, 20434.01599132, 20451.26731141,\n",
       "        20468.89023694, 20486.87049974],\n",
       "       [21534.68727657, 21551.55157526, 21569.81112374, 21589.02876956,\n",
       "        21608.97298723, 21629.51362365, 21650.57283775, 21672.1013585 ,\n",
       "        21694.06638964, 21716.44510813],\n",
       "       [22888.94039651, 22908.27757369, 22929.42618753, 22951.81403785,\n",
       "        22975.1226027 , 22999.16749849, 23023.83660972, 23049.05839419,\n",
       "        23074.78513971, 23100.98374252],\n",
       "       [24376.86427742, 24397.94300188, 24421.23538887, 24446.05723534,\n",
       "        24472.00776514, 24498.84745471, 24526.42778016, 24554.65288204,\n",
       "        24583.45847375, 24612.79990177],\n",
       "       [25972.01184581, 25994.19182948, 26018.95024284, 26045.52242348,\n",
       "        26073.43707214, 26102.40287972, 26132.23521427, 26162.81323784,\n",
       "        26194.05522911, 26225.90418017],\n",
       "       [27651.45302309, 27674.23644755, 27699.91344045, 27727.67144158,\n",
       "        27756.9839776 , 27787.51419378, 27819.04351386, 27851.42659967,\n",
       "        27884.56412615, 27918.38634879]])"
      ]
     },
     "execution_count": 131,
     "metadata": {},
     "output_type": "execute_result"
    }
   ],
   "source": [
    "z"
   ]
  },
  {
   "cell_type": "markdown",
   "metadata": {},
   "source": [
    "Comparison to the grid data"
   ]
  },
  {
   "cell_type": "code",
   "execution_count": 22,
   "metadata": {},
   "outputs": [
    {
     "data": {
      "text/plain": [
       "17424.122459511582"
      ]
     },
     "execution_count": 22,
     "metadata": {},
     "output_type": "execute_result"
    }
   ],
   "source": [
    "z.min()"
   ]
  },
  {
   "cell_type": "code",
   "execution_count": 23,
   "metadata": {},
   "outputs": [
    {
     "data": {
      "text/plain": [
       "{-2.0 - 16.9669511535006*I: 1,\n",
       " -2.0 + 16.9669511535006*I: 1,\n",
       " -2.0 - 9.4633356081941*I: 1,\n",
       " -2.0 + 9.4633356081941*I: 1,\n",
       " -1.99863777058245 - 26.522214819026*I: 1,\n",
       " -1.99863777058245 + 26.522214819026*I: 1,\n",
       " -1.9534196572004 - 17.5127441038743*I: 1,\n",
       " -0.370218189165144 - 9.55229726515369*I: 1,\n",
       " -2.3135772722923 - 8.94320520891369*I: 1,\n",
       " -1.9534196572004 + 17.5127441038743*I: 1,\n",
       " -2.82829422151942 - 6.56783364715292e-61*I: 1,\n",
       " -2.0 + 4.92412256422902e-63*I: 1,\n",
       " -2.0 - 2.53437336684871e-63*I: 1,\n",
       " -2.0 - 4.0932941844741e-29*I: 1,\n",
       " -2.0 + 4.0932941844741e-29*I: 1,\n",
       " -2.3135772722923 + 8.94320520891369*I: 1,\n",
       " -0.370218189165144 + 9.55229726515369*I: 1}"
      ]
     },
     "execution_count": 23,
     "metadata": {},
     "output_type": "execute_result"
    }
   ],
   "source": [
    "Eigenvalues90"
   ]
  },
  {
   "cell_type": "code",
   "execution_count": 24,
   "metadata": {},
   "outputs": [
    {
     "name": "stdout",
     "output_type": "stream",
     "text": [
      "Running simulation 0\n"
     ]
    },
    {
     "data": {
      "image/png": "[encoded data removed]",
      "text/plain": [
       "<Figure size 1500x500 with 2 Axes>"
      ]
     },
     "metadata": {},
     "output_type": "display_data"
    },
    {
     "name": "stdout",
     "output_type": "stream",
     "text": [
      "[0.29422986 0.29422986 0.29422986 0.29422986 0.29422986 0.29422986\n",
      " 0.29422986 0.29422986 0.29422986 0.29422986 0.29422986 0.29422986\n",
      " 0.29422986 0.29422986 0.29422986 0.29422986 0.29422986 0.29422986\n",
      " 0.29422986 0.29422986 0.29422986 0.29422986 0.29422986 0.29422986\n",
      " 0.29422986 0.29422986 0.29422986 0.29422986 0.29422986 0.29422986\n",
      " 0.29422986 0.29422986 0.29422986 0.29422986 0.29422986 0.29422986\n",
      " 0.29422986 0.29422986 0.29422986 0.29422986 0.29422986 0.29422986\n",
      " 0.29422986 0.29422986 0.29422986 0.29422986 0.29422986 0.29422986\n",
      " 0.29422986 0.29422986 0.29422986 0.29422986 0.29422986 0.29422986\n",
      " 0.29422986 0.29422986 0.29422986 0.29422986 0.29422986 0.29422986\n",
      " 0.29422986 0.29422986 0.29422986 0.29422986 0.29422986 0.29422986\n",
      " 0.29422986 0.29422986 0.29422986 0.29422986 0.29422986 0.29422986\n",
      " 0.29422986 0.29422986 0.29422986 0.29422986 0.29422986 0.29422986\n",
      " 0.29422986 0.29422986 0.29422986 0.29422986 0.29422986 0.29422986\n",
      " 0.29422986 0.29422986 0.29422986 0.29422986 0.29422986 0.29422986\n",
      " 0.29422986 0.29422986 0.29422986 0.29422986 0.29422986 0.29422986\n",
      " 0.29422986 0.29422986 0.29422986 0.29422986]\n"
     ]
    }
   ],
   "source": [
    "class SimulationSSD:\n",
    "    def __init__(self, epsilon, N_0_squared, r_m, k, m, m_u, dt, total_time):\n",
    "\n",
    "        #Make sure this is updated\n",
    "\n",
    "        self.epsilon = epsilon\n",
    "        self.N_0_squared = N_0_squared\n",
    "        self.r_m = r_m    \n",
    "        self.k = k\n",
    "        self.m = m\n",
    "        self.m_u = m_u\n",
    "        self.dt = dt\n",
    "        self.total_time = total_time\n",
    "        self.num_steps = int(total_time / dt)\n",
    "        self.k_e_square = k**2 + m**2\n",
    "        self.k_plus_square = k**2 + (m + m_u)**2\n",
    "\n",
    "        self.W_e = np.array([[-1, (k / self.k_e_square)], [-k * N_0_squared, -1]])\n",
    "        self.W_plus = np.array([[-1, -k / self.k_plus_square], [k * N_0_squared, -1]])\n",
    "        self.L_e_plus = np.array([[(-k / (2 * self.k_e_square)) * (self.k_plus_square - m_u**2), 0],\n",
    "                                  [0, k / 2]])\n",
    "        self.L_plus_e = np.array([[(-k / (2 * self.k_plus_square)) * (m_u**2 - self.k_e_square), 0],\n",
    "                                  [0, -k / 2]]) \n",
    "        self.U = 0.01\n",
    "        self.C = np.array([[0, 0, 0, 0], [0, 0, 0, 0], [0, 0, 0, 0], [0, 0, 0, 0]])\n",
    "\n",
    "        self.A_U = np.array([[-1, (k / self.k_e_square), self.U*(-k / (2 * self.k_e_square)) * (self.k_plus_square - m_u**2), self.U*0],\n",
    "                             \n",
    "                             [-k * N_0_squared, -1, self.U*0, self.U*self.k/2],\n",
    "\n",
    "                             [self.U*(-k / (2 * self.k_plus_square)) * (m_u**2 - self.k_e_square), self.U*0, -1, -self.k/self.k_plus_square],\n",
    "\n",
    "                             [self.U*0, self.U* -k / 2,k * N_0_squared, -1]])  \n",
    "    \n",
    "        self.Q = np.array([[8/self.k_e_square, 0, 0, 0], [0, 0, 0, 0], [0, 0, 0, 0], [0, 0, 0, 0]])\n",
    "        self.R = 0\n",
    "        self.C_History = np.zeros((self.num_steps, 4, 4))              \n",
    "        # self.C_History = np.zeros(self.num_steps)\n",
    "        self.U_History = np.zeros(self.num_steps)\n",
    "        self.R_History = np.zeros(self.num_steps)\n",
    "        self.C = self.C.astype(np.float64)\n",
    "\n",
    "    def simulate(self):\n",
    "        for i in range(self.num_steps):\n",
    "\n",
    "            self.A_U = np.array([[-1, (k / self.k_e_square), self.U*(-k / (2 * self.k_e_square)) * (self.k_plus_square - m_u**2), self.U*0],\n",
    "                             \n",
    "                             [-k * N_0_squared, -1, self.U*0, self.U*self.k/2],\n",
    "\n",
    "                             [self.U*(-k / (2 * self.k_plus_square)) * (m_u**2 - self.k_e_square), self.U*0, -1, -self.k/self.k_plus_square],\n",
    "\n",
    "                             [self.U*0, self.U* -k / 2,k * N_0_squared, -1]]) \n",
    "                             \n",
    " \n",
    "            C_dot = (self.A_U @ self.C + self.C @ np.transpose(self.A_U) + self.epsilon * self.Q) \n",
    "            U_dot = (self.R - self.r_m * self.U)\n",
    "\n",
    "            \n",
    "            self.C += C_dot * self.dt\n",
    "            self.U += U_dot * self.dt\n",
    "            self.R = 0.25 * self.k * (self.k_plus_square - self.k_e_square) * self.C[0][2]\n",
    "\n",
    "            self.C_History[i] = self.C\n",
    "            self.U_History[i] = self.U\n",
    "            self.R_History[i] = self.R\n",
    "\n",
    "    def make_plots(self):\n",
    "\n",
    "        time_array = np.arange(0, self.total_time, .001)\n",
    "        fig, axs = plt.subplots(1, 2, figsize = (15, 5))\n",
    "\n",
    "       \n",
    "        axs[0].plot(time_array, self.U_History)\n",
    "        axs[0].set_title(f\"U History\")\n",
    "        axs[0].grid()\n",
    "        axs[0].set_xlim(50, 75)\n",
    "        axs[0].set_ylim(.29, .295)\n",
    "        axs[1].plot(time_array, self.R_History)\n",
    "        axs[1].set_title(f\"R Values\")\n",
    "        axs[1].grid()\n",
    "\n",
    "\n",
    "        plt.show()\n",
    "\n",
    "\n",
    "if __name__ == \"__main__\":\n",
    "    epsilon_values = [.24]\n",
    "    N_0_squared_values = [150]\n",
    "    combo_list = list(itertools.product(epsilon_values, N_0_squared_values))\n",
    "\n",
    "    r_m = 0.1\n",
    "    k = 2 * np.pi * 6\n",
    "    m = 2 * np.pi * 3\n",
    "    m_u = 2 * np.pi * 7\n",
    "    dt = 0.001\n",
    "    total_time = 200\n",
    "    simulations = []\n",
    "    for idx, (epsilon, N_0_squared) in enumerate(combo_list):\n",
    "        print(f\"Running simulation {idx}\")\n",
    "        sim = SimulationSSD(epsilon, N_0_squared, r_m, k, m, m_u, dt, total_time)\n",
    "        sim.simulate()\n",
    "        simulations.append(sim)\n",
    "        globals()[f'sim{idx}'] = sim\n",
    "        globals()[f'sim{idx}Ustar'] = sim.U_History[-1]\n",
    "        globals()[f'sim{idx}Cstar'] = sim.C_History[-1]\n",
    "        sim.make_plots()\n",
    "        print(sim.U_History[-100:])"
   ]
  },
  {
   "cell_type": "code",
   "execution_count": 25,
   "metadata": {},
   "outputs": [
    {
     "data": {
      "text/plain": [
       "{-2.0 - 16.9669511535006*I: 1,\n",
       " -2.0 + 16.9669511535006*I: 1,\n",
       " -2.0 - 9.4633356081941*I: 1,\n",
       " -2.0 + 9.4633356081941*I: 1,\n",
       " -1.99863777058245 - 26.522214819026*I: 1,\n",
       " -1.99863777058245 + 26.522214819026*I: 1,\n",
       " -1.9534196572004 - 17.5127441038743*I: 1,\n",
       " -0.370218189165144 - 9.55229726515369*I: 1,\n",
       " -2.3135772722923 - 8.94320520891369*I: 1,\n",
       " -1.9534196572004 + 17.5127441038743*I: 1,\n",
       " -2.82829422151942 - 6.56783364715292e-61*I: 1,\n",
       " -2.0 + 4.92412256422902e-63*I: 1,\n",
       " -2.0 - 2.53437336684871e-63*I: 1,\n",
       " -2.0 - 4.0932941844741e-29*I: 1,\n",
       " -2.0 + 4.0932941844741e-29*I: 1,\n",
       " -2.3135772722923 + 8.94320520891369*I: 1,\n",
       " -0.370218189165144 + 9.55229726515369*I: 1}"
      ]
     },
     "execution_count": 25,
     "metadata": {},
     "output_type": "execute_result"
    }
   ],
   "source": [
    "Eigenvalues90"
   ]
  },
  {
   "cell_type": "code",
   "execution_count": 26,
   "metadata": {},
   "outputs": [
    {
     "name": "stdout",
     "output_type": "stream",
     "text": [
      "Running simulation 0\n"
     ]
    },
    {
     "data": {
      "image/png": "[encoded data removed]",
      "text/plain": [
       "<Figure size 1500x500 with 2 Axes>"
      ]
     },
     "metadata": {},
     "output_type": "display_data"
    },
    {
     "name": "stdout",
     "output_type": "stream",
     "text": [
      "[0.38778222 0.38783198 0.38787089 0.38789881 0.38791558 0.38792108\n",
      " 0.38791515 0.38789764 0.38786842 0.38782735 0.38777428 0.38770906\n",
      " 0.38763157 0.38754166 0.38743919 0.38732402 0.38719602 0.38705506\n",
      " 0.38690099 0.38673368 0.38655301 0.38635884 0.38615104 0.38592948\n",
      " 0.38569405 0.3854446  0.38518103 0.38490321 0.38461102 0.38430434\n",
      " 0.38398306 0.38364707 0.38329625 0.38293049 0.38254969 0.38215374\n",
      " 0.38174255 0.381316   0.38087401 0.38041648 0.37994331 0.37945443\n",
      " 0.37894973 0.37842914 0.37789258 0.37733997 0.37677123 0.3761863\n",
      " 0.37558511 0.37496758 0.37433366 0.37368329 0.37301642 0.372333\n",
      " 0.37163297 0.37091629 0.37018293 0.36943284 0.368666   0.36788237\n",
      " 0.36708193 0.36626466 0.36543055 0.36457957 0.36371173 0.36282702\n",
      " 0.36192544 0.36100699 0.36007169 0.35911954 0.35815057 0.3571648\n",
      " 0.35616226 0.35514298 0.35410699 0.35305434 0.35198508 0.35089925\n",
      " 0.34979692 0.34867814 0.34754298 0.34639152 0.34522383 0.34403999\n",
      " 0.3428401  0.34162423 0.3403925  0.339145   0.33788184 0.33660313\n",
      " 0.335309   0.33399957 0.33267496 0.33133532 0.32998078 0.3286115\n",
      " 0.32722761 0.32582929 0.32441668 0.32298996]\n"
     ]
    }
   ],
   "source": [
    "class SimulationSSD:\n",
    "    def __init__(self, epsilon, N_0_squared, r_m, k, m, m_u, dt, total_time):\n",
    "\n",
    "        #Make sure this is updated\n",
    "\n",
    "        self.epsilon = epsilon\n",
    "        self.N_0_squared = N_0_squared\n",
    "        self.r_m = r_m    \n",
    "        self.k = k\n",
    "        self.m = m\n",
    "        self.m_u = m_u\n",
    "        self.dt = dt\n",
    "        self.total_time = total_time\n",
    "        self.num_steps = int(total_time / dt)\n",
    "        self.k_e_square = k**2 + m**2\n",
    "        self.k_plus_square = k**2 + (m + m_u)**2\n",
    "\n",
    "        self.W_e = np.array([[-1, (k / self.k_e_square)], [-k * N_0_squared, -1]])\n",
    "        self.W_plus = np.array([[-1, -k / self.k_plus_square], [k * N_0_squared, -1]])\n",
    "        self.L_e_plus = np.array([[(-k / (2 * self.k_e_square)) * (self.k_plus_square - m_u**2), 0],\n",
    "                                  [0, k / 2]])\n",
    "        self.L_plus_e = np.array([[(-k / (2 * self.k_plus_square)) * (m_u**2 - self.k_e_square), 0],\n",
    "                                  [0, -k / 2]]) \n",
    "        self.U = 0.01\n",
    "        self.C = np.array([[0, 0, 0, 0], [0, 0, 0, 0], [0, 0, 0, 0], [0, 0, 0, 0]])\n",
    "\n",
    "        self.A_U = np.array([[-1, (k / self.k_e_square), self.U*(-k / (2 * self.k_e_square)) * (self.k_plus_square - m_u**2), self.U*0],\n",
    "                             \n",
    "                             [-k * N_0_squared, -1, self.U*0, self.U*self.k/2],\n",
    "\n",
    "                             [self.U*(-k / (2 * self.k_plus_square)) * (m_u**2 - self.k_e_square), self.U*0, -1, -self.k/self.k_plus_square],\n",
    "\n",
    "                             [self.U*0, self.U* -k / 2,k * N_0_squared, -1]])  \n",
    "    \n",
    "        self.Q = np.array([[8/self.k_e_square, 0, 0, 0], [0, 0, 0, 0], [0, 0, 0, 0], [0, 0, 0, 0]])\n",
    "        self.R = 0\n",
    "        self.C_History = np.zeros((self.num_steps, 4, 4))              \n",
    "        # self.C_History = np.zeros(self.num_steps)\n",
    "        self.U_History = np.zeros(self.num_steps)\n",
    "        self.R_History = np.zeros(self.num_steps)\n",
    "        self.C = self.C.astype(np.float64)\n",
    "\n",
    "    def simulate(self):\n",
    "        for i in range(self.num_steps):\n",
    "\n",
    "            self.A_U = np.array([[-1, (k / self.k_e_square), self.U*(-k / (2 * self.k_e_square)) * (self.k_plus_square - m_u**2), self.U*0],\n",
    "                             \n",
    "                             [-k * N_0_squared, -1, self.U*0, self.U*self.k/2],\n",
    "\n",
    "                             [self.U*(-k / (2 * self.k_plus_square)) * (m_u**2 - self.k_e_square), self.U*0, -1, -self.k/self.k_plus_square],\n",
    "\n",
    "                             [self.U*0, self.U* -k / 2,k * N_0_squared, -1]]) \n",
    "                             \n",
    " \n",
    "            C_dot = (self.A_U @ self.C + self.C @ np.transpose(self.A_U) + self.epsilon * self.Q) \n",
    "            U_dot = (self.R - self.r_m * self.U)\n",
    "\n",
    "            \n",
    "            self.C += C_dot * self.dt\n",
    "            self.U += U_dot * self.dt\n",
    "            self.R = 0.25 * self.k * (self.k_plus_square - self.k_e_square) * self.C[0][2]\n",
    "\n",
    "            self.C_History[i] = self.C\n",
    "            self.U_History[i] = self.U\n",
    "            self.R_History[i] = self.R\n",
    "\n",
    "    def make_plots(self):\n",
    "\n",
    "        time_array = np.arange(0, self.total_time, .001)\n",
    "        fig, axs = plt.subplots(1, 2, figsize = (15, 5))\n",
    "\n",
    "       \n",
    "        axs[0].plot(time_array, self.U_History)\n",
    "        axs[0].set_title(f\"U History\")\n",
    "        axs[0].grid()\n",
    "        axs[0].set_xlim(50, 75)\n",
    "        axs[0].set_ylim(.29, .295)\n",
    "        axs[1].plot(time_array, self.R_History)\n",
    "        axs[1].set_title(f\"R Values\")\n",
    "        axs[1].grid()\n",
    "\n",
    "\n",
    "        plt.show()\n",
    "\n",
    "\n",
    "if __name__ == \"__main__\":\n",
    "    epsilon_values = [.5]\n",
    "    N_0_squared_values = [150]\n",
    "    combo_list = list(itertools.product(epsilon_values, N_0_squared_values))\n",
    "\n",
    "    r_m = 0.1\n",
    "    k = 2 * np.pi * 6\n",
    "    m = 2 * np.pi * 3\n",
    "    m_u = 2 * np.pi * 7\n",
    "    dt = 0.001\n",
    "    total_time = 200\n",
    "    simulations = []\n",
    "    for idx, (epsilon, N_0_squared) in enumerate(combo_list):\n",
    "        print(f\"Running simulation {idx}\")\n",
    "        sim = SimulationSSD(epsilon, N_0_squared, r_m, k, m, m_u, dt, total_time)\n",
    "        sim.simulate()\n",
    "        simulations.append(sim)\n",
    "        globals()[f'sim{idx}'] = sim\n",
    "        globals()[f'sim{idx}Ustar'] = sim.U_History[-1]\n",
    "        globals()[f'sim{idx}Cstar'] = sim.C_History[-1]\n",
    "        sim.make_plots()\n",
    "        print(sim.U_History[-100:])"
   ]
  },
  {
   "cell_type": "code",
   "execution_count": 27,
   "metadata": {},
   "outputs": [
    {
     "data": {
      "text/plain": [
       "0.32298996191311363"
      ]
     },
     "execution_count": 27,
     "metadata": {},
     "output_type": "execute_result"
    }
   ],
   "source": [
    "sim0Ustar"
   ]
  },
  {
   "cell_type": "code",
   "execution_count": 28,
   "metadata": {},
   "outputs": [
    {
     "data": {
      "text/plain": [
       "array([[ 3.45414593e-04, -5.50990758e-02, -4.15949064e-05,\n",
       "        -8.62186677e-03],\n",
       "       [-5.50990758e-02,  8.27339894e+01,  2.24041164e-02,\n",
       "        -3.08242583e+01],\n",
       "       [-4.15949064e-05,  2.24041164e-02,  8.22320326e-05,\n",
       "        -3.80846829e-02],\n",
       "       [-8.62186677e-03, -3.08242583e+01, -3.80846829e-02,\n",
       "         5.39519326e+01]])"
      ]
     },
     "execution_count": 28,
     "metadata": {},
     "output_type": "execute_result"
    }
   ],
   "source": [
    "sim0Cstar"
   ]
  },
  {
   "cell_type": "code",
   "execution_count": 29,
   "metadata": {},
   "outputs": [
    {
     "name": "stdout",
     "output_type": "stream",
     "text": [
      "Calculating eigenvalues for simulation 0\n"
     ]
    }
   ],
   "source": [
    "combo_list = [(.5, 150)]\n",
    "for idx in range(len(combo_list)):\n",
    "    print(f\"Calculating eigenvalues for simulation {idx}\")\n",
    "    U_star_val = globals()[f'sim{idx}Ustar']\n",
    "    C_star_val = globals()[f'sim{idx}Cstar']\n",
    "    epsilon_val, N_0_squared_val = combo_list[idx]\n",
    "\n",
    "    C_star_subs = {f'C_star{i}': C_star_val[i // 4, i % 4] for i in range(16)}\n",
    "    subs_dict = {'U_star': U_star_val, **C_star_subs}\n",
    "\n",
    "    subs_dict.update({'r_m': r_m_val, 'k': k_val, 'm': m_val, 'm_u': m_u_val, 'dt': dt_val, 'total_time': total_time_val, 'k_e_square': k_e_square_val, 'k_plus_square': k_plus_square_val, 'epsilon': epsilon_val, 'N_0_squared': N_0_squared_val})\n",
    "    A_subs = A.subs(subs_dict)\n",
    "    # A_numeric = np.array(A_subs).astype(np.complex128)\n",
    "    # eigenvalues, eigenvectors = np.linalg.eig(A_numeric)\n",
    "    eigenvalues = A_subs.eigenvals()\n",
    "    globals()[f'Eigenvalues{idx}'] = eigenvalues\n"
   ]
  },
  {
   "cell_type": "code",
   "execution_count": 30,
   "metadata": {},
   "outputs": [
    {
     "data": {
      "text/plain": [
       "array([[ 3.45414593e-04, -5.50990758e-02, -4.15949064e-05,\n",
       "        -8.62186677e-03],\n",
       "       [-5.50990758e-02,  8.27339894e+01,  2.24041164e-02,\n",
       "        -3.08242583e+01],\n",
       "       [-4.15949064e-05,  2.24041164e-02,  8.22320326e-05,\n",
       "        -3.80846829e-02],\n",
       "       [-8.62186677e-03, -3.08242583e+01, -3.80846829e-02,\n",
       "         5.39519326e+01]])"
      ]
     },
     "execution_count": 30,
     "metadata": {},
     "output_type": "execute_result"
    }
   ],
   "source": [
    "C_star_val"
   ]
  },
  {
   "cell_type": "code",
   "execution_count": 31,
   "metadata": {},
   "outputs": [
    {
     "data": {
      "text/plain": [
       "0.32298996191311363"
      ]
     },
     "execution_count": 31,
     "metadata": {},
     "output_type": "execute_result"
    }
   ],
   "source": [
    "U_star_val"
   ]
  },
  {
   "cell_type": "code",
   "execution_count": 32,
   "metadata": {},
   "outputs": [
    {
     "data": {
      "text/plain": [
       "{'C_star0': 0.0003454145932476131,\n",
       " 'C_star1': -0.055099075760778236,\n",
       " 'C_star2': -4.1594906400123084e-05,\n",
       " 'C_star3': -0.00862186677121238,\n",
       " 'C_star4': -0.055099075760778236,\n",
       " 'C_star5': 82.7339894380509,\n",
       " 'C_star6': 0.022404116371334222,\n",
       " 'C_star7': -30.824258323650223,\n",
       " 'C_star8': -4.1594906400123084e-05,\n",
       " 'C_star9': 0.022404116371334222,\n",
       " 'C_star10': 8.223203259474443e-05,\n",
       " 'C_star11': -0.038084682895708634,\n",
       " 'C_star12': -0.00862186677121238,\n",
       " 'C_star13': -30.824258323650223,\n",
       " 'C_star14': -0.038084682895708634,\n",
       " 'C_star15': 53.95193256897486}"
      ]
     },
     "execution_count": 32,
     "metadata": {},
     "output_type": "execute_result"
    }
   ],
   "source": [
    "C_star_subs"
   ]
  },
  {
   "cell_type": "code",
   "execution_count": 33,
   "metadata": {},
   "outputs": [
    {
     "name": "stdout",
     "output_type": "stream",
     "text": [
      "-2.0 - 16.8368431066934*I\n",
      "-2.0 - 10.288336428196*I\n",
      "-2.0 + 16.8368431066934*I\n",
      "-2.0 + 10.288336428196*I\n",
      "-1.95532370945806 - 27.2952245156784*I\n",
      "-1.95532370945806 + 27.2952245156784*I\n",
      "-1.28587178288161 - 17.2122342680469*I\n",
      "0.171766048174407 - 12.989373068527*I\n",
      "-1.62706416348009 - 8.97574434388391*I\n",
      "-6.70701278470928 - 5.84428070205244e-62*I\n",
      "-2.0 + 5.03875117886861e-60*I\n",
      "-2.0 - 5.03935818336551e-60*I\n",
      "-2.0 - 5.56043782968443e-54*I\n",
      "-2.0 + 5.5604376609087e-54*I\n",
      "-1.28587178288161 + 17.2122342680469*I\n",
      "-1.62706416348009 + 8.97574434388391*I\n",
      "0.171766048174407 + 12.989373068527*I\n"
     ]
    }
   ],
   "source": [
    "for i in Eigenvalues0:\n",
    "    print(i)"
   ]
  },
  {
   "cell_type": "code",
   "execution_count": 34,
   "metadata": {},
   "outputs": [
    {
     "name": "stdout",
     "output_type": "stream",
     "text": [
      "Running simulation 0\n"
     ]
    },
    {
     "data": {
      "image/png": "[encoded data removed]",
      "text/plain": [
       "<Figure size 1500x500 with 2 Axes>"
      ]
     },
     "metadata": {},
     "output_type": "display_data"
    }
   ],
   "source": [
    "class SimulationSSD:\n",
    "    def __init__(self, epsilon, N_0_squared, r_m, k, m, m_u, dt, total_time):\n",
    "\n",
    "        #Make sure this is updated\n",
    "\n",
    "        self.epsilon = epsilon\n",
    "        self.N_0_squared = N_0_squared\n",
    "        self.r_m = r_m    \n",
    "        self.k = k\n",
    "        self.m = m\n",
    "        self.m_u = m_u\n",
    "        self.dt = dt\n",
    "        self.total_time = total_time\n",
    "        self.num_steps = int(total_time / dt)\n",
    "        self.k_e_square = k**2 + m**2\n",
    "        self.k_plus_square = k**2 + (m + m_u)**2\n",
    "\n",
    "        self.W_e = np.array([[-1, (k / self.k_e_square)], [-k * N_0_squared, -1]])\n",
    "        self.W_plus = np.array([[-1, -k / self.k_plus_square], [k * N_0_squared, -1]])\n",
    "        self.L_e_plus = np.array([[(-k / (2 * self.k_e_square)) * (self.k_plus_square - m_u**2), 0],\n",
    "                                  [0, k / 2]])\n",
    "        self.L_plus_e = np.array([[(-k / (2 * self.k_plus_square)) * (m_u**2 - self.k_e_square), 0],\n",
    "                                  [0, -k / 2]]) \n",
    "        self.U = 0.01\n",
    "        self.C = np.array([[0, 0, 0, 0], [0, 0, 0, 0], [0, 0, 0, 0], [0, 0, 0, 0]])\n",
    "\n",
    "        self.A_U = np.array([[-1, (k / self.k_e_square), self.U*(-k / (2 * self.k_e_square)) * (self.k_plus_square - m_u**2), self.U*0],\n",
    "                             \n",
    "                             [-k * N_0_squared, -1, self.U*0, self.U*self.k/2],\n",
    "\n",
    "                             [self.U*(-k / (2 * self.k_plus_square)) * (m_u**2 - self.k_e_square), self.U*0, -1, -self.k/self.k_plus_square],\n",
    "\n",
    "                             [self.U*0, self.U* -k / 2,k * N_0_squared, -1]])  \n",
    "    \n",
    "        self.Q = np.array([[8/self.k_e_square, 0, 0, 0], [0, 0, 0, 0], [0, 0, 0, 0], [0, 0, 0, 0]])\n",
    "        self.R = 0\n",
    "        self.C_History = np.zeros((self.num_steps, 4, 4))              \n",
    "        # self.C_History = np.zeros(self.num_steps)\n",
    "        self.U_History = np.zeros(self.num_steps)\n",
    "        self.R_History = np.zeros(self.num_steps)\n",
    "        self.C = self.C.astype(np.float64)\n",
    "\n",
    "    def simulate(self):\n",
    "        for i in range(self.num_steps):\n",
    "            if i == 100000:\n",
    "                self.U = 0.29\n",
    "\n",
    "\n",
    "            self.A_U = np.array([[-1, (k / self.k_e_square), self.U*(-k / (2 * self.k_e_square)) * (self.k_plus_square - m_u**2), self.U*0],\n",
    "                             \n",
    "                             [-k * N_0_squared, -1, self.U*0, self.U*self.k/2],\n",
    "\n",
    "                             [self.U*(-k / (2 * self.k_plus_square)) * (m_u**2 - self.k_e_square), self.U*0, -1, -self.k/self.k_plus_square],\n",
    "\n",
    "                             [self.U*0, self.U* -k / 2,k * N_0_squared, -1]]) \n",
    "                             \n",
    " \n",
    "            C_dot = (self.A_U @ self.C + self.C @ np.transpose(self.A_U) + self.epsilon * self.Q) \n",
    "            U_dot = (self.R - self.r_m * self.U)\n",
    "\n",
    "            \n",
    "            self.C += C_dot * self.dt\n",
    "            self.U += U_dot * self.dt\n",
    "            self.R = 0.25 * self.k * (self.k_plus_square - self.k_e_square) * self.C[0][2]\n",
    "\n",
    "            self.C_History[i] = self.C\n",
    "            self.U_History[i] = self.U\n",
    "            self.R_History[i] = self.R\n",
    "\n",
    "    def make_plots(self):\n",
    "\n",
    "        time_array = np.arange(0, self.total_time, .001)\n",
    "        fig, axs = plt.subplots(1, 2, figsize = (15, 5))\n",
    "\n",
    "       \n",
    "        axs[0].plot(time_array, self.U_History)\n",
    "        axs[0].set_title(f\"U History\")\n",
    "        axs[0].grid()\n",
    "        # axs[0].set_xlim(50, 75)\n",
    "        # axs[0].set_ylim(.29, .295)\n",
    "        axs[1].plot(time_array, self.R_History)\n",
    "        axs[1].set_title(f\"R Values\")\n",
    "        axs[1].grid()\n",
    "\n",
    "\n",
    "        plt.show()\n",
    "\n",
    "\n",
    "if __name__ == \"__main__\":\n",
    "    # epsilon_values = [.24]\n",
    "    epsilon_values = [.06]\n",
    "    N_0_squared_values = [150]\n",
    "    combo_list = list(itertools.product(epsilon_values, N_0_squared_values))\n",
    "\n",
    "    r_m = 0.1\n",
    "    k = 2 * np.pi * 6\n",
    "    m = 2 * np.pi * 3\n",
    "    m_u = 2 * np.pi * 7\n",
    "    dt = 0.001\n",
    "    total_time = 200\n",
    "    simulations = []\n",
    "    for idx, (epsilon, N_0_squared) in enumerate(combo_list):\n",
    "        print(f\"Running simulation {idx}\")\n",
    "        sim = SimulationSSD(epsilon, N_0_squared, r_m, k, m, m_u, dt, total_time)\n",
    "        sim.simulate()\n",
    "        simulations.append(sim)\n",
    "        globals()[f'sim{idx}'] = sim\n",
    "        globals()[f'sim{idx}Ustar'] = sim.U_History[-1]\n",
    "        globals()[f'sim{idx}Cstar'] = sim.C_History[-1]\n",
    "        sim.make_plots()"
   ]
  },
  {
   "cell_type": "code",
   "execution_count": 35,
   "metadata": {},
   "outputs": [
    {
     "name": "stdout",
     "output_type": "stream",
     "text": [
      "Calculating eigenvalues for simulation 0\n"
     ]
    }
   ],
   "source": [
    "combo_list = [(.5, 150)]\n",
    "for idx in range(len(combo_list)):\n",
    "    print(f\"Calculating eigenvalues for simulation {idx}\")\n",
    "    U_star_val = globals()[f'sim{idx}Ustar']\n",
    "    C_star_val = globals()[f'sim{idx}Cstar']\n",
    "    epsilon_val, N_0_squared_val = combo_list[idx]\n",
    "\n",
    "    C_star_subs = {f'C_star{i}': C_star_val[i // 4, i % 4] for i in range(16)}\n",
    "    subs_dict = {'U_star': U_star_val, **C_star_subs}\n",
    "\n",
    "    subs_dict.update({'r_m': r_m_val, 'k': k_val, 'm': m_val, 'm_u': m_u_val, 'dt': dt_val, 'total_time': total_time_val, 'k_e_square': k_e_square_val, 'k_plus_square': k_plus_square_val, 'epsilon': epsilon_val, 'N_0_squared': N_0_squared_val})\n",
    "    A_subs = A.subs(subs_dict)\n",
    "    # A_numeric = np.array(A_subs).astype(np.complex128)\n",
    "    # eigenvalues, eigenvectors = np.linalg.eig(A_numeric)\n",
    "    eigenvalues = A_subs.eigenvals()\n",
    "    globals()[f'Eigenvalues{idx}'] = eigenvalues\n"
   ]
  },
  {
   "cell_type": "code",
   "execution_count": 36,
   "metadata": {},
   "outputs": [
    {
     "data": {
      "text/plain": [
       "0.02122065907891938"
      ]
     },
     "execution_count": 36,
     "metadata": {},
     "output_type": "execute_result"
    }
   ],
   "source": [
    "k/k_e_square"
   ]
  },
  {
   "cell_type": "code",
   "execution_count": 37,
   "metadata": {},
   "outputs": [
    {
     "data": {
      "text/latex": [
       "$\\displaystyle \\left[\\begin{array}{ccccccccccccccccc}-2 & 0.0212206590789194 & -9.91577007438069 & 0 & 0.0212206590789194 & 0 & 0 & 0 & -9.91577007438069 & 0 & 0 & 0 & 0 & 0 & 0 & 0 & -5.85712087885119 \\cdot 10^{-5}\\\\-5654.86677646163 & -2 & 0 & 5.12884659019691 & 0 & 0.0212206590789194 & 0 & 0 & 0 & -9.91577007438069 & 0 & 0 & 0 & 0 & 0 & 0 & -0.167011067318076\\\\-0.150848429123438 & 0 & -2 & -0.00702154160699538 & 0 & 0 & 0.0212206590789194 & 0 & 0 & 0 & -9.91577007438069 & 0 & 0 & 0 & 0 & 0 & -0.000294604012033989\\\\0 & -5.12884659019691 & 5654.86677646163 & -2 & 0 & 0 & 0 & 0.0212206590789194 & 0 & 0 & 0 & -9.91577007438069 & 0 & 0 & 0 & 0 & 0.116553189295012\\\\-5654.86677646163 & 0 & 0 & 0 & -2 & 0.0212206590789194 & -9.91577007438069 & 0 & 0 & 0 & 0 & 0 & 5.12884659019691 & 0 & 0 & 0 & -0.167011067318076\\\\0 & -5654.86677646163 & 0 & 0 & -5654.86677646163 & -2 & 0 & 5.12884659019691 & 0 & 0 & 0 & 0 & 0 & 5.12884659019691 & 0 & 0 & -78.3247564109273\\\\0 & 0 & -5654.86677646163 & 0 & -0.150848429123438 & 0 & -2 & -0.00702154160699538 & 0 & 0 & 0 & 0 & 0 & 0 & 5.12884659019691 & 0 & -0.018113557004193\\\\0 & 0 & 0 & -5654.86677646163 & 0 & -5.12884659019691 & 5654.86677646163 & -2 & 0 & 0 & 0 & 0 & 0 & 0 & 0 & 5.12884659019691 & -149.800362511986\\\\-0.150848429123438 & 0 & 0 & 0 & 0 & 0 & 0 & 0 & -2 & 0.0212206590789194 & -9.91577007438069 & 0 & -0.00702154160699538 & 0 & 0 & 0 & -0.000294604012033989\\\\0 & -0.150848429123438 & 0 & 0 & 0 & 0 & 0 & 0 & -5654.86677646163 & -2 & 0 & 5.12884659019691 & 0 & -0.00702154160699538 & 0 & 0 & -0.018113557004193\\\\0 & 0 & -0.150848429123438 & 0 & 0 & 0 & 0 & 0 & -0.150848429123438 & 0 & -2 & -0.00702154160699538 & 0 & 0 & -0.00702154160699538 & 0 & -8.91042730048355 \\cdot 10^{-7}\\\\0 & 0 & 0 & -0.150848429123438 & 0 & 0 & 0 & 0 & 0 & -5.12884659019691 & 5654.86677646163 & -2 & 0 & 0 & 0 & -0.00702154160699538 & -0.0460393885463871\\\\0 & 0 & 0 & 0 & -5.12884659019691 & 0 & 0 & 0 & 5654.86677646163 & 0 & 0 & 0 & -2 & 0.0212206590789194 & -9.91577007438069 & 0 & 0.116553189295012\\\\0 & 0 & 0 & 0 & 0 & -5.12884659019691 & 0 & 0 & 0 & 5654.86677646163 & 0 & 0 & -5654.86677646163 & -2 & 0 & 5.12884659019691 & -149.800362511986\\\\0 & 0 & 0 & 0 & 0 & 0 & -5.12884659019691 & 0 & 0 & 0 & 5654.86677646163 & 0 & -0.150848429123438 & 0 & -2 & -0.00702154160699538 & -0.0460393885463871\\\\0 & 0 & 0 & 0 & 0 & 0 & 0 & -5.12884659019691 & 0 & 0 & 0 & 5654.86677646163 & 0 & -5.12884659019691 & 5654.86677646163 & -2 & 78.3247564109273\\\\0 & 0 & 33858.8541348874 & 0 & 0 & 0 & 0 & 0 & 0 & 0 & 0 & 0 & 0 & 0 & 0 & 0 & -0.1\\end{array}\\right]$"
      ],
      "text/plain": [
       "Matrix([\n",
       "[                -2, 0.0212206590789194,  -9.91577007438069,                    0, 0.0212206590789194,                  0,                  0,                    0,  -9.91577007438069,                  0,                 0,                    0,                    0,                    0,                    0,                    0,  -5.85712087885119e-5],\n",
       "[ -5654.86677646163,                 -2,                  0,     5.12884659019691,                  0, 0.0212206590789194,                  0,                    0,                  0,  -9.91577007438069,                 0,                    0,                    0,                    0,                    0,                    0,    -0.167011067318076],\n",
       "[-0.150848429123438,                  0,                 -2, -0.00702154160699538,                  0,                  0, 0.0212206590789194,                    0,                  0,                  0, -9.91577007438069,                    0,                    0,                    0,                    0,                    0, -0.000294604012033989],\n",
       "[                 0,  -5.12884659019691,   5654.86677646163,                   -2,                  0,                  0,                  0,   0.0212206590789194,                  0,                  0,                 0,    -9.91577007438069,                    0,                    0,                    0,                    0,     0.116553189295012],\n",
       "[ -5654.86677646163,                  0,                  0,                    0,                 -2, 0.0212206590789194,  -9.91577007438069,                    0,                  0,                  0,                 0,                    0,     5.12884659019691,                    0,                    0,                    0,    -0.167011067318076],\n",
       "[                 0,  -5654.86677646163,                  0,                    0,  -5654.86677646163,                 -2,                  0,     5.12884659019691,                  0,                  0,                 0,                    0,                    0,     5.12884659019691,                    0,                    0,     -78.3247564109273],\n",
       "[                 0,                  0,  -5654.86677646163,                    0, -0.150848429123438,                  0,                 -2, -0.00702154160699538,                  0,                  0,                 0,                    0,                    0,                    0,     5.12884659019691,                    0,    -0.018113557004193],\n",
       "[                 0,                  0,                  0,    -5654.86677646163,                  0,  -5.12884659019691,   5654.86677646163,                   -2,                  0,                  0,                 0,                    0,                    0,                    0,                    0,     5.12884659019691,     -149.800362511986],\n",
       "[-0.150848429123438,                  0,                  0,                    0,                  0,                  0,                  0,                    0,                 -2, 0.0212206590789194, -9.91577007438069,                    0, -0.00702154160699538,                    0,                    0,                    0, -0.000294604012033989],\n",
       "[                 0, -0.150848429123438,                  0,                    0,                  0,                  0,                  0,                    0,  -5654.86677646163,                 -2,                 0,     5.12884659019691,                    0, -0.00702154160699538,                    0,                    0,    -0.018113557004193],\n",
       "[                 0,                  0, -0.150848429123438,                    0,                  0,                  0,                  0,                    0, -0.150848429123438,                  0,                -2, -0.00702154160699538,                    0,                    0, -0.00702154160699538,                    0,  -8.91042730048355e-7],\n",
       "[                 0,                  0,                  0,   -0.150848429123438,                  0,                  0,                  0,                    0,                  0,  -5.12884659019691,  5654.86677646163,                   -2,                    0,                    0,                    0, -0.00702154160699538,   -0.0460393885463871],\n",
       "[                 0,                  0,                  0,                    0,  -5.12884659019691,                  0,                  0,                    0,   5654.86677646163,                  0,                 0,                    0,                   -2,   0.0212206590789194,    -9.91577007438069,                    0,     0.116553189295012],\n",
       "[                 0,                  0,                  0,                    0,                  0,  -5.12884659019691,                  0,                    0,                  0,   5654.86677646163,                 0,                    0,    -5654.86677646163,                   -2,                    0,     5.12884659019691,     -149.800362511986],\n",
       "[                 0,                  0,                  0,                    0,                  0,                  0,  -5.12884659019691,                    0,                  0,                  0,  5654.86677646163,                    0,   -0.150848429123438,                    0,                   -2, -0.00702154160699538,   -0.0460393885463871],\n",
       "[                 0,                  0,                  0,                    0,                  0,                  0,                  0,    -5.12884659019691,                  0,                  0,                 0,     5654.86677646163,                    0,    -5.12884659019691,     5654.86677646163,                   -2,      78.3247564109273],\n",
       "[                 0,                  0,   33858.8541348874,                    0,                  0,                  0,                  0,                    0,                  0,                  0,                 0,                    0,                    0,                    0,                    0,                    0,                  -0.1]])"
      ]
     },
     "execution_count": 37,
     "metadata": {},
     "output_type": "execute_result"
    }
   ],
   "source": [
    "A_subs"
   ]
  },
  {
   "cell_type": "code",
   "execution_count": 38,
   "metadata": {},
   "outputs": [
    {
     "data": {
      "text/plain": [
       "array([[ 4.02752423e-05, -4.09276821e-03,  8.03611845e-07,\n",
       "        -3.91546822e-03],\n",
       "       [-4.09276821e-03,  1.24882202e+01,  2.55762625e-03,\n",
       "        -2.07762869e+00],\n",
       "       [ 8.03611845e-07,  2.55762625e-03,  7.47137706e-06,\n",
       "        -1.08132958e-03],\n",
       "       [-3.91546822e-03, -2.07762869e+00, -1.08132958e-03,\n",
       "         4.54106411e+00]])"
      ]
     },
     "execution_count": 38,
     "metadata": {},
     "output_type": "execute_result"
    }
   ],
   "source": [
    "C_star_val"
   ]
  },
  {
   "cell_type": "code",
   "execution_count": 39,
   "metadata": {},
   "outputs": [
    {
     "data": {
      "text/plain": [
       "0.27209376239661676"
      ]
     },
     "execution_count": 39,
     "metadata": {},
     "output_type": "execute_result"
    }
   ],
   "source": [
    "U_star_val"
   ]
  },
  {
   "cell_type": "code",
   "execution_count": 40,
   "metadata": {},
   "outputs": [
    {
     "name": "stdout",
     "output_type": "stream",
     "text": [
      "-2.0 - 17.0389093987126*I\n",
      "-2.0 + 17.0389093987126*I\n",
      "-2.0 - 8.87163509288763*I\n",
      "-2.0 + 8.87163509288763*I\n",
      "-1.99973440102461 - 25.933489371327*I\n",
      "-1.99973440102461 + 25.933489371327*I\n",
      "-1.99519437941151 - 17.1778421677398*I\n",
      "-1.99519437941151 + 17.1778421677398*I\n",
      "-2.05505520137256 - 8.65252671757401*I\n",
      "-1.5761665372713 - 8.5800477389102*I\n",
      "-2.05505520137256 + 8.65252671757401*I\n",
      "-1.5761665372713 + 8.5800477389102*I\n",
      "-0.847698961840011 - 6.5784061454245e-62*I\n",
      "-2.0 + 1.62385280966733e-59*I\n",
      "-2.0 - 1.6238947803141e-59*I\n",
      "-2.0 - 2.3650871330781e-29*I\n",
      "-2.0 + 2.3650871330781e-29*I\n"
     ]
    }
   ],
   "source": [
    "for i in eigenvalues:\n",
    "    print(i)"
   ]
  },
  {
   "cell_type": "code",
   "execution_count": 41,
   "metadata": {},
   "outputs": [
    {
     "name": "stdout",
     "output_type": "stream",
     "text": [
      "0.27209376239661676\n"
     ]
    }
   ],
   "source": [
    "print(sim0Ustar)"
   ]
  },
  {
   "cell_type": "code",
   "execution_count": 42,
   "metadata": {},
   "outputs": [
    {
     "name": "stdout",
     "output_type": "stream",
     "text": [
      "17424.122459511582\n"
     ]
    }
   ],
   "source": [
    "print(stabilityStat[0])"
   ]
  },
  {
   "cell_type": "code",
   "execution_count": 43,
   "metadata": {},
   "outputs": [
    {
     "data": {
      "text/plain": [
       "0.2723210235044649"
      ]
     },
     "execution_count": 43,
     "metadata": {},
     "output_type": "execute_result"
    }
   ],
   "source": [
    "decayU = sim0.U_History[100000:105000]\n",
    "decayU[-1]\n"
   ]
  },
  {
   "cell_type": "code",
   "execution_count": 44,
   "metadata": {},
   "outputs": [
    {
     "data": {
      "text/plain": [
       "[<matplotlib.lines.Line2D at 0x73bb40a46ba0>]"
      ]
     },
     "execution_count": 44,
     "metadata": {},
     "output_type": "execute_result"
    },
    {
     "data": {
      "image/png": "[encoded data removed]",
      "text/plain": [
       "<Figure size 640x480 with 1 Axes>"
      ]
     },
     "metadata": {},
     "output_type": "display_data"
    }
   ],
   "source": [
    "plt.plot(decayU)"
   ]
  },
  {
   "cell_type": "code",
   "execution_count": 45,
   "metadata": {},
   "outputs": [],
   "source": [
    "decayU = decayU - sim0Ustar\n"
   ]
  },
  {
   "cell_type": "code",
   "execution_count": 46,
   "metadata": {},
   "outputs": [
    {
     "data": {
      "text/plain": [
       "[<matplotlib.lines.Line2D at 0x73bb409566c0>]"
      ]
     },
     "execution_count": 46,
     "metadata": {},
     "output_type": "execute_result"
    },
    {
     "data": {
      "image/png": "[encoded data removed]",
      "text/plain": [
       "<Figure size 640x480 with 1 Axes>"
      ]
     },
     "metadata": {},
     "output_type": "display_data"
    }
   ],
   "source": [
    "\n",
    "plt.plot(decayU)"
   ]
  },
  {
   "cell_type": "code",
   "execution_count": 47,
   "metadata": {},
   "outputs": [
    {
     "data": {
      "text/plain": [
       "[<matplotlib.lines.Line2D at 0x73bb409af860>]"
      ]
     },
     "execution_count": 47,
     "metadata": {},
     "output_type": "execute_result"
    },
    {
     "data": {
      "image/png": "[encoded data removed]",
      "text/plain": [
       "<Figure size 640x480 with 1 Axes>"
      ]
     },
     "metadata": {},
     "output_type": "display_data"
    }
   ],
   "source": [
    "plt.plot(np.log(decayU))"
   ]
  },
  {
   "cell_type": "code",
   "execution_count": 48,
   "metadata": {},
   "outputs": [
    {
     "data": {
      "text/plain": [
       "-0.0008583739897081791"
      ]
     },
     "execution_count": 48,
     "metadata": {},
     "output_type": "execute_result"
    }
   ],
   "source": [
    "slope, intercept, r_value, p_value, std_err = linregress(np.arange(0, len(decayU)), np.log(decayU))\n",
    "slope"
   ]
  },
  {
   "cell_type": "code",
   "execution_count": 49,
   "metadata": {},
   "outputs": [
    {
     "data": {
      "text/plain": [
       "-4.1081071583523165"
      ]
     },
     "execution_count": 49,
     "metadata": {},
     "output_type": "execute_result"
    }
   ],
   "source": [
    "intercept"
   ]
  },
  {
   "cell_type": "markdown",
   "metadata": {},
   "source": [
    "Checking for steps"
   ]
  },
  {
   "cell_type": "code",
   "execution_count": 50,
   "metadata": {},
   "outputs": [
    {
     "name": "stdout",
     "output_type": "stream",
     "text": [
      "Calculating eigenvalues for simulation 0\n"
     ]
    }
   ],
   "source": [
    "combo_list = [(.5, 150)]\n",
    "for idx in range(len(combo_list)):\n",
    "    print(f\"Calculating eigenvalues for simulation {idx}\")\n",
    "    U_star_val = globals()[f'sim{idx}Ustar']\n",
    "    C_star_val = globals()[f'sim{idx}Cstar']\n",
    "    epsilon_val, N_0_squared_val = combo_list[idx]\n",
    "\n",
    "    C_star_subs = {f'C_star{i}': C_star_val[i // 4, i % 4] for i in range(16)}\n",
    "    subs_dict = {'U_star': U_star_val, **C_star_subs}\n",
    "\n",
    "    subs_dict.update({'r_m': r_m_val, 'k': k_val, 'm': m_val, 'm_u': m_u_val, 'dt': dt_val, 'total_time': total_time_val, 'k_e_square': k_e_square_val, 'k_plus_square': k_plus_square_val, 'epsilon': epsilon_val, 'N_0_squared': N_0_squared_val})\n",
    "    A_subs = A.subs(subs_dict)\n",
    "    # A_numeric = np.array(A_subs).astype(np.complex128)\n",
    "    # eigenvalues, eigenvectors = np.linalg.eig(A_numeric)\n",
    "    eigenvalues = A_subs.eigenvals()\n",
    "    globals()[f'Eigenvalues{idx}'] = eigenvalues\n"
   ]
  },
  {
   "cell_type": "code",
   "execution_count": 51,
   "metadata": {},
   "outputs": [
    {
     "data": {
      "text/plain": [
       "0.2723210235044649"
      ]
     },
     "execution_count": 51,
     "metadata": {},
     "output_type": "execute_result"
    }
   ],
   "source": [
    "decayU = sim0.U_History[100000:105000]\n",
    "decayU[-1]"
   ]
  },
  {
   "cell_type": "code",
   "execution_count": 52,
   "metadata": {},
   "outputs": [
    {
     "data": {
      "image/png": "[encoded data removed]",
      "text/plain": [
       "<Figure size 800x600 with 1 Axes>"
      ]
     },
     "metadata": {},
     "output_type": "display_data"
    }
   ],
   "source": [
    "fig, ax = plt.subplots(1, 1, figsize = (8, 6))\n",
    "decay_range = np.arange(0, len(decayU)*dt_val, dt_val)\n",
    "ax.plot(decay_range, decayU)\n",
    "plt.show()"
   ]
  },
  {
   "cell_type": "code",
   "execution_count": 53,
   "metadata": {},
   "outputs": [],
   "source": [
    "decayU = decayU - sim0Ustar"
   ]
  },
  {
   "cell_type": "code",
   "execution_count": 54,
   "metadata": {},
   "outputs": [
    {
     "data": {
      "image/png": "[encoded data removed]",
      "text/plain": [
       "<Figure size 800x600 with 1 Axes>"
      ]
     },
     "metadata": {},
     "output_type": "display_data"
    }
   ],
   "source": [
    "fig, ax = plt.subplots(1, 1, figsize = (8, 6))\n",
    "decay_range = np.arange(0, len(decayU)*dt_val, dt_val)\n",
    "ax.plot(decay_range, decayU)\n",
    "plt.show()"
   ]
  },
  {
   "cell_type": "code",
   "execution_count": 55,
   "metadata": {},
   "outputs": [
    {
     "data": {
      "image/png": "[encoded data removed]",
      "text/plain": [
       "<Figure size 800x600 with 1 Axes>"
      ]
     },
     "metadata": {},
     "output_type": "display_data"
    }
   ],
   "source": [
    "fig, ax = plt.subplots(1, 1, figsize = (8, 6))\n",
    "decay_range = np.arange(0, len(decayU)*dt_val, dt_val)\n",
    "ax.plot(decay_range[4000:], np.log(decayU[4000:]))\n",
    "plt.show()"
   ]
  },
  {
   "cell_type": "code",
   "execution_count": 56,
   "metadata": {},
   "outputs": [
    {
     "data": {
      "text/plain": [
       "-0.8448846746503549"
      ]
     },
     "execution_count": 56,
     "metadata": {},
     "output_type": "execute_result"
    }
   ],
   "source": [
    "slope, intercept, r_value, p_value, std_err = linregress(decay_range[4000:], np.log(decayU[4000:]))\n",
    "slope"
   ]
  },
  {
   "cell_type": "code",
   "execution_count": 57,
   "metadata": {},
   "outputs": [
    {
     "data": {
      "text/plain": [
       "0.0005497914476877172"
      ]
     },
     "execution_count": 57,
     "metadata": {},
     "output_type": "execute_result"
    }
   ],
   "source": [
    "std_err"
   ]
  },
  {
   "cell_type": "code",
   "execution_count": 58,
   "metadata": {},
   "outputs": [
    {
     "data": {
      "text/plain": [
       "-4.161251084304571"
      ]
     },
     "execution_count": 58,
     "metadata": {},
     "output_type": "execute_result"
    }
   ],
   "source": [
    "intercept"
   ]
  },
  {
   "cell_type": "code",
   "execution_count": 59,
   "metadata": {},
   "outputs": [
    {
     "data": {
      "text/plain": [
       "[17424.122459511582,\n",
       " 17879.73388169468,\n",
       " 18509.99134431758,\n",
       " 19329.229721482985,\n",
       " 20340.91781600212,\n",
       " 21534.68727656517,\n",
       " 22888.940396513648,\n",
       " 24376.864277415014,\n",
       " 25972.011845810244,\n",
       " 27651.45302308802,\n",
       " 17425.79889394907,\n",
       " 17883.469701044694,\n",
       " 18516.65641414478,\n",
       " 19339.38481591444,\n",
       " 20354.629756116134,\n",
       " 21551.551575261405,\n",
       " 22908.277573694366,\n",
       " 24397.943001878786,\n",
       " 25994.191829480904,\n",
       " 27674.23644754667,\n",
       " 17427.586325136712,\n",
       " 17887.425715117864,\n",
       " 18523.71864887888,\n",
       " 19350.19774093981,\n",
       " 20369.340458813822,\n",
       " 21569.81112373587,\n",
       " 22929.426187526005,\n",
       " 24421.23538886851,\n",
       " 26018.95024284346,\n",
       " 27699.913440453663,\n",
       " 17429.477818305077,\n",
       " 17891.572862693756,\n",
       " 18531.09698550242,\n",
       " 19361.49684452756,\n",
       " 20384.75366593045,\n",
       " 21589.028769561493,\n",
       " 22951.81403785311,\n",
       " 24446.057235341417,\n",
       " 26045.52242347903,\n",
       " 27727.671441582992,\n",
       " 17431.4703095208,\n",
       " 17895.898017715634,\n",
       " 18538.75366431951,\n",
       " 19373.199086532208,\n",
       " 20400.719716333366,\n",
       " 21608.97298723117,\n",
       " 22975.122602695574,\n",
       " 24472.007765136084,\n",
       " 26073.437072142842,\n",
       " 27756.98397760374,\n",
       " 17433.562218556344,\n",
       " 17900.39435766867,\n",
       " 18546.66880073104,\n",
       " 19385.259960734566,\n",
       " 20417.156625083782,\n",
       " 21629.513623652878,\n",
       " 22999.16749848597,\n",
       " 24498.84745470804,\n",
       " 26102.402879722318,\n",
       " 27787.51419377769,\n",
       " 17435.752629427545,\n",
       " 17905.05792905856,\n",
       " 18554.83083512433,\n",
       " 19397.653436134708,\n",
       " 20434.015991316206,\n",
       " 21650.572837753618,\n",
       " 23023.836609715105,\n",
       " 24526.4277801628,\n",
       " 26132.23521426691,\n",
       " 27819.04351385652,\n",
       " 17438.040958533104,\n",
       " 17909.886228590378,\n",
       " 18563.23247491264,\n",
       " 19410.36312044572,\n",
       " 20451.267311406224,\n",
       " 21672.101358496824,\n",
       " 23049.058394194388,\n",
       " 24554.652882035956,\n",
       " 26162.813237840513,\n",
       " 27851.426599667466,\n",
       " 17440.42680301766,\n",
       " 17914.87754740543,\n",
       " 18571.868787325067,\n",
       " 19423.378014890586,\n",
       " 20468.89023693915,\n",
       " 21694.06638963764,\n",
       " 23074.785139710344,\n",
       " 24583.458473748036,\n",
       " 26194.05522910566,\n",
       " 27884.564126147987,\n",
       " 17442.909864811463,\n",
       " 17920.030640271372,\n",
       " 18580.736227019763,\n",
       " 19436.690318885656,\n",
       " 20486.870499740104,\n",
       " 21716.445108130778,\n",
       " 23100.983742523127,\n",
       " 24612.799901773607,\n",
       " 26225.904180167363,\n",
       " 27918.386348791293]"
      ]
     },
     "execution_count": 59,
     "metadata": {},
     "output_type": "execute_result"
    }
   ],
   "source": [
    "stabilityStat"
   ]
  },
  {
   "cell_type": "markdown",
   "metadata": {},
   "source": [
    "More detailed analysis on .24 150"
   ]
  },
  {
   "cell_type": "code",
   "execution_count": 60,
   "metadata": {},
   "outputs": [
    {
     "name": "stdout",
     "output_type": "stream",
     "text": [
      "Running simulation 0\n"
     ]
    },
    {
     "data": {
      "image/png": "[encoded data removed]",
      "text/plain": [
       "<Figure size 1500x500 with 2 Axes>"
      ]
     },
     "metadata": {},
     "output_type": "display_data"
    }
   ],
   "source": [
    "class SimulationSSD:\n",
    "    def __init__(self, epsilon, N_0_squared, r_m, k, m, m_u, dt, total_time):\n",
    "\n",
    "        #Make sure this is updated\n",
    "\n",
    "        self.epsilon = epsilon\n",
    "        self.N_0_squared = N_0_squared\n",
    "        self.r_m = r_m    \n",
    "        self.k = k\n",
    "        self.m = m\n",
    "        self.m_u = m_u\n",
    "        self.dt = dt\n",
    "        self.total_time = total_time\n",
    "        self.num_steps = int(total_time / dt)\n",
    "        self.k_e_square = k**2 + m**2\n",
    "        self.k_plus_square = k**2 + (m + m_u)**2\n",
    "\n",
    "        self.W_e = np.array([[-1, (k / self.k_e_square)], [-k * N_0_squared, -1]])\n",
    "        self.W_plus = np.array([[-1, -k / self.k_plus_square], [k * N_0_squared, -1]])\n",
    "        self.L_e_plus = np.array([[(-k / (2 * self.k_e_square)) * (self.k_plus_square - m_u**2), 0],\n",
    "                                  [0, k / 2]])\n",
    "        self.L_plus_e = np.array([[(-k / (2 * self.k_plus_square)) * (m_u**2 - self.k_e_square), 0],\n",
    "                                  [0, -k / 2]]) \n",
    "        self.U = 0.01\n",
    "        self.C = np.array([[0, 0, 0, 0], [0, 0, 0, 0], [0, 0, 0, 0], [0, 0, 0, 0]])\n",
    "\n",
    "        self.A_U = np.array([[-1, (k / self.k_e_square), self.U*(-k / (2 * self.k_e_square)) * (self.k_plus_square - m_u**2), self.U*0],\n",
    "                             \n",
    "                             [-k * N_0_squared, -1, self.U*0, self.U*self.k/2],\n",
    "\n",
    "                             [self.U*(-k / (2 * self.k_plus_square)) * (m_u**2 - self.k_e_square), self.U*0, -1, -self.k/self.k_plus_square],\n",
    "\n",
    "                             [self.U*0, self.U* -k / 2,k * N_0_squared, -1]])  \n",
    "    \n",
    "        self.Q = np.array([[8/self.k_e_square, 0, 0, 0], [0, 0, 0, 0], [0, 0, 0, 0], [0, 0, 0, 0]])\n",
    "        self.R = 0\n",
    "        self.C_History = np.zeros((self.num_steps, 4, 4))              \n",
    "        # self.C_History = np.zeros(self.num_steps)\n",
    "        self.U_History = np.zeros(self.num_steps)\n",
    "        self.R_History = np.zeros(self.num_steps)\n",
    "        self.C = self.C.astype(np.float64)\n",
    "\n",
    "    def simulate(self):\n",
    "        for i in range(self.num_steps):\n",
    "            if i == 100000:\n",
    "                self.U = 0.3\n",
    "\n",
    "\n",
    "            self.A_U = np.array([[-1, (k / self.k_e_square), self.U*(-k / (2 * self.k_e_square)) * (self.k_plus_square - m_u**2), self.U*0],\n",
    "                             \n",
    "                             [-k * N_0_squared, -1, self.U*0, self.U*self.k/2],\n",
    "\n",
    "                             [self.U*(-k / (2 * self.k_plus_square)) * (m_u**2 - self.k_e_square), self.U*0, -1, -self.k/self.k_plus_square],\n",
    "\n",
    "                             [self.U*0, self.U* -k / 2,k * N_0_squared, -1]]) \n",
    "                             \n",
    " \n",
    "            C_dot = (self.A_U @ self.C + self.C @ np.transpose(self.A_U) + self.epsilon * self.Q) \n",
    "            U_dot = (self.R - self.r_m * self.U)\n",
    "\n",
    "            \n",
    "            self.C += C_dot * self.dt\n",
    "            self.U += U_dot * self.dt\n",
    "            self.R = 0.25 * self.k * (self.k_plus_square - self.k_e_square) * self.C[0][2]\n",
    "\n",
    "            self.C_History[i] = self.C\n",
    "            self.U_History[i] = self.U\n",
    "            self.R_History[i] = self.R\n",
    "\n",
    "    def make_plots(self):\n",
    "\n",
    "        time_array = np.arange(0, self.total_time, .001)\n",
    "        fig, axs = plt.subplots(1, 2, figsize = (15, 5))\n",
    "\n",
    "       \n",
    "        axs[0].plot(time_array, self.U_History)\n",
    "        axs[0].set_title(f\"U History\")\n",
    "        axs[0].grid()\n",
    "        # axs[0].set_xlim(50, 75)\n",
    "        # axs[0].set_ylim(.29, .295)\n",
    "        axs[1].plot(time_array, self.R_History)\n",
    "        axs[1].set_title(f\"R Values\")\n",
    "        axs[1].grid()\n",
    "\n",
    "\n",
    "        plt.show()\n",
    "\n",
    "\n",
    "if __name__ == \"__main__\":\n",
    "    epsilon_values = [.24]\n",
    "    # epsilon_values = [.06]\n",
    "    N_0_squared_values = [150]\n",
    "    combo_list = list(itertools.product(epsilon_values, N_0_squared_values))\n",
    "\n",
    "    r_m = 0.1\n",
    "    k = 2 * np.pi * 6\n",
    "    m = 2 * np.pi * 3\n",
    "    m_u = 2 * np.pi * 7\n",
    "    dt = 0.001\n",
    "    total_time = 200\n",
    "    simulations = []\n",
    "    for idx, (epsilon, N_0_squared) in enumerate(combo_list):\n",
    "        print(f\"Running simulation {idx}\")\n",
    "        sim = SimulationSSD(epsilon, N_0_squared, r_m, k, m, m_u, dt, total_time)\n",
    "        sim.simulate()\n",
    "        simulations.append(sim)\n",
    "        globals()[f'sim{idx}'] = sim\n",
    "        globals()[f'sim{idx}Ustar'] = sim.U_History[-1]\n",
    "        globals()[f'sim{idx}Cstar'] = sim.C_History[-1]\n",
    "        sim.make_plots()"
   ]
  },
  {
   "cell_type": "code",
   "execution_count": 61,
   "metadata": {},
   "outputs": [
    {
     "name": "stdout",
     "output_type": "stream",
     "text": [
      "Calculating eigenvalues for simulation 0\n"
     ]
    }
   ],
   "source": [
    "combo_list = [(.24, 150)]\n",
    "for idx in range(len(combo_list)):\n",
    "    print(f\"Calculating eigenvalues for simulation {idx}\")\n",
    "    U_star_val = globals()[f'sim{idx}Ustar']\n",
    "    C_star_val = globals()[f'sim{idx}Cstar']\n",
    "    epsilon_val, N_0_squared_val = combo_list[idx]\n",
    "\n",
    "    C_star_subs = {f'C_star{i}': C_star_val[i // 4, i % 4] for i in range(16)}\n",
    "    subs_dict = {'U_star': U_star_val, **C_star_subs}\n",
    "\n",
    "    subs_dict.update({'r_m': r_m_val, 'k': k_val, 'm': m_val, 'm_u': m_u_val, 'dt': dt_val, 'total_time': total_time_val, 'k_e_square': k_e_square_val, 'k_plus_square': k_plus_square_val, 'epsilon': epsilon_val, 'N_0_squared': N_0_squared_val})\n",
    "    A_subs = A.subs(subs_dict)\n",
    "    # A_numeric = np.array(A_subs).astype(np.complex128)\n",
    "    # eigenvalues, eigenvectors = np.linalg.eig(A_numeric)\n",
    "    eigenvalues = A_subs.eigenvals()\n",
    "    globals()[f'Eigenvalues{idx}'] = eigenvalues\n"
   ]
  },
  {
   "cell_type": "code",
   "execution_count": 62,
   "metadata": {},
   "outputs": [
    {
     "data": {
      "text/plain": [
       "0.29422985769340126"
      ]
     },
     "execution_count": 62,
     "metadata": {},
     "output_type": "execute_result"
    }
   ],
   "source": [
    "U_star_val"
   ]
  },
  {
   "cell_type": "code",
   "execution_count": 63,
   "metadata": {},
   "outputs": [
    {
     "name": "stdout",
     "output_type": "stream",
     "text": [
      "-2.0 - 16.9669511535006*I\n",
      "-2.0 + 16.9669511535006*I\n",
      "-2.0 - 9.4633356081942*I\n",
      "-2.0 + 9.4633356081942*I\n",
      "-1.99863777058245 - 26.5222148190261*I\n",
      "-1.99863777058245 + 26.5222148190261*I\n",
      "-1.9534196572004 - 17.5127441038743*I\n",
      "-0.370218189165104 - 9.55229726515373*I\n",
      "-2.3135772722923 - 8.94320520891372*I\n",
      "-1.9534196572004 + 17.5127441038743*I\n",
      "-2.82829422151951 + 6.47014945375121e-62*I\n",
      "-2.0 + 6.20592037494487e-60*I\n",
      "-2.0 - 6.19835010360736e-60*I\n",
      "-2.0 - 7.02652562794693e-29*I\n",
      "-2.0 + 7.02652562794693e-29*I\n",
      "-2.3135772722923 + 8.94320520891372*I\n",
      "-0.370218189165104 + 9.55229726515373*I\n"
     ]
    }
   ],
   "source": [
    "for i in eigenvalues:\n",
    "    print(i)"
   ]
  },
  {
   "cell_type": "code",
   "execution_count": 64,
   "metadata": {},
   "outputs": [
    {
     "data": {
      "text/plain": [
       "0.29422985769339766"
      ]
     },
     "execution_count": 64,
     "metadata": {},
     "output_type": "execute_result"
    }
   ],
   "source": [
    "sim90Ustar"
   ]
  },
  {
   "cell_type": "code",
   "execution_count": 65,
   "metadata": {},
   "outputs": [
    {
     "data": {
      "text/plain": [
       "17442.909864811463"
      ]
     },
     "execution_count": 65,
     "metadata": {},
     "output_type": "execute_result"
    }
   ],
   "source": [
    "stabilityStat[90]"
   ]
  },
  {
   "cell_type": "code",
   "execution_count": 66,
   "metadata": {},
   "outputs": [
    {
     "data": {
      "text/plain": [
       "0.2942288077267042"
      ]
     },
     "execution_count": 66,
     "metadata": {},
     "output_type": "execute_result"
    }
   ],
   "source": [
    "decayU = sim0.U_History[100000:120000]\n",
    "decayU[-1]\n"
   ]
  },
  {
   "cell_type": "code",
   "execution_count": 67,
   "metadata": {},
   "outputs": [
    {
     "data": {
      "text/plain": [
       "array([0.29423171, 0.29423168, 0.29423166, 0.29423163, 0.2942316 ,\n",
       "       0.29423158, 0.29423155, 0.29423152, 0.2942315 , 0.29423147,\n",
       "       0.29423144, 0.29423141, 0.29423139, 0.29423136, 0.29423133,\n",
       "       0.2942313 , 0.29423127, 0.29423125, 0.29423122, 0.29423119,\n",
       "       0.29423116, 0.29423113, 0.2942311 , 0.29423107, 0.29423104,\n",
       "       0.29423102, 0.29423099, 0.29423096, 0.29423093, 0.2942309 ,\n",
       "       0.29423087, 0.29423084, 0.29423081, 0.29423078, 0.29423075,\n",
       "       0.29423072, 0.29423069, 0.29423066, 0.29423063, 0.2942306 ,\n",
       "       0.29423057, 0.29423054, 0.29423051, 0.29423048, 0.29423045,\n",
       "       0.29423042, 0.29423039, 0.29423036, 0.29423033, 0.2942303 ,\n",
       "       0.29423027, 0.29423024, 0.29423021, 0.29423018, 0.29423014,\n",
       "       0.29423011, 0.29423008, 0.29423005, 0.29423002, 0.29422999,\n",
       "       0.29422996, 0.29422993, 0.2942299 , 0.29422987, 0.29422984,\n",
       "       0.29422981, 0.29422978, 0.29422975, 0.29422972, 0.29422969,\n",
       "       0.29422966, 0.29422963, 0.2942296 , 0.29422957, 0.29422954,\n",
       "       0.29422951, 0.29422948, 0.29422945, 0.29422942, 0.29422939,\n",
       "       0.29422936, 0.29422933, 0.2942293 , 0.29422927, 0.29422924,\n",
       "       0.29422921, 0.29422918, 0.29422915, 0.29422912, 0.29422909,\n",
       "       0.29422906, 0.29422904, 0.29422901, 0.29422898, 0.29422895,\n",
       "       0.29422892, 0.29422889, 0.29422886, 0.29422884, 0.29422881])"
      ]
     },
     "execution_count": 67,
     "metadata": {},
     "output_type": "execute_result"
    }
   ],
   "source": [
    "decayU[-100:]"
   ]
  },
  {
   "cell_type": "code",
   "execution_count": 68,
   "metadata": {},
   "outputs": [
    {
     "data": {
      "text/plain": [
       "[<matplotlib.lines.Line2D at 0x73bb3f696720>]"
      ]
     },
     "execution_count": 68,
     "metadata": {},
     "output_type": "execute_result"
    },
    {
     "data": {
      "image/png": "[encoded data removed]",
      "text/plain": [
       "<Figure size 640x480 with 1 Axes>"
      ]
     },
     "metadata": {},
     "output_type": "display_data"
    }
   ],
   "source": [
    "plt.plot(decayU)"
   ]
  },
  {
   "cell_type": "code",
   "execution_count": 69,
   "metadata": {},
   "outputs": [],
   "source": [
    "decayU = decayU - sim90Ustar"
   ]
  },
  {
   "cell_type": "code",
   "execution_count": 70,
   "metadata": {},
   "outputs": [
    {
     "data": {
      "text/plain": [
       "[<matplotlib.lines.Line2D at 0x73bb3f4edb80>]"
      ]
     },
     "execution_count": 70,
     "metadata": {},
     "output_type": "execute_result"
    },
    {
     "data": {
      "image/png": "[encoded data removed]",
      "text/plain": [
       "<Figure size 640x480 with 1 Axes>"
      ]
     },
     "metadata": {},
     "output_type": "display_data"
    }
   ],
   "source": [
    "plt.plot(decayU)"
   ]
  },
  {
   "cell_type": "code",
   "execution_count": 71,
   "metadata": {},
   "outputs": [
    {
     "name": "stderr",
     "output_type": "stream",
     "text": [
      "/tmp/ipykernel_10246/284651738.py:1: RuntimeWarning: invalid value encountered in log\n",
      "  plt.plot(np.log(decayU))\n"
     ]
    },
    {
     "data": {
      "text/plain": [
       "[<matplotlib.lines.Line2D at 0x73bb3f624f50>]"
      ]
     },
     "execution_count": 71,
     "metadata": {},
     "output_type": "execute_result"
    },
    {
     "data": {
      "image/png": "[encoded data removed]",
      "text/plain": [
       "<Figure size 640x480 with 1 Axes>"
      ]
     },
     "metadata": {},
     "output_type": "display_data"
    }
   ],
   "source": [
    "plt.plot(np.log(decayU))"
   ]
  },
  {
   "cell_type": "code",
   "execution_count": 72,
   "metadata": {},
   "outputs": [
    {
     "name": "stderr",
     "output_type": "stream",
     "text": [
      "/tmp/ipykernel_10246/2397472033.py:1: RuntimeWarning: invalid value encountered in log\n",
      "  slope, intercept, r_value, p_value, std_err = linregress(np.arange(0, len(decayU)), np.log(decayU))\n"
     ]
    },
    {
     "data": {
      "text/plain": [
       "nan"
      ]
     },
     "execution_count": 72,
     "metadata": {},
     "output_type": "execute_result"
    }
   ],
   "source": [
    "slope, intercept, r_value, p_value, std_err = linregress(np.arange(0, len(decayU)), np.log(decayU))\n",
    "slope"
   ]
  },
  {
   "cell_type": "code",
   "execution_count": 73,
   "metadata": {},
   "outputs": [
    {
     "data": {
      "text/plain": [
       "nan"
      ]
     },
     "execution_count": 73,
     "metadata": {},
     "output_type": "execute_result"
    }
   ],
   "source": [
    "intercept"
   ]
  },
  {
   "cell_type": "markdown",
   "metadata": {},
   "source": [
    "Checking if Normal"
   ]
  },
  {
   "cell_type": "code",
   "execution_count": 74,
   "metadata": {},
   "outputs": [
    {
     "name": "stdout",
     "output_type": "stream",
     "text": [
      "Running simulation 0\n"
     ]
    },
    {
     "data": {
      "image/png": "[encoded data removed]",
      "text/plain": [
       "<Figure size 1500x500 with 2 Axes>"
      ]
     },
     "metadata": {},
     "output_type": "display_data"
    }
   ],
   "source": [
    "class SimulationSSD:\n",
    "    def __init__(self, epsilon, N_0_squared, r_m, k, m, m_u, dt, total_time):\n",
    "\n",
    "        #Make sure this is updated\n",
    "\n",
    "        self.epsilon = epsilon\n",
    "        self.N_0_squared = N_0_squared\n",
    "        self.r_m = r_m    \n",
    "        self.k = k\n",
    "        self.m = m\n",
    "        self.m_u = m_u\n",
    "        self.dt = dt\n",
    "        self.total_time = total_time\n",
    "        self.num_steps = int(total_time / dt)\n",
    "        self.k_e_square = k**2 + m**2\n",
    "        self.k_plus_square = k**2 + (m + m_u)**2\n",
    "\n",
    "        self.W_e = np.array([[-1, (k / self.k_e_square)], [-k * N_0_squared, -1]])\n",
    "        self.W_plus = np.array([[-1, -k / self.k_plus_square], [k * N_0_squared, -1]])\n",
    "        self.L_e_plus = np.array([[(-k / (2 * self.k_e_square)) * (self.k_plus_square - m_u**2), 0],\n",
    "                                  [0, k / 2]])\n",
    "        self.L_plus_e = np.array([[(-k / (2 * self.k_plus_square)) * (m_u**2 - self.k_e_square), 0],\n",
    "                                  [0, -k / 2]]) \n",
    "        self.U = 0.01\n",
    "        self.C = np.array([[0, 0, 0, 0], [0, 0, 0, 0], [0, 0, 0, 0], [0, 0, 0, 0]])\n",
    "\n",
    "        self.A_U = np.array([[-1, (k / self.k_e_square), self.U*(-k / (2 * self.k_e_square)) * (self.k_plus_square - m_u**2), self.U*0],\n",
    "                             \n",
    "                             [-k * N_0_squared, -1, self.U*0, self.U*self.k/2],\n",
    "\n",
    "                             [self.U*(-k / (2 * self.k_plus_square)) * (m_u**2 - self.k_e_square), self.U*0, -1, -self.k/self.k_plus_square],\n",
    "\n",
    "                             [self.U*0, self.U* -k / 2,k * N_0_squared, -1]])  \n",
    "    \n",
    "        self.Q = np.array([[8/self.k_e_square, 0, 0, 0], [0, 0, 0, 0], [0, 0, 0, 0], [0, 0, 0, 0]])\n",
    "        self.R = 0\n",
    "        self.C_History = np.zeros((self.num_steps, 4, 4))              \n",
    "        # self.C_History = np.zeros(self.num_steps)\n",
    "        self.U_History = np.zeros(self.num_steps)\n",
    "        self.R_History = np.zeros(self.num_steps)\n",
    "        self.C = self.C.astype(np.float64)\n",
    "\n",
    "    def simulate(self):\n",
    "        for i in range(self.num_steps):\n",
    "            # if i == 100000:\n",
    "            #     self.U = 0.3\n",
    "\n",
    "\n",
    "            self.A_U = np.array([[-1, (k / self.k_e_square), self.U*(-k / (2 * self.k_e_square)) * (self.k_plus_square - m_u**2), self.U*0],\n",
    "                             \n",
    "                             [-k * N_0_squared, -1, self.U*0, self.U*self.k/2],\n",
    "\n",
    "                             [self.U*(-k / (2 * self.k_plus_square)) * (m_u**2 - self.k_e_square), self.U*0, -1, -self.k/self.k_plus_square],\n",
    "\n",
    "                             [self.U*0, self.U* -k / 2,k * N_0_squared, -1]]) \n",
    "                             \n",
    " \n",
    "            C_dot = (self.A_U @ self.C + self.C @ np.transpose(self.A_U) + self.epsilon * self.Q) \n",
    "            U_dot = (self.R - self.r_m * self.U)\n",
    "\n",
    "            \n",
    "            self.C += C_dot * self.dt\n",
    "            self.U += U_dot * self.dt\n",
    "            self.R = 0.25 * self.k * (self.k_plus_square - self.k_e_square) * self.C[0][2]\n",
    "\n",
    "            self.C_History[i] = self.C\n",
    "            self.U_History[i] = self.U\n",
    "            self.R_History[i] = self.R\n",
    "\n",
    "    def make_plots(self):\n",
    "\n",
    "        time_array = np.arange(0, self.total_time, .001)\n",
    "        fig, axs = plt.subplots(1, 2, figsize = (15, 5))\n",
    "\n",
    "       \n",
    "        axs[0].plot(time_array, self.U_History)\n",
    "        axs[0].set_title(f\"U History\")\n",
    "        axs[0].grid()\n",
    "        # axs[0].set_xlim(50, 75)\n",
    "        # axs[0].set_ylim(.29, .295)\n",
    "        axs[1].plot(time_array, self.R_History)\n",
    "        axs[1].set_title(f\"R Values\")\n",
    "        axs[1].grid()\n",
    "\n",
    "\n",
    "        plt.show()\n",
    "\n",
    "\n",
    "if __name__ == \"__main__\":\n",
    "    epsilon_values = [.24]\n",
    "    # epsilon_values = [.06]\n",
    "    N_0_squared_values = [150]\n",
    "    combo_list = list(itertools.product(epsilon_values, N_0_squared_values))\n",
    "\n",
    "    r_m = 0.1\n",
    "    k = 2 * np.pi * 6\n",
    "    m = 2 * np.pi * 3\n",
    "    m_u = 2 * np.pi * 7\n",
    "    dt = 0.001\n",
    "    total_time = 200\n",
    "    simulations = []\n",
    "    for idx, (epsilon, N_0_squared) in enumerate(combo_list):\n",
    "        print(f\"Running simulation {idx}\")\n",
    "        sim = SimulationSSD(epsilon, N_0_squared, r_m, k, m, m_u, dt, total_time)\n",
    "        sim.simulate()\n",
    "        simulations.append(sim)\n",
    "        globals()[f'sim{idx}'] = sim\n",
    "        globals()[f'sim{idx}Ustar'] = sim.U_History[-1]\n",
    "        globals()[f'sim{idx}Cstar'] = sim.C_History[-1]\n",
    "        sim.make_plots()"
   ]
  },
  {
   "cell_type": "code",
   "execution_count": 75,
   "metadata": {},
   "outputs": [
    {
     "data": {
      "text/latex": [
       "$\\displaystyle \\left[\\begin{array}{ccccccccccccccccc}-2 & 0.0212206590789194 & -10.7224641689976 & 0 & 0.0212206590789194 & 0 & 0 & 0 & -10.7224641689976 & 0 & 0 & 0 & 0 & 0 & 0 & 0 & -6.33362495156113 \\cdot 10^{-5}\\\\-5654.86677646163 & -2 & 0 & 5.54610215637809 & 0 & 0.0212206590789194 & 0 & 0 & 0 & -10.7224641689976 & 0 & 0 & 0 & 0 & 0 & 0 & -0.806590311121669\\\\-0.163120651658179 & 0 & -2 & -0.00702154160699538 & 0 & 0 & 0.0212206590789194 & 0 & 0 & 0 & -10.7224641689976 & 0 & 0 & 0 & 0 & 0 & -0.00141056763703769\\\\0 & -5.54610215637809 & 5654.86677646163 & -2 & 0 & 0 & 0 & 0.0212206590789194 & 0 & 0 & 0 & -10.7224641689976 & 0 & 0 & 0 & 0 & 0.521622031731146\\\\-5654.86677646163 & 0 & 0 & 0 & -2 & 0.0212206590789194 & -10.7224641689976 & 0 & 0 & 0 & 0 & 0 & 5.54610215637809 & 0 & 0 & 0 & -0.806590311121669\\\\0 & -5654.86677646163 & 0 & 0 & -5654.86677646163 & -2 & 0 & 5.54610215637809 & 0 & 0 & 0 & 0 & 0 & 5.54610215637809 & 0 & 0 & -328.925391138876\\\\0 & 0 & -5654.86677646163 & 0 & -0.163120651658179 & 0 & -2 & -0.00702154160699538 & 0 & 0 & 0 & 0 & 0 & 0 & 5.54610215637809 & 0 & -0.088107439481395\\\\0 & 0 & 0 & -5654.86677646163 & 0 & -5.54610215637809 & 5654.86677646163 & -2 & 0 & 0 & 0 & 0 & 0 & 0 & 0 & 5.54610215637809 & -608.833135901688\\\\-0.163120651658179 & 0 & 0 & 0 & 0 & 0 & 0 & 0 & -2 & 0.0212206590789194 & -10.7224641689976 & 0 & -0.00702154160699538 & 0 & 0 & 0 & -0.00141056763703769\\\\0 & -0.163120651658179 & 0 & 0 & 0 & 0 & 0 & 0 & -5654.86677646163 & -2 & 0 & 5.54610215637809 & 0 & -0.00702154160699538 & 0 & 0 & -0.088107439481395\\\\0 & 0 & -0.163120651658179 & 0 & 0 & 0 & 0 & 0 & -0.163120651658179 & 0 & -2 & -0.00702154160699538 & 0 & 0 & -0.00702154160699538 & 0 & -9.63533207641146 \\cdot 10^{-7}\\\\0 & 0 & 0 & -0.163120651658179 & 0 & 0 & 0 & 0 & 0 & -5.54610215637809 & 5654.86677646163 & -2 & 0 & 0 & 0 & -0.00702154160699538 & -0.279333054992981\\\\0 & 0 & 0 & 0 & -5.54610215637809 & 0 & 0 & 0 & 5654.86677646163 & 0 & 0 & 0 & -2 & 0.0212206590789194 & -10.7224641689976 & 0 & 0.521622031731146\\\\0 & 0 & 0 & 0 & 0 & -5.54610215637809 & 0 & 0 & 0 & 5654.86677646163 & 0 & 0 & -5654.86677646163 & -2 & 0 & 5.54610215637809 & -608.833135901688\\\\0 & 0 & 0 & 0 & 0 & 0 & -5.54610215637809 & 0 & 0 & 0 & 5654.86677646163 & 0 & -0.163120651658179 & 0 & -2 & -0.00702154160699538 & -0.279333054992981\\\\0 & 0 & 0 & 0 & 0 & 0 & 0 & -5.54610215637809 & 0 & 0 & 0 & 5654.86677646163 & 0 & -5.54610215637809 & 5654.86677646163 & -2 & 328.925391138876\\\\0 & 0 & 33858.8541348874 & 0 & 0 & 0 & 0 & 0 & 0 & 0 & 0 & 0 & 0 & 0 & 0 & 0 & -0.1\\end{array}\\right]$"
      ],
      "text/plain": [
       "Matrix([\n",
       "[                -2, 0.0212206590789194,  -10.7224641689976,                    0, 0.0212206590789194,                  0,                  0,                    0,  -10.7224641689976,                  0,                 0,                    0,                    0,                    0,                    0,                    0, -6.33362495156113e-5],\n",
       "[ -5654.86677646163,                 -2,                  0,     5.54610215637809,                  0, 0.0212206590789194,                  0,                    0,                  0,  -10.7224641689976,                 0,                    0,                    0,                    0,                    0,                    0,   -0.806590311121669],\n",
       "[-0.163120651658179,                  0,                 -2, -0.00702154160699538,                  0,                  0, 0.0212206590789194,                    0,                  0,                  0, -10.7224641689976,                    0,                    0,                    0,                    0,                    0, -0.00141056763703769],\n",
       "[                 0,  -5.54610215637809,   5654.86677646163,                   -2,                  0,                  0,                  0,   0.0212206590789194,                  0,                  0,                 0,    -10.7224641689976,                    0,                    0,                    0,                    0,    0.521622031731146],\n",
       "[ -5654.86677646163,                  0,                  0,                    0,                 -2, 0.0212206590789194,  -10.7224641689976,                    0,                  0,                  0,                 0,                    0,     5.54610215637809,                    0,                    0,                    0,   -0.806590311121669],\n",
       "[                 0,  -5654.86677646163,                  0,                    0,  -5654.86677646163,                 -2,                  0,     5.54610215637809,                  0,                  0,                 0,                    0,                    0,     5.54610215637809,                    0,                    0,    -328.925391138876],\n",
       "[                 0,                  0,  -5654.86677646163,                    0, -0.163120651658179,                  0,                 -2, -0.00702154160699538,                  0,                  0,                 0,                    0,                    0,                    0,     5.54610215637809,                    0,   -0.088107439481395],\n",
       "[                 0,                  0,                  0,    -5654.86677646163,                  0,  -5.54610215637809,   5654.86677646163,                   -2,                  0,                  0,                 0,                    0,                    0,                    0,                    0,     5.54610215637809,    -608.833135901688],\n",
       "[-0.163120651658179,                  0,                  0,                    0,                  0,                  0,                  0,                    0,                 -2, 0.0212206590789194, -10.7224641689976,                    0, -0.00702154160699538,                    0,                    0,                    0, -0.00141056763703769],\n",
       "[                 0, -0.163120651658179,                  0,                    0,                  0,                  0,                  0,                    0,  -5654.86677646163,                 -2,                 0,     5.54610215637809,                    0, -0.00702154160699538,                    0,                    0,   -0.088107439481395],\n",
       "[                 0,                  0, -0.163120651658179,                    0,                  0,                  0,                  0,                    0, -0.163120651658179,                  0,                -2, -0.00702154160699538,                    0,                    0, -0.00702154160699538,                    0, -9.63533207641146e-7],\n",
       "[                 0,                  0,                  0,   -0.163120651658179,                  0,                  0,                  0,                    0,                  0,  -5.54610215637809,  5654.86677646163,                   -2,                    0,                    0,                    0, -0.00702154160699538,   -0.279333054992981],\n",
       "[                 0,                  0,                  0,                    0,  -5.54610215637809,                  0,                  0,                    0,   5654.86677646163,                  0,                 0,                    0,                   -2,   0.0212206590789194,    -10.7224641689976,                    0,    0.521622031731146],\n",
       "[                 0,                  0,                  0,                    0,                  0,  -5.54610215637809,                  0,                    0,                  0,   5654.86677646163,                 0,                    0,    -5654.86677646163,                   -2,                    0,     5.54610215637809,    -608.833135901688],\n",
       "[                 0,                  0,                  0,                    0,                  0,                  0,  -5.54610215637809,                    0,                  0,                  0,  5654.86677646163,                    0,   -0.163120651658179,                    0,                   -2, -0.00702154160699538,   -0.279333054992981],\n",
       "[                 0,                  0,                  0,                    0,                  0,                  0,                  0,    -5.54610215637809,                  0,                  0,                 0,     5654.86677646163,                    0,    -5.54610215637809,     5654.86677646163,                   -2,     328.925391138876],\n",
       "[                 0,                  0,   33858.8541348874,                    0,                  0,                  0,                  0,                    0,                  0,                  0,                 0,                    0,                    0,                    0,                    0,                    0,                 -0.1]])"
      ]
     },
     "execution_count": 75,
     "metadata": {},
     "output_type": "execute_result"
    }
   ],
   "source": [
    "combo_list = [(.24, 150)]\n",
    "for idx in range(len(combo_list)):\n",
    "    # print(f\"Calculating eigenvalues for simulation {idx}\")\n",
    "    U_star_val = globals()[f'sim{idx}Ustar']\n",
    "    C_star_val = globals()[f'sim{idx}Cstar']\n",
    "    epsilon_val, N_0_squared_val = combo_list[idx]\n",
    "\n",
    "    C_star_subs = {f'C_star{i}': C_star_val[i // 4, i % 4] for i in range(16)}\n",
    "    subs_dict = {'U_star': U_star_val, **C_star_subs}\n",
    "\n",
    "    subs_dict.update({'r_m': r_m_val, 'k': k_val, 'm': m_val, 'm_u': m_u_val, 'dt': dt_val, 'total_time': total_time_val, 'k_e_square': k_e_square_val, 'k_plus_square': k_plus_square_val, 'epsilon': epsilon_val, 'N_0_squared': N_0_squared_val})\n",
    "    A_subs = A.subs(subs_dict)\n",
    "    # A_numeric = np.array(A_subs).astype(np.complex128)\n",
    "    # eigenvalues, eigenvectors = np.linalg.eig(A_numeric)\n",
    "    # eigenvalues = A_subs.eigenvals()\n",
    "    # globals()[f'Eigenvalues{idx}'] = eigenvalues\n",
    "A_subs"
   ]
  },
  {
   "cell_type": "code",
   "execution_count": 76,
   "metadata": {},
   "outputs": [
    {
     "data": {
      "text/plain": [
       "{-2.0 - 16.9669511535006*I: 1,\n",
       " -2.0 + 16.9669511535006*I: 1,\n",
       " -2.0 - 9.4633356081941*I: 1,\n",
       " -2.0 + 9.4633356081941*I: 1,\n",
       " -1.99863777058245 - 26.522214819026*I: 1,\n",
       " -1.99863777058245 + 26.522214819026*I: 1,\n",
       " -1.9534196572004 - 17.5127441038743*I: 1,\n",
       " -0.370218189165144 - 9.55229726515369*I: 1,\n",
       " -2.3135772722923 - 8.94320520891369*I: 1,\n",
       " -1.9534196572004 + 17.5127441038743*I: 1,\n",
       " -2.82829422151942 - 6.56783364715292e-61*I: 1,\n",
       " -2.0 + 4.92412256422902e-63*I: 1,\n",
       " -2.0 - 2.53437336684871e-63*I: 1,\n",
       " -2.0 - 4.0932941844741e-29*I: 1,\n",
       " -2.0 + 4.0932941844741e-29*I: 1,\n",
       " -2.3135772722923 + 8.94320520891369*I: 1,\n",
       " -0.370218189165144 + 9.55229726515369*I: 1}"
      ]
     },
     "execution_count": 76,
     "metadata": {},
     "output_type": "execute_result"
    }
   ],
   "source": [
    "A_subs.eigenvals()"
   ]
  },
  {
   "cell_type": "code",
   "execution_count": 77,
   "metadata": {},
   "outputs": [],
   "source": [
    "def power_method(A, num_steps=100):\n",
    "    \"\"\"\n",
    "    Computes the dominant eigenvalue and eigenvector of matrix A using the power method.\n",
    "    \n",
    "    Parameters:\n",
    "        A (numpy.ndarray): The matrix for which we compute the dominant eigenpair.\n",
    "        num_steps (int): The number of iterations to perform.\n",
    "    \n",
    "    Returns:\n",
    "        eigenvalue (float): Estimated dominant eigenvalue.\n",
    "        eigenvector (numpy.ndarray): Estimated dominant eigenvector.\n",
    "    \"\"\"\n",
    "    n = A.shape[0]\n",
    "    v = np.random.rand(n).astype(np.float64)  # Start with a random vector\n",
    "    v = v / np.linalg.norm(v)  # Normalize\n",
    "    \n",
    "    for _ in range(num_steps):\n",
    "        v = A @ v  # Matrix-vector multiplication\n",
    "        # vnorm = np.sqrt(np.dot(v,v))\n",
    "        v = v / np.linalg.norm(v)  # Normalize\n",
    "        # v = v / vnorm  # Normalize\n",
    "\n",
    "    # Compute the estimated eigenvalue using the Rayleigh quotient\n",
    "    eigenvalue = (v @ A @ v) / (v @ v)\n",
    "    \n",
    "    return eigenvalue, v\n",
    "\n"
   ]
  },
  {
   "cell_type": "code",
   "execution_count": 78,
   "metadata": {},
   "outputs": [],
   "source": [
    "np.random.seed(None)"
   ]
  },
  {
   "cell_type": "code",
   "execution_count": 79,
   "metadata": {},
   "outputs": [],
   "source": [
    "A_subs_np = np.array(A_subs).astype(np.float64)"
   ]
  },
  {
   "cell_type": "code",
   "execution_count": 80,
   "metadata": {},
   "outputs": [
    {
     "data": {
      "text/plain": [
       "EigResult(eigenvalues=array([-1.99863777+26.52221482j, -1.99863777-26.52221482j,\n",
       "       -1.95341966+17.5127441j , -1.95341966-17.5127441j ,\n",
       "       -0.37021819 +9.55229727j, -0.37021819 -9.55229727j,\n",
       "       -2.31357727 +8.94320521j, -2.31357727 -8.94320521j,\n",
       "       -2.82829422 +0.j        , -2.        +16.96695115j,\n",
       "       -2.        -16.96695115j, -2.         +9.46333561j,\n",
       "       -2.         -9.46333561j, -1.99999992 +0.j        ,\n",
       "       -2.00000008 +0.j        , -2.         +0.j        ,\n",
       "       -2.         +0.j        ]), eigenvectors=array([[-2.53633395e-06+2.57827773e-08j, -2.53633395e-06-2.57827773e-08j,\n",
       "         2.43162329e-06+1.62913209e-07j,  2.43162329e-06-1.62913209e-07j,\n",
       "        -4.02134364e-07+7.11259117e-07j, -4.02134364e-07-7.11259117e-07j,\n",
       "        -4.79424486e-07-1.97501658e-06j, -4.79424486e-07+1.97501658e-06j,\n",
       "        -1.34392693e-06+0.00000000e+00j, -1.97989584e-06-1.47869567e-20j,\n",
       "        -1.97989584e-06+1.47869567e-20j,  1.79155297e-06-1.51773925e-20j,\n",
       "         1.79155297e-06+1.51773925e-20j,  2.51641766e-08+0.00000000e+00j,\n",
       "         2.51639937e-08+0.00000000e+00j, -9.45323122e-08+0.00000000e+00j,\n",
       "        -2.26845049e-06+0.00000000e+00j],\n",
       "       [-9.77523019e-06-1.38290461e-03j, -9.77523019e-06+1.38290461e-03j,\n",
       "        -5.92735679e-05+1.57481454e-03j, -5.92735679e-05-1.57481454e-03j,\n",
       "        -3.31470067e-04+7.45470851e-04j, -3.31470067e-04-7.45470851e-04j,\n",
       "         5.21550967e-04+2.85190878e-04j,  5.21550967e-04-2.85190878e-04j,\n",
       "        -2.73992675e-04+0.00000000e+00j,  7.53429433e-18-1.12753507e-03j,\n",
       "         7.53429433e-18+1.12753507e-03j, -5.21589738e-18+1.34043416e-03j,\n",
       "        -5.21589738e-18-1.34043416e-03j,  1.62601121e-10+0.00000000e+00j,\n",
       "        -1.62601092e-10+0.00000000e+00j, -1.15293713e-03+0.00000000e+00j,\n",
       "         8.98354387e-05+0.00000000e+00j],\n",
       "       [ 1.12043617e-08+4.00097840e-07j,  1.12043617e-08-4.00097840e-07j,\n",
       "         4.06626578e-09+1.13127965e-06j,  4.06626578e-09-1.13127965e-06j,\n",
       "        -3.25433192e-07+1.59748778e-06j, -3.25433192e-07-1.59748778e-06j,\n",
       "         1.94254912e-07+7.39447257e-07j,  1.94254912e-07-7.39447257e-07j,\n",
       "        -6.16769134e-07+0.00000000e+00j,  9.74351716e-21-9.67019739e-20j,\n",
       "         9.74351716e-21+9.67019739e-20j, -7.31215490e-21+1.67196744e-20j,\n",
       "        -7.31215490e-21-1.67196744e-20j,  3.74529131e-14+0.00000000e+00j,\n",
       "        -3.74529141e-14+0.00000000e+00j, -9.70326058e-21+0.00000000e+00j,\n",
       "         1.36397280e-21+0.00000000e+00j],\n",
       "       [ 7.55173774e-04-1.81386277e-05j,  7.55173774e-04+1.81386277e-05j,\n",
       "         2.60560701e-04-5.31539580e-05j,  2.60560701e-04+5.31539580e-05j,\n",
       "         3.08499625e-04-1.88655161e-05j,  3.08499625e-04+1.88655161e-05j,\n",
       "        -5.25725163e-05-6.92755399e-04j, -5.25725163e-05+6.92755399e-04j,\n",
       "        -3.99885473e-03+0.00000000e+00j,  3.81799552e-04-1.34709318e-18j,\n",
       "         3.81799552e-04+1.34709318e-18j, -7.57368899e-04-1.11486550e-17j,\n",
       "        -7.57368899e-04+1.11486550e-17j, -2.92523838e-03+0.00000000e+00j,\n",
       "        -2.92523868e-03+0.00000000e+00j,  2.88848264e-03+0.00000000e+00j,\n",
       "        -2.51373381e-04+0.00000000e+00j],\n",
       "       [-9.77523019e-06-1.38290461e-03j, -9.77523019e-06+1.38290461e-03j,\n",
       "        -5.92735679e-05+1.57481454e-03j, -5.92735679e-05-1.57481454e-03j,\n",
       "        -3.31470067e-04+7.45470851e-04j, -3.31470067e-04-7.45470851e-04j,\n",
       "         5.21550967e-04+2.85190878e-04j,  5.21550967e-04-2.85190878e-04j,\n",
       "        -2.73992675e-04+0.00000000e+00j,  4.47605798e-18-1.36671014e-03j,\n",
       "         4.47605798e-18+1.36671014e-03j,  1.04211273e-17-1.62476983e-03j,\n",
       "         1.04211273e-17+1.62476983e-03j, -1.00249148e-10+0.00000000e+00j,\n",
       "         1.00249111e-10+0.00000000e+00j,  1.15293713e-03+0.00000000e+00j,\n",
       "        -8.98354387e-05+0.00000000e+00j],\n",
       "       [ 7.67944613e-01+0.00000000e+00j,  7.67944613e-01-0.00000000e+00j,\n",
       "        -9.16577268e-01+0.00000000e+00j, -9.16577268e-01-0.00000000e+00j,\n",
       "        -6.87826384e-01+0.00000000e+00j, -6.87826384e-01-0.00000000e+00j,\n",
       "        -3.12723459e-01-4.47221115e-02j, -3.12723459e-01+4.47221115e-02j,\n",
       "        -2.70977551e-01+0.00000000e+00j,  7.73086164e-01+0.00000000e+00j,\n",
       "         7.73086164e-01-0.00000000e+00j,  6.99544282e-01+0.00000000e+00j,\n",
       "         6.99544282e-01-0.00000000e+00j, -6.93555977e-01+0.00000000e+00j,\n",
       "        -6.93555917e-01+0.00000000e+00j,  6.58827452e-01+0.00000000e+00j,\n",
       "        -9.07241931e-01+0.00000000e+00j],\n",
       "       [-2.10730531e-04+5.18243420e-06j, -2.10730531e-04-5.18243420e-06j,\n",
       "        -5.51894226e-04-5.63793129e-06j, -5.51894226e-04+5.63793129e-06j,\n",
       "        -7.03183371e-04-2.77542540e-04j, -7.03183371e-04+2.77542540e-04j,\n",
       "        -3.25671231e-04+2.69343612e-04j, -3.25671231e-04-2.69343612e-04j,\n",
       "        -2.49284643e-03+0.00000000e+00j, -3.95435241e-05+5.67146414e-18j,\n",
       "        -3.95435241e-05-5.67146414e-18j, -3.73152127e-04-3.73010076e-18j,\n",
       "        -3.73152127e-04+3.73010076e-18j, -2.89893115e-03+0.00000000e+00j,\n",
       "        -2.89893119e-03+0.00000000e+00j,  2.84777265e-03+0.00000000e+00j,\n",
       "        -7.29182094e-04+0.00000000e+00j],\n",
       "       [ 5.16630316e-03+4.24682291e-01j,  5.16630316e-03-4.24682291e-01j,\n",
       "        -1.69239755e-04+1.51556639e-01j, -1.69239755e-04-1.51556639e-01j,\n",
       "        -2.70288603e-01+1.97186149e-01j, -2.70288603e-01-1.97186149e-01j,\n",
       "         6.49815550e-01-3.62155903e-16j,  6.49815550e-01+3.62155903e-16j,\n",
       "        -3.21533747e-02+0.00000000e+00j,  4.29308787e-15+2.91047835e-01j,\n",
       "         4.29308787e-15-2.91047835e-01j,  4.42909955e-15+3.46002950e-01j,\n",
       "         4.42909955e-15-3.46002950e-01j,  4.14542910e-08+0.00000000e+00j,\n",
       "        -4.14542875e-08+0.00000000e+00j, -1.94217007e-01+0.00000000e+00j,\n",
       "         1.51331496e-02+0.00000000e+00j],\n",
       "       [ 1.12043617e-08+4.00097840e-07j,  1.12043617e-08-4.00097840e-07j,\n",
       "         4.06626578e-09+1.13127965e-06j,  4.06626578e-09-1.13127965e-06j,\n",
       "        -3.25433192e-07+1.59748778e-06j, -3.25433192e-07-1.59748778e-06j,\n",
       "         1.94254912e-07+7.39447257e-07j,  1.94254912e-07-7.39447257e-07j,\n",
       "        -6.16769134e-07+0.00000000e+00j, -7.37282913e-21-1.80338502e-06j,\n",
       "        -7.37282913e-21+1.80338502e-06j,  6.72605289e-21-2.14389685e-06j,\n",
       "         6.72605289e-21+2.14389685e-06j,  8.96966410e-14+0.00000000e+00j,\n",
       "        -8.96966438e-14+0.00000000e+00j, -1.52976561e-20+0.00000000e+00j,\n",
       "         1.04062985e-21+0.00000000e+00j],\n",
       "       [-2.10730531e-04+5.18243420e-06j, -2.10730531e-04-5.18243420e-06j,\n",
       "        -5.51894226e-04-5.63793129e-06j, -5.51894226e-04+5.63793129e-06j,\n",
       "        -7.03183371e-04-2.77542540e-04j, -7.03183371e-04+2.77542540e-04j,\n",
       "        -3.25671231e-04+2.69343612e-04j, -3.25671231e-04-2.69343612e-04j,\n",
       "        -2.49284643e-03+0.00000000e+00j,  9.87470027e-04-4.95522627e-18j,\n",
       "         9.87470027e-04+4.95522627e-18j,  1.23090459e-03+5.84689596e-18j,\n",
       "         1.23090459e-03-5.84689596e-18j, -2.89893115e-03+0.00000000e+00j,\n",
       "        -2.89893119e-03+0.00000000e+00j,  2.84777265e-03+0.00000000e+00j,\n",
       "        -7.29182094e-04+0.00000000e+00j],\n",
       "       [ 4.99417396e-08+6.34928667e-10j,  4.99417396e-08-6.34928667e-10j,\n",
       "         2.63374162e-07+4.07522412e-08j,  2.63374162e-07-4.07522412e-08j,\n",
       "        -8.63544736e-07-6.31214100e-07j, -8.63544736e-07+6.31214100e-07j,\n",
       "        -3.04845878e-07+1.05340959e-06j, -3.04845878e-07-1.05340959e-06j,\n",
       "        -3.34906475e-06+0.00000000e+00j, -2.98158999e-07-3.25205604e-21j,\n",
       "        -2.98158999e-07+3.25205604e-21j, -2.69795830e-07+5.29013714e-21j,\n",
       "        -2.69795830e-07-5.29013714e-21j, -3.82203660e-06+0.00000000e+00j,\n",
       "        -3.82203665e-06+0.00000000e+00j,  3.74591428e-06+0.00000000e+00j,\n",
       "        -1.24399249e-06+0.00000000e+00j],\n",
       "       [ 8.99211367e-07-1.03613008e-04j,  8.99211367e-07+1.03613008e-04j,\n",
       "         4.97045852e-05-3.54846907e-04j,  4.97045852e-05+3.54846907e-04j,\n",
       "        -3.21971207e-04+6.23470950e-04j, -3.21971207e-04-6.23470950e-04j,\n",
       "         6.59364812e-04+2.00574411e-04j,  6.59364812e-04-2.00574411e-04j,\n",
       "        -1.83732483e-04+0.00000000e+00j, -2.13005440e-18+5.55066178e-04j,\n",
       "        -2.13005440e-18-5.55066178e-04j,  5.05542871e-19+6.59872749e-04j,\n",
       "         5.05542871e-19-6.59872749e-04j,  7.61771514e-12+0.00000000e+00j,\n",
       "        -7.61772075e-12+0.00000000e+00j,  2.11974988e-04+0.00000000e+00j,\n",
       "        -1.65168295e-05+0.00000000e+00j],\n",
       "       [ 7.55173774e-04-1.81386277e-05j,  7.55173774e-04+1.81386277e-05j,\n",
       "         2.60560701e-04-5.31539580e-05j,  2.60560701e-04+5.31539580e-05j,\n",
       "         3.08499625e-04-1.88655161e-05j,  3.08499625e-04+1.88655161e-05j,\n",
       "        -5.25725163e-05-6.92755399e-04j, -5.25725163e-05+6.92755399e-04j,\n",
       "        -3.99885473e-03+0.00000000e+00j, -8.72062008e-04+1.11054345e-17j,\n",
       "        -8.72062008e-04-1.11054345e-17j,  1.20099383e-03-3.16913842e-18j,\n",
       "         1.20099383e-03+3.16913842e-18j, -2.92523838e-03+0.00000000e+00j,\n",
       "        -2.92523868e-03+0.00000000e+00j,  2.88848264e-03+0.00000000e+00j,\n",
       "        -2.51373381e-04+0.00000000e+00j],\n",
       "       [ 5.16630316e-03+4.24682291e-01j,  5.16630316e-03-4.24682291e-01j,\n",
       "        -1.69239755e-04+1.51556639e-01j, -1.69239755e-04-1.51556639e-01j,\n",
       "        -2.70288603e-01+1.97186149e-01j, -2.70288603e-01-1.97186149e-01j,\n",
       "         6.49815550e-01+0.00000000e+00j,  6.49815550e-01-0.00000000e+00j,\n",
       "        -3.21533747e-02+0.00000000e+00j, -3.10392296e-15-4.69138528e-01j,\n",
       "        -3.10392296e-15+4.69138528e-01j,  3.87570016e-15+5.57720400e-01j,\n",
       "         3.87570016e-15-5.57720400e-01j, -2.77292965e-08+0.00000000e+00j,\n",
       "         2.77292907e-08+0.00000000e+00j,  1.94217007e-01+0.00000000e+00j,\n",
       "        -1.51331496e-02+0.00000000e+00j],\n",
       "       [ 8.99211367e-07-1.03613008e-04j,  8.99211367e-07+1.03613008e-04j,\n",
       "         4.97045852e-05-3.54846907e-04j,  4.97045852e-05+3.54846907e-04j,\n",
       "        -3.21971207e-04+6.23470950e-04j, -3.21971207e-04-6.23470950e-04j,\n",
       "         6.59364812e-04+2.00574411e-04j,  6.59364812e-04-2.00574411e-04j,\n",
       "        -1.83732483e-04+0.00000000e+00j, -5.46453993e-18+2.07304654e-04j,\n",
       "        -5.46453993e-18-2.07304654e-04j,  5.73552599e-18-2.46447536e-04j,\n",
       "         5.73552599e-18+2.46447536e-04j,  3.42071655e-11+0.00000000e+00j,\n",
       "        -3.42071595e-11+0.00000000e+00j, -2.11974988e-04+0.00000000e+00j,\n",
       "         1.65168295e-05+0.00000000e+00j],\n",
       "       [-2.22422551e-01-4.52382897e-03j, -2.22422551e-01+4.52382897e-03j,\n",
       "        -3.29402466e-01-7.36921656e-02j, -3.29402466e-01+7.36921656e-02j,\n",
       "         5.49331319e-01-3.48760417e-02j,  5.49331319e-01+3.48760417e-02j,\n",
       "         1.99744022e-01-1.25598267e-01j,  1.99744022e-01+1.25598267e-01j,\n",
       "        -9.61457369e-01+0.00000000e+00j,  3.12302111e-01+6.09378251e-15j,\n",
       "         3.12302111e-01-6.09378251e-15j, -2.82593541e-01-1.17702180e-15j,\n",
       "        -2.82593541e-01+1.17702180e-15j, -7.20379195e-01+0.00000000e+00j,\n",
       "        -7.20379253e-01+0.00000000e+00j,  7.00335807e-01+0.00000000e+00j,\n",
       "        -4.20062910e-01+0.00000000e+00j],\n",
       "       [ 5.07150943e-04-5.06090006e-05j,  5.07150943e-04+5.06090006e-05j,\n",
       "         2.16214838e-03-2.36687488e-04j,  2.16214838e-03+2.36687488e-04j,\n",
       "         5.69049613e-03+9.92548614e-04j,  5.69049613e-03-9.92548614e-04j,\n",
       "         2.46640245e-03-1.34591803e-03j,  2.46640245e-03+1.34591803e-03j,\n",
       "         7.65426836e-03+0.00000000e+00j, -1.84658496e-16+3.58041797e-18j,\n",
       "        -1.84658496e-16-3.58041797e-18j,  6.58468550e-17+1.29443452e-17j,\n",
       "         6.58468550e-17-1.29443452e-17j, -6.67427669e-10+0.00000000e+00j,\n",
       "         6.67427836e-10+0.00000000e+00j,  7.34390886e-17+0.00000000e+00j,\n",
       "         8.45597161e-19+0.00000000e+00j]]))"
      ]
     },
     "execution_count": 80,
     "metadata": {},
     "output_type": "execute_result"
    }
   ],
   "source": [
    "np.linalg.eig(A_subs_np)"
   ]
  },
  {
   "cell_type": "code",
   "execution_count": 81,
   "metadata": {},
   "outputs": [
    {
     "name": "stdout",
     "output_type": "stream",
     "text": [
      "Estimated Eigenvalue: -7.800727968965466\n",
      "Estimated Eigenvector: [ 2.93787237e-06 -9.11486928e-04  2.54063198e-07 -8.81709503e-04\n",
      " -9.11486928e-04 -8.84312525e-01  2.46120856e-04  2.77420194e-01\n",
      "  2.54063198e-07  2.46120856e-04 -5.70858374e-08 -7.01712732e-05\n",
      " -8.81709503e-04  2.77420194e-01 -7.01712732e-05  2.53108081e-01\n",
      " -6.17769228e-04]\n"
     ]
    }
   ],
   "source": [
    "# Example usage\n",
    "eigval, eigvec = power_method(A_subs_np, num_steps=10000)\n",
    "print(\"Estimated Eigenvalue:\", eigval)\n",
    "print(\"Estimated Eigenvector:\", eigvec)"
   ]
  },
  {
   "cell_type": "code",
   "execution_count": 82,
   "metadata": {},
   "outputs": [],
   "source": [
    "def complex_power_method(A, num_steps=100):\n",
    "    \"\"\"\n",
    "    Power method adapted for complex eigenvalues.\n",
    "    \"\"\"\n",
    "    A = np.array(A, dtype=np.complex128)  # Ensure complex arithmetic\n",
    "    n = A.shape[0]\n",
    "    v = np.random.randn(n) + 1j * np.random.randn(n)  # Complex initial vector\n",
    "    v /= np.linalg.norm(v)\n",
    "\n",
    "    for _ in range(num_steps):\n",
    "        v = A @ v\n",
    "        v /= np.linalg.norm(v)  # Normalize\n",
    "\n",
    "    eigenvalue = np.dot(v.conj().T, A @ v) / np.dot(v.conj().T, v)  # Rayleigh quotient\n",
    "\n",
    "    return eigenvalue, v\n"
   ]
  },
  {
   "cell_type": "code",
   "execution_count": 83,
   "metadata": {},
   "outputs": [
    {
     "name": "stdout",
     "output_type": "stream",
     "text": [
      "Estimated Eigenvalue: (-2.6671697386148145-19.33255837467575j)\n",
      "Estimated Eigenvector: [-1.06785555e-06-6.09141827e-07j -6.48390575e-04+2.02453660e-03j\n",
      "  1.91156679e-07-5.83845999e-07j  3.13071968e-04+1.96700022e-04j\n",
      " -6.48390575e-04+2.02453660e-03j  3.26959179e-01+1.72993522e-01j\n",
      " -8.73061321e-05-5.50660952e-05j  2.00038634e-01-6.21236329e-01j\n",
      "  1.91156679e-07-5.83845999e-07j -8.73061321e-05-5.50660952e-05j\n",
      "  2.15589180e-08+1.03197570e-08j -4.78854652e-05+1.52054315e-04j\n",
      "  3.13071968e-04+1.96700022e-04j  2.00038634e-01-6.21236329e-01j\n",
      " -4.78854652e-05+1.52054315e-04j -9.68057932e-02-4.34747617e-02j\n",
      "  1.92347681e-04+1.88415849e-04j]\n"
     ]
    }
   ],
   "source": [
    "\n",
    "\n",
    "eigval, eigvec = complex_power_method(A_subs_np,num_steps=1000)\n",
    "\n",
    "print(\"Estimated Eigenvalue:\", eigval)\n",
    "print(\"Estimated Eigenvector:\", eigvec)\n"
   ]
  },
  {
   "cell_type": "code",
   "execution_count": null,
   "metadata": {},
   "outputs": [],
   "source": []
  },
  {
   "cell_type": "code",
   "execution_count": 84,
   "metadata": {},
   "outputs": [
    {
     "data": {
      "text/plain": [
       "(17, 17)"
      ]
     },
     "execution_count": 84,
     "metadata": {},
     "output_type": "execute_result"
    }
   ],
   "source": [
    "A_subs_np.shape"
   ]
  },
  {
   "cell_type": "code",
   "execution_count": 85,
   "metadata": {},
   "outputs": [],
   "source": [
    "n = A_subs_np.shape[0]\n",
    "v = np.random.randn(n)  # Start with a random vector\n",
    "v = v / np.linalg.norm(v)  # Normalize"
   ]
  },
  {
   "cell_type": "code",
   "execution_count": 86,
   "metadata": {},
   "outputs": [
    {
     "data": {
      "text/plain": [
       "array([ 0.0446629 ,  0.08863438, -0.10606516,  0.18023242,  0.11832188,\n",
       "        0.19938109,  0.16642876,  0.21952967, -0.09192777, -0.00382108,\n",
       "        0.60580698,  0.0442706 , -0.49898322, -0.16127349, -0.18859884,\n",
       "        0.22094499,  0.28277913])"
      ]
     },
     "execution_count": 86,
     "metadata": {},
     "output_type": "execute_result"
    }
   ],
   "source": [
    "v"
   ]
  },
  {
   "cell_type": "code",
   "execution_count": 87,
   "metadata": {},
   "outputs": [
    {
     "data": {
      "text/plain": [
       "1.0"
      ]
     },
     "execution_count": 87,
     "metadata": {},
     "output_type": "execute_result"
    }
   ],
   "source": [
    "np.dot(v,v)"
   ]
  },
  {
   "cell_type": "code",
   "execution_count": 88,
   "metadata": {},
   "outputs": [
    {
     "data": {
      "text/plain": [
       "array([ 4.05304495e-04,  7.64330267e-02, -1.34607608e-04, -1.58190240e-01,\n",
       "        7.59502276e-02, -1.15516202e-01,  1.57925349e-01, -1.74664744e-02,\n",
       "       -1.76421818e-04,  4.14130116e-02, -3.01892531e-05,  1.01799147e-01,\n",
       "       -4.12305919e-02, -7.27026361e-02,  1.01653672e-01, -1.97875882e-02,\n",
       "       -9.46037497e-01])"
      ]
     },
     "execution_count": 88,
     "metadata": {},
     "output_type": "execute_result"
    }
   ],
   "source": [
    "v = np.random.randn(n)  # Start with a random vector\n",
    "v = v/np.sqrt(np.dot(v,v))\n",
    "v = A_subs_np @ v\n",
    "v = v/np.sqrt(np.dot(v,v))\n",
    "v"
   ]
  },
  {
   "cell_type": "code",
   "execution_count": 89,
   "metadata": {},
   "outputs": [
    {
     "data": {
      "text/plain": [
       "array([-0.36141718,  1.72548383, -1.16704988,  2.56046959,  2.92747842,\n",
       "        0.50429758,  0.95903456, -0.25349719, -0.29201974, -0.5906611 ,\n",
       "        0.94955643, -1.55407672,  0.87917736, -0.35663607,  2.17786283,\n",
       "       -0.58452908,  0.10960463])"
      ]
     },
     "execution_count": 89,
     "metadata": {},
     "output_type": "execute_result"
    }
   ],
   "source": [
    "np.random.randn(n)"
   ]
  },
  {
   "cell_type": "code",
   "execution_count": 90,
   "metadata": {},
   "outputs": [
    {
     "data": {
      "text/plain": [
       "array([ 4.05304495e-04,  7.64330267e-02, -1.34607608e-04, -1.58190240e-01,\n",
       "        7.59502276e-02, -1.15516202e-01,  1.57925349e-01, -1.74664744e-02,\n",
       "       -1.76421818e-04,  4.14130116e-02, -3.01892531e-05,  1.01799147e-01,\n",
       "       -4.12305919e-02, -7.27026361e-02,  1.01653672e-01, -1.97875882e-02,\n",
       "       -9.46037497e-01])"
      ]
     },
     "execution_count": 90,
     "metadata": {},
     "output_type": "execute_result"
    }
   ],
   "source": [
    "v"
   ]
  },
  {
   "cell_type": "code",
   "execution_count": 91,
   "metadata": {},
   "outputs": [
    {
     "data": {
      "text/plain": [
       "array([-5.65486678e+03, -2.00000000e+00,  0.00000000e+00,  5.54610216e+00,\n",
       "        0.00000000e+00,  2.12206591e-02,  0.00000000e+00,  0.00000000e+00,\n",
       "        0.00000000e+00, -1.07224642e+01,  0.00000000e+00,  0.00000000e+00,\n",
       "        0.00000000e+00,  0.00000000e+00,  0.00000000e+00,  0.00000000e+00,\n",
       "       -8.06590311e-01])"
      ]
     },
     "execution_count": 91,
     "metadata": {},
     "output_type": "execute_result"
    }
   ],
   "source": [
    "A_subs_np[1,:]"
   ]
  },
  {
   "cell_type": "code",
   "execution_count": 92,
   "metadata": {},
   "outputs": [
    {
     "data": {
      "text/plain": [
       "33858.8541348874"
      ]
     },
     "execution_count": 92,
     "metadata": {},
     "output_type": "execute_result"
    }
   ],
   "source": [
    "np.max(np.max(np.abs(A_subs_np)))"
   ]
  },
  {
   "cell_type": "code",
   "execution_count": 93,
   "metadata": {},
   "outputs": [
    {
     "name": "stdout",
     "output_type": "stream",
     "text": [
      "0\n",
      "test2\n",
      "1\n",
      "test2\n"
     ]
    }
   ],
   "source": [
    "v = np.random.randn(n)    \n",
    "for i in range(2):\n",
    "        print(i)\n",
    "        v = A_subs_np @ v  # Matrix-vector multiplication\n",
    "        v = v/np.sqrt(np.dot(v,v))\n",
    "        print('test2')\n",
    "        #vnorm = np.sqrt(np.dot(v,v))\n",
    "        #v = v / np.linalg.norm(v)  # Normalize\n",
    "        #print('test')\n",
    "        #v = v / vnorm  # Normalize\n"
   ]
  },
  {
   "cell_type": "code",
   "execution_count": 94,
   "metadata": {},
   "outputs": [],
   "source": [
    "\n",
    "    # # Compute the estimated eigenvalue using the Rayleigh quotient\n",
    "    # eigenvalue = (v @ A @ v) / (v @ v)a"
   ]
  },
  {
   "cell_type": "code",
   "execution_count": null,
   "metadata": {},
   "outputs": [],
   "source": []
  },
  {
   "cell_type": "code",
   "execution_count": null,
   "metadata": {},
   "outputs": [],
   "source": []
  },
  {
   "cell_type": "code",
   "execution_count": null,
   "metadata": {},
   "outputs": [],
   "source": []
  },
  {
   "cell_type": "code",
   "execution_count": null,
   "metadata": {},
   "outputs": [],
   "source": []
  },
  {
   "cell_type": "code",
   "execution_count": 95,
   "metadata": {},
   "outputs": [
    {
     "data": {
      "text/plain": [
       "array([[-2.00000000e+00,  2.12206591e-02, -1.07224642e+01,\n",
       "         0.00000000e+00,  2.12206591e-02,  0.00000000e+00,\n",
       "         0.00000000e+00,  0.00000000e+00, -1.07224642e+01,\n",
       "         0.00000000e+00,  0.00000000e+00,  0.00000000e+00,\n",
       "         0.00000000e+00,  0.00000000e+00,  0.00000000e+00,\n",
       "         0.00000000e+00, -6.33362495e-05],\n",
       "       [-5.65486678e+03, -2.00000000e+00,  0.00000000e+00,\n",
       "         5.54610216e+00,  0.00000000e+00,  2.12206591e-02,\n",
       "         0.00000000e+00,  0.00000000e+00,  0.00000000e+00,\n",
       "        -1.07224642e+01,  0.00000000e+00,  0.00000000e+00,\n",
       "         0.00000000e+00,  0.00000000e+00,  0.00000000e+00,\n",
       "         0.00000000e+00, -8.06590311e-01],\n",
       "       [-1.63120652e-01,  0.00000000e+00, -2.00000000e+00,\n",
       "        -7.02154161e-03,  0.00000000e+00,  0.00000000e+00,\n",
       "         2.12206591e-02,  0.00000000e+00,  0.00000000e+00,\n",
       "         0.00000000e+00, -1.07224642e+01,  0.00000000e+00,\n",
       "         0.00000000e+00,  0.00000000e+00,  0.00000000e+00,\n",
       "         0.00000000e+00, -1.41056764e-03],\n",
       "       [ 0.00000000e+00, -5.54610216e+00,  5.65486678e+03,\n",
       "        -2.00000000e+00,  0.00000000e+00,  0.00000000e+00,\n",
       "         0.00000000e+00,  2.12206591e-02,  0.00000000e+00,\n",
       "         0.00000000e+00,  0.00000000e+00, -1.07224642e+01,\n",
       "         0.00000000e+00,  0.00000000e+00,  0.00000000e+00,\n",
       "         0.00000000e+00,  5.21622032e-01],\n",
       "       [-5.65486678e+03,  0.00000000e+00,  0.00000000e+00,\n",
       "         0.00000000e+00, -2.00000000e+00,  2.12206591e-02,\n",
       "        -1.07224642e+01,  0.00000000e+00,  0.00000000e+00,\n",
       "         0.00000000e+00,  0.00000000e+00,  0.00000000e+00,\n",
       "         5.54610216e+00,  0.00000000e+00,  0.00000000e+00,\n",
       "         0.00000000e+00, -8.06590311e-01],\n",
       "       [ 0.00000000e+00, -5.65486678e+03,  0.00000000e+00,\n",
       "         0.00000000e+00, -5.65486678e+03, -2.00000000e+00,\n",
       "         0.00000000e+00,  5.54610216e+00,  0.00000000e+00,\n",
       "         0.00000000e+00,  0.00000000e+00,  0.00000000e+00,\n",
       "         0.00000000e+00,  5.54610216e+00,  0.00000000e+00,\n",
       "         0.00000000e+00, -3.28925391e+02],\n",
       "       [ 0.00000000e+00,  0.00000000e+00, -5.65486678e+03,\n",
       "         0.00000000e+00, -1.63120652e-01,  0.00000000e+00,\n",
       "        -2.00000000e+00, -7.02154161e-03,  0.00000000e+00,\n",
       "         0.00000000e+00,  0.00000000e+00,  0.00000000e+00,\n",
       "         0.00000000e+00,  0.00000000e+00,  5.54610216e+00,\n",
       "         0.00000000e+00, -8.81074395e-02],\n",
       "       [ 0.00000000e+00,  0.00000000e+00,  0.00000000e+00,\n",
       "        -5.65486678e+03,  0.00000000e+00, -5.54610216e+00,\n",
       "         5.65486678e+03, -2.00000000e+00,  0.00000000e+00,\n",
       "         0.00000000e+00,  0.00000000e+00,  0.00000000e+00,\n",
       "         0.00000000e+00,  0.00000000e+00,  0.00000000e+00,\n",
       "         5.54610216e+00, -6.08833136e+02],\n",
       "       [-1.63120652e-01,  0.00000000e+00,  0.00000000e+00,\n",
       "         0.00000000e+00,  0.00000000e+00,  0.00000000e+00,\n",
       "         0.00000000e+00,  0.00000000e+00, -2.00000000e+00,\n",
       "         2.12206591e-02, -1.07224642e+01,  0.00000000e+00,\n",
       "        -7.02154161e-03,  0.00000000e+00,  0.00000000e+00,\n",
       "         0.00000000e+00, -1.41056764e-03],\n",
       "       [ 0.00000000e+00, -1.63120652e-01,  0.00000000e+00,\n",
       "         0.00000000e+00,  0.00000000e+00,  0.00000000e+00,\n",
       "         0.00000000e+00,  0.00000000e+00, -5.65486678e+03,\n",
       "        -2.00000000e+00,  0.00000000e+00,  5.54610216e+00,\n",
       "         0.00000000e+00, -7.02154161e-03,  0.00000000e+00,\n",
       "         0.00000000e+00, -8.81074395e-02],\n",
       "       [ 0.00000000e+00,  0.00000000e+00, -1.63120652e-01,\n",
       "         0.00000000e+00,  0.00000000e+00,  0.00000000e+00,\n",
       "         0.00000000e+00,  0.00000000e+00, -1.63120652e-01,\n",
       "         0.00000000e+00, -2.00000000e+00, -7.02154161e-03,\n",
       "         0.00000000e+00,  0.00000000e+00, -7.02154161e-03,\n",
       "         0.00000000e+00, -9.63533208e-07],\n",
       "       [ 0.00000000e+00,  0.00000000e+00,  0.00000000e+00,\n",
       "        -1.63120652e-01,  0.00000000e+00,  0.00000000e+00,\n",
       "         0.00000000e+00,  0.00000000e+00,  0.00000000e+00,\n",
       "        -5.54610216e+00,  5.65486678e+03, -2.00000000e+00,\n",
       "         0.00000000e+00,  0.00000000e+00,  0.00000000e+00,\n",
       "        -7.02154161e-03, -2.79333055e-01],\n",
       "       [ 0.00000000e+00,  0.00000000e+00,  0.00000000e+00,\n",
       "         0.00000000e+00, -5.54610216e+00,  0.00000000e+00,\n",
       "         0.00000000e+00,  0.00000000e+00,  5.65486678e+03,\n",
       "         0.00000000e+00,  0.00000000e+00,  0.00000000e+00,\n",
       "        -2.00000000e+00,  2.12206591e-02, -1.07224642e+01,\n",
       "         0.00000000e+00,  5.21622032e-01],\n",
       "       [ 0.00000000e+00,  0.00000000e+00,  0.00000000e+00,\n",
       "         0.00000000e+00,  0.00000000e+00, -5.54610216e+00,\n",
       "         0.00000000e+00,  0.00000000e+00,  0.00000000e+00,\n",
       "         5.65486678e+03,  0.00000000e+00,  0.00000000e+00,\n",
       "        -5.65486678e+03, -2.00000000e+00,  0.00000000e+00,\n",
       "         5.54610216e+00, -6.08833136e+02],\n",
       "       [ 0.00000000e+00,  0.00000000e+00,  0.00000000e+00,\n",
       "         0.00000000e+00,  0.00000000e+00,  0.00000000e+00,\n",
       "        -5.54610216e+00,  0.00000000e+00,  0.00000000e+00,\n",
       "         0.00000000e+00,  5.65486678e+03,  0.00000000e+00,\n",
       "        -1.63120652e-01,  0.00000000e+00, -2.00000000e+00,\n",
       "        -7.02154161e-03, -2.79333055e-01],\n",
       "       [ 0.00000000e+00,  0.00000000e+00,  0.00000000e+00,\n",
       "         0.00000000e+00,  0.00000000e+00,  0.00000000e+00,\n",
       "         0.00000000e+00, -5.54610216e+00,  0.00000000e+00,\n",
       "         0.00000000e+00,  0.00000000e+00,  5.65486678e+03,\n",
       "         0.00000000e+00, -5.54610216e+00,  5.65486678e+03,\n",
       "        -2.00000000e+00,  3.28925391e+02],\n",
       "       [ 0.00000000e+00,  0.00000000e+00,  3.38588541e+04,\n",
       "         0.00000000e+00,  0.00000000e+00,  0.00000000e+00,\n",
       "         0.00000000e+00,  0.00000000e+00,  0.00000000e+00,\n",
       "         0.00000000e+00,  0.00000000e+00,  0.00000000e+00,\n",
       "         0.00000000e+00,  0.00000000e+00,  0.00000000e+00,\n",
       "         0.00000000e+00, -1.00000000e-01]])"
      ]
     },
     "execution_count": 95,
     "metadata": {},
     "output_type": "execute_result"
    }
   ],
   "source": [
    "A_subs_np"
   ]
  },
  {
   "cell_type": "code",
   "execution_count": 96,
   "metadata": {},
   "outputs": [],
   "source": [
    "# power_method(A_subs,100)"
   ]
  },
  {
   "cell_type": "code",
   "execution_count": 97,
   "metadata": {},
   "outputs": [
    {
     "data": {
      "text/latex": [
       "$\\displaystyle \\left[\\begin{array}{ccccccccccccccccc}-63954806.6288994 & 5.10864047100767 \\cdot 10^{-5} & 8.93400624590868 \\cdot 10^{-8} & -29271.7564384394 & 5.10864047100767 \\cdot 10^{-5} & 0.0208329006451891 & 5.58039755560458 \\cdot 10^{-6} & 0.0385612074088414 & 8.93400624590868 \\cdot 10^{-8} & 5.58039755560458 \\cdot 10^{-6} & 6.10267392175956 \\cdot 10^{-11} & 1.76919080689934 \\cdot 10^{-5} & -29271.7564384394 & 0.0385612074088414 & 1.76919080689934 \\cdot 10^{-5} & -0.0208329006451919 & -372172.672350328\\\\5.10864047100767 \\cdot 10^{-5} & 115.595217440277 & 32285.084109901 & -0.420735276861942 & 0.650587931275368 & 265.308033574522 & 0.071066607023432 & 491.078908508123 & 0.00113775018917295 & 0.0710666070234325 & 7.77176549727331 \\cdot 10^{-7} & 0.225307335733355 & -0.420735276861942 & -28780.6774968937 & 0.225307335733354 & -265.308033574522 & -1860027.92020919\\\\8.93400624590868 \\cdot 10^{-8} & 32285.084109901 & -1210377039.84614 & -0.000735783156414982 & 0.00113775018917295 & 0.463971511740461 & 0.000124281503303791 & 0.858800317859078 & 1.98970106168872 \\cdot 10^{-6} & 0.000124281502714712 & 1.3591296976756 \\cdot 10^{-9} & 0.000394018170482013 & -0.0007357831567258 & 0.858800317859089 & -29271.7560113837 & -0.463971511740461 & -67779.7651450317\\\\-29271.7564384394 & -0.420735276861942 & -0.000735783156414982 & 115.217120066285 & -0.420735276861942 & -171.574730813823 & -0.0459587797522545 & -317.580777334284 & -0.0007357831567258 & -0.0459587815929154 & -5.02600187246571 \\cdot 10^{-7} & -0.145706275675106 & 0.272089543987329 & -317.580777334284 & -0.145706275675106 & -29100.181674588 & 188024444.482755\\\\5.10864047100767 \\cdot 10^{-5} & 0.650587931275368 & 0.00113775018917295 & -0.420735276861942 & 115.595217440277 & 265.308033574522 & 0.0710666070234325 & -28780.6774968937 & 32285.084109901 & 0.071066607023432 & 7.77176549727331 \\cdot 10^{-7} & 0.225307335733354 & -0.420735276861942 & 491.078908508123 & 0.225307335733355 & -265.308033574522 & -1860027.92020919\\\\0.0208329006451891 & 265.308033574522 & 0.463971511740461 & -171.574730813823 & 265.308033574522 & 64063228.4310943 & 32314.0637461445 & 200260.677364771 & 0.463971511740461 & 32314.0637461445 & 0.000316930537198659 & 91.8797343715832 & -171.574730813823 & 200260.677364771 & 91.8797343715832 & -108191.912935862 & -7378.22554620542\\\\5.58039755560458 \\cdot 10^{-6} & 0.071066607023432 & 0.000124281503303791 & -0.0459587797522545 & 0.0710666070234325 & 32314.0637461445 & -114.93726760149 & 53.6427286757262 & 0.000124281502714712 & 0.00776292089196768 & 32285.0829722357 & 0.0246113202379472 & -0.0459587815929154 & 53.6427286757259 & 0.0246113202379472 & -28.9807739936623 & -188024449.429035\\\\0.0385612074088414 & 491.078908508123 & 0.858800317859078 & -317.580777334284 & -28780.6774968937 & 200260.677364771 & 53.6427286757262 & 64325714.3059313 & 0.858800317859089 & 53.6427286757259 & 0.000586630944353571 & 32455.1501919832 & -317.580777334284 & 370677.787371883 & 170.067219832374 & -200260.677364771 & 2491.71299613909\\\\8.93400624590868 \\cdot 10^{-8} & 0.00113775018917295 & 1.98970106168872 \\cdot 10^{-6} & -0.0007357831567258 & 32285.084109901 & 0.463971511740461 & 0.000124281502714712 & 0.858800317859089 & -63955036.5185574 & 0.000124281503303791 & 1.3591296976756 \\cdot 10^{-9} & -29271.7560113837 & -0.000735783156414982 & 0.858800317859078 & 0.000394018170482013 & -0.463971511740461 & -3447.94228874566\\\\5.58039755560458 \\cdot 10^{-6} & 0.0710666070234325 & 0.000124281502714712 & -0.0459587815929154 & 0.071066607023432 & 32314.0637461445 & 0.00776292089196768 & 53.6427286757259 & 0.000124281503303791 & -114.937267605215 & 32285.0829722357 & 0.0246113202379472 & -0.0459587797522545 & 53.6427286757262 & 0.0246113202379472 & -28.9807739936623 & 3442859.90739983\\\\6.10267392175956 \\cdot 10^{-11} & 7.77176549727331 \\cdot 10^{-7} & 1.3591296976756 \\cdot 10^{-9} & -5.02600187246571 \\cdot 10^{-7} & 7.77176549727331 \\cdot 10^{-7} & 0.000316930537198659 & 32285.0829722357 & 0.000586630944353571 & 1.3591296976756 \\cdot 10^{-9} & 32285.0829722357 & -63955266.4082195 & 2.69146767095663 \\cdot 10^{-7} & -5.02600187246571 \\cdot 10^{-7} & 0.000586630944353571 & 2.69146767095663 \\cdot 10^{-7} & -0.000316930537195503 & -2363.92617774\\\\1.76919080689934 \\cdot 10^{-5} & 0.225307335733355 & 0.000394018170482013 & -0.145706275675106 & 0.225307335733354 & 91.8797343715832 & 0.0246113202379472 & 32455.1501919832 & -29271.7560113837 & 0.0246113202379472 & 2.69146767095663 \\cdot 10^{-7} & -114.866602554917 & -0.145706275675106 & 170.067219832374 & 0.0780269540846348 & -91.8797343715833 & -1860023.71529228\\\\-29271.7564384394 & -0.420735276861942 & -0.0007357831567258 & 0.272089543987329 & -0.420735276861942 & -171.574730813823 & -0.0459587815929154 & -317.580777334284 & -0.000735783156414982 & -0.0459587797522545 & -5.02600187246571 \\cdot 10^{-7} & -0.145706275675106 & 115.217120066285 & -317.580777334284 & -0.145706275675106 & -29100.181674588 & -3442864.85368017\\\\0.0385612074088414 & -28780.6774968937 & 0.858800317859089 & -317.580777334284 & 491.078908508123 & 200260.677364771 & 53.6427286757259 & 370677.787371883 & 0.858800317859078 & 53.6427286757262 & 0.000586630944353571 & 170.067219832374 & -317.580777334284 & 64325714.3059313 & 32455.1501919832 & -200260.677364771 & 2491.71299613909\\\\1.76919080689934 \\cdot 10^{-5} & 0.225307335733354 & -29271.7560113837 & -0.145706275675106 & 0.225307335733355 & 91.8797343715832 & 0.0246113202379472 & 170.067219832374 & 0.000394018170482013 & 0.0246113202379472 & 2.69146767095663 \\cdot 10^{-7} & 0.0780269540846348 & -0.145706275675106 & 32455.1501919832 & -114.866602554917 & -91.8797343715833 & -1860023.71529228\\\\-0.0208329006451919 & -265.308033574522 & -0.463971511740461 & -29100.181674588 & -265.308033574522 & -108191.912935862 & -28.9807739936623 & -200260.677364771 & -0.463971511740461 & -28.9807739936623 & -0.000316930537195503 & -91.8797343715833 & -29100.181674588 & -200260.677364771 & -91.8797343715833 & 64063228.4318963 & 7378.2558562641\\\\-372172.672350328 & -1860027.92020919 & -67779.7651450317 & 188024444.482755 & -1860027.92020919 & -7378.22554620542 & -188024449.429035 & 2491.71299613909 & -3447.94228874566 & 3442859.90739983 & -2363.92617774 & -1860023.71529228 & -3442864.85368017 & 2491.71299613909 & -1860023.71529228 & 7378.2558562641 & 1145464261.91003\\end{array}\\right]$"
      ],
      "text/plain": [
       "Matrix([\n",
       "[   -63954806.6288994, 5.10864047100767e-5,   8.93400624590868e-8,     -29271.7564384394, 5.10864047100767e-5,   0.0208329006451891,  5.58039755560458e-6,   0.0385612074088414,   8.93400624590868e-8,  5.58039755560458e-6,  6.10267392175956e-11,  1.76919080689934e-5,     -29271.7564384394,   0.0385612074088414,  1.76919080689934e-5,   -0.0208329006451919, -372172.672350328],\n",
       "[ 5.10864047100767e-5,    115.595217440277,       32285.084109901,    -0.420735276861942,   0.650587931275368,     265.308033574522,    0.071066607023432,     491.078908508123,   0.00113775018917295,   0.0710666070234325,   7.77176549727331e-7,    0.225307335733355,    -0.420735276861942,    -28780.6774968937,    0.225307335733354,     -265.308033574522, -1860027.92020919],\n",
       "[ 8.93400624590868e-8,     32285.084109901,     -1210377039.84614, -0.000735783156414982, 0.00113775018917295,    0.463971511740461, 0.000124281503303791,    0.858800317859078,   1.98970106168872e-6, 0.000124281502714712,    1.3591296976756e-9, 0.000394018170482013,   -0.0007357831567258,    0.858800317859089,    -29271.7560113837,    -0.463971511740461, -67779.7651450317],\n",
       "[   -29271.7564384394,  -0.420735276861942, -0.000735783156414982,      115.217120066285,  -0.420735276861942,    -171.574730813823,  -0.0459587797522545,    -317.580777334284,   -0.0007357831567258,  -0.0459587815929154,  -5.02600187246571e-7,   -0.145706275675106,     0.272089543987329,    -317.580777334284,   -0.145706275675106,      -29100.181674588,  188024444.482755],\n",
       "[ 5.10864047100767e-5,   0.650587931275368,   0.00113775018917295,    -0.420735276861942,    115.595217440277,     265.308033574522,   0.0710666070234325,    -28780.6774968937,       32285.084109901,    0.071066607023432,   7.77176549727331e-7,    0.225307335733354,    -0.420735276861942,     491.078908508123,    0.225307335733355,     -265.308033574522, -1860027.92020919],\n",
       "[  0.0208329006451891,    265.308033574522,     0.463971511740461,     -171.574730813823,    265.308033574522,     64063228.4310943,     32314.0637461445,     200260.677364771,     0.463971511740461,     32314.0637461445,  0.000316930537198659,     91.8797343715832,     -171.574730813823,     200260.677364771,     91.8797343715832,     -108191.912935862, -7378.22554620542],\n",
       "[ 5.58039755560458e-6,   0.071066607023432,  0.000124281503303791,   -0.0459587797522545,  0.0710666070234325,     32314.0637461445,     -114.93726760149,     53.6427286757262,  0.000124281502714712,  0.00776292089196768,      32285.0829722357,   0.0246113202379472,   -0.0459587815929154,     53.6427286757259,   0.0246113202379472,     -28.9807739936623, -188024449.429035],\n",
       "[  0.0385612074088414,    491.078908508123,     0.858800317859078,     -317.580777334284,   -28780.6774968937,     200260.677364771,     53.6427286757262,     64325714.3059313,     0.858800317859089,     53.6427286757259,  0.000586630944353571,     32455.1501919832,     -317.580777334284,     370677.787371883,     170.067219832374,     -200260.677364771,  2491.71299613909],\n",
       "[ 8.93400624590868e-8, 0.00113775018917295,   1.98970106168872e-6,   -0.0007357831567258,     32285.084109901,    0.463971511740461, 0.000124281502714712,    0.858800317859089,     -63955036.5185574, 0.000124281503303791,    1.3591296976756e-9,    -29271.7560113837, -0.000735783156414982,    0.858800317859078, 0.000394018170482013,    -0.463971511740461, -3447.94228874566],\n",
       "[ 5.58039755560458e-6,  0.0710666070234325,  0.000124281502714712,   -0.0459587815929154,   0.071066607023432,     32314.0637461445,  0.00776292089196768,     53.6427286757259,  0.000124281503303791,    -114.937267605215,      32285.0829722357,   0.0246113202379472,   -0.0459587797522545,     53.6427286757262,   0.0246113202379472,     -28.9807739936623,  3442859.90739983],\n",
       "[6.10267392175956e-11, 7.77176549727331e-7,    1.3591296976756e-9,  -5.02600187246571e-7, 7.77176549727331e-7, 0.000316930537198659,     32285.0829722357, 0.000586630944353571,    1.3591296976756e-9,     32285.0829722357,     -63955266.4082195,  2.69146767095663e-7,  -5.02600187246571e-7, 0.000586630944353571,  2.69146767095663e-7, -0.000316930537195503,    -2363.92617774],\n",
       "[ 1.76919080689934e-5,   0.225307335733355,  0.000394018170482013,    -0.145706275675106,   0.225307335733354,     91.8797343715832,   0.0246113202379472,     32455.1501919832,     -29271.7560113837,   0.0246113202379472,   2.69146767095663e-7,    -114.866602554917,    -0.145706275675106,     170.067219832374,   0.0780269540846348,     -91.8797343715833, -1860023.71529228],\n",
       "[   -29271.7564384394,  -0.420735276861942,   -0.0007357831567258,     0.272089543987329,  -0.420735276861942,    -171.574730813823,  -0.0459587815929154,    -317.580777334284, -0.000735783156414982,  -0.0459587797522545,  -5.02600187246571e-7,   -0.145706275675106,      115.217120066285,    -317.580777334284,   -0.145706275675106,      -29100.181674588, -3442864.85368017],\n",
       "[  0.0385612074088414,   -28780.6774968937,     0.858800317859089,     -317.580777334284,    491.078908508123,     200260.677364771,     53.6427286757259,     370677.787371883,     0.858800317859078,     53.6427286757262,  0.000586630944353571,     170.067219832374,     -317.580777334284,     64325714.3059313,     32455.1501919832,     -200260.677364771,  2491.71299613909],\n",
       "[ 1.76919080689934e-5,   0.225307335733354,     -29271.7560113837,    -0.145706275675106,   0.225307335733355,     91.8797343715832,   0.0246113202379472,     170.067219832374,  0.000394018170482013,   0.0246113202379472,   2.69146767095663e-7,   0.0780269540846348,    -0.145706275675106,     32455.1501919832,    -114.866602554917,     -91.8797343715833, -1860023.71529228],\n",
       "[ -0.0208329006451919,   -265.308033574522,    -0.463971511740461,      -29100.181674588,   -265.308033574522,    -108191.912935862,    -28.9807739936623,    -200260.677364771,    -0.463971511740461,    -28.9807739936623, -0.000316930537195503,    -91.8797343715833,      -29100.181674588,    -200260.677364771,    -91.8797343715833,      64063228.4318963,   7378.2558562641],\n",
       "[   -372172.672350328,   -1860027.92020919,     -67779.7651450317,      188024444.482755,   -1860027.92020919,    -7378.22554620542,    -188024449.429035,     2491.71299613909,     -3447.94228874566,     3442859.90739983,        -2363.92617774,    -1860023.71529228,     -3442864.85368017,     2491.71299613909,    -1860023.71529228,       7378.2558562641,  1145464261.91003]])"
      ]
     },
     "execution_count": 97,
     "metadata": {},
     "output_type": "execute_result"
    }
   ],
   "source": [
    "A = A_subs\n",
    "A_T = A.T\n",
    "\n",
    "A*A_T - A_T*A"
   ]
  },
  {
   "cell_type": "code",
   "execution_count": 98,
   "metadata": {},
   "outputs": [
    {
     "data": {
      "text/latex": [
       "$\\displaystyle \\left[\\begin{array}{ccccccccccccccccc}-2.0 & -2827.42277790127 & -5.44279241032791 & 0 & -2827.42277790127 & 0 & 0 & 0 & -5.44279241032791 & 0 & 0 & 0 & 0 & 0 & 0 & 0 & -3.16681247578056 \\cdot 10^{-5}\\\\-2827.42277790127 & -2.0 & 0 & 0 & 0 & -2827.42277790127 & 0 & 0 & 0 & -5.44279241032791 & 0 & 0 & 0 & 0 & 0 & 0 & -0.403295155560835\\\\-5.44279241032791 & 0 & -2.0 & 2827.42987746001 & 0 & 0 & -2827.42277790127 & 0 & 0 & 0 & -5.44279241032791 & 0 & 0 & 0 & 0 & 0 & 16929.4263621599\\\\0 & 0 & 2827.42987746001 & -2.0 & 0 & 0 & 0 & -2827.42277790127 & 0 & 0 & 0 & -5.44279241032791 & 0 & 0 & 0 & 0 & 0.260811015865573\\\\-2827.42277790127 & 0 & 0 & 0 & -2.0 & -2827.42277790127 & -5.44279241032791 & 0 & 0 & 0 & 0 & 0 & 0 & 0 & 0 & 0 & -0.403295155560835\\\\0 & -2827.42277790127 & 0 & 0 & -2827.42277790127 & -2.0 & 0 & 0 & 0 & 0 & 0 & 0 & 0 & 0 & 0 & 0 & -164.462695569438\\\\0 & 0 & -2827.42277790127 & 0 & -5.44279241032791 & 0 & -2.0 & 2827.42987746001 & 0 & 0 & 0 & 0 & 0 & 0 & 0 & 0 & -0.0440537197406975\\\\0 & 0 & 0 & -2827.42277790127 & 0 & 0 & 2827.42987746001 & -2.0 & 0 & 0 & 0 & 0 & 0 & 0 & 0 & 0 & -304.416567950844\\\\-5.44279241032791 & 0 & 0 & 0 & 0 & 0 & 0 & 0 & -2.0 & -2827.42277790127 & -5.44279241032791 & 0 & 2827.42987746001 & 0 & 0 & 0 & -0.000705283818518843\\\\0 & -5.44279241032791 & 0 & 0 & 0 & 0 & 0 & 0 & -2827.42277790127 & -2.0 & 0 & 0 & 0 & 2827.42987746001 & 0 & 0 & -0.0440537197406975\\\\0 & 0 & -5.44279241032791 & 0 & 0 & 0 & 0 & 0 & -5.44279241032791 & 0 & -2.0 & 2827.42987746001 & 0 & 0 & 2827.42987746001 & 0 & -4.81766603820573 \\cdot 10^{-7}\\\\0 & 0 & 0 & -5.44279241032791 & 0 & 0 & 0 & 0 & 0 & 0 & 2827.42987746001 & -2.0 & 0 & 0 & 0 & 2827.42987746001 & -0.13966652749649\\\\0 & 0 & 0 & 0 & 0 & 0 & 0 & 0 & 2827.42987746001 & 0 & 0 & 0 & -2.0 & -2827.42277790127 & -5.44279241032791 & 0 & 0.260811015865573\\\\0 & 0 & 0 & 0 & 0 & 0 & 0 & 0 & 0 & 2827.42987746001 & 0 & 0 & -2827.42277790127 & -2.0 & 0 & 0 & -304.416567950844\\\\0 & 0 & 0 & 0 & 0 & 0 & 0 & 0 & 0 & 0 & 2827.42987746001 & 0 & -5.44279241032791 & 0 & -2.0 & 2827.42987746001 & -0.13966652749649\\\\0 & 0 & 0 & 0 & 0 & 0 & 0 & 0 & 0 & 0 & 0 & 2827.42987746001 & 0 & 0 & 2827.42987746001 & -2.0 & 164.462695569438\\\\-3.16681247578056 \\cdot 10^{-5} & -0.403295155560835 & 16929.4263621599 & 0.260811015865573 & -0.403295155560835 & -164.462695569438 & -0.0440537197406975 & -304.416567950844 & -0.000705283818518843 & -0.0440537197406975 & -4.81766603820573 \\cdot 10^{-7} & -0.13966652749649 & 0.260811015865573 & -304.416567950844 & -0.13966652749649 & 164.462695569438 & -0.1\\end{array}\\right]$"
      ],
      "text/plain": [
       "Matrix([\n",
       "[                -2.0,  -2827.42277790127, -5.44279241032791,                 0,  -2827.42277790127,                 0,                   0,                 0,     -5.44279241032791,                   0,                    0,                 0,                 0,                 0,                 0,                0,  -3.16681247578056e-5],\n",
       "[   -2827.42277790127,               -2.0,                 0,                 0,                  0, -2827.42277790127,                   0,                 0,                     0,   -5.44279241032791,                    0,                 0,                 0,                 0,                 0,                0,    -0.403295155560835],\n",
       "[   -5.44279241032791,                  0,              -2.0,  2827.42987746001,                  0,                 0,   -2827.42277790127,                 0,                     0,                   0,    -5.44279241032791,                 0,                 0,                 0,                 0,                0,      16929.4263621599],\n",
       "[                   0,                  0,  2827.42987746001,              -2.0,                  0,                 0,                   0, -2827.42277790127,                     0,                   0,                    0, -5.44279241032791,                 0,                 0,                 0,                0,     0.260811015865573],\n",
       "[   -2827.42277790127,                  0,                 0,                 0,               -2.0, -2827.42277790127,   -5.44279241032791,                 0,                     0,                   0,                    0,                 0,                 0,                 0,                 0,                0,    -0.403295155560835],\n",
       "[                   0,  -2827.42277790127,                 0,                 0,  -2827.42277790127,              -2.0,                   0,                 0,                     0,                   0,                    0,                 0,                 0,                 0,                 0,                0,     -164.462695569438],\n",
       "[                   0,                  0, -2827.42277790127,                 0,  -5.44279241032791,                 0,                -2.0,  2827.42987746001,                     0,                   0,                    0,                 0,                 0,                 0,                 0,                0,   -0.0440537197406975],\n",
       "[                   0,                  0,                 0, -2827.42277790127,                  0,                 0,    2827.42987746001,              -2.0,                     0,                   0,                    0,                 0,                 0,                 0,                 0,                0,     -304.416567950844],\n",
       "[   -5.44279241032791,                  0,                 0,                 0,                  0,                 0,                   0,                 0,                  -2.0,   -2827.42277790127,    -5.44279241032791,                 0,  2827.42987746001,                 0,                 0,                0, -0.000705283818518843],\n",
       "[                   0,  -5.44279241032791,                 0,                 0,                  0,                 0,                   0,                 0,     -2827.42277790127,                -2.0,                    0,                 0,                 0,  2827.42987746001,                 0,                0,   -0.0440537197406975],\n",
       "[                   0,                  0, -5.44279241032791,                 0,                  0,                 0,                   0,                 0,     -5.44279241032791,                   0,                 -2.0,  2827.42987746001,                 0,                 0,  2827.42987746001,                0,  -4.81766603820573e-7],\n",
       "[                   0,                  0,                 0, -5.44279241032791,                  0,                 0,                   0,                 0,                     0,                   0,     2827.42987746001,              -2.0,                 0,                 0,                 0, 2827.42987746001,     -0.13966652749649],\n",
       "[                   0,                  0,                 0,                 0,                  0,                 0,                   0,                 0,      2827.42987746001,                   0,                    0,                 0,              -2.0, -2827.42277790127, -5.44279241032791,                0,     0.260811015865573],\n",
       "[                   0,                  0,                 0,                 0,                  0,                 0,                   0,                 0,                     0,    2827.42987746001,                    0,                 0, -2827.42277790127,              -2.0,                 0,                0,     -304.416567950844],\n",
       "[                   0,                  0,                 0,                 0,                  0,                 0,                   0,                 0,                     0,                   0,     2827.42987746001,                 0, -5.44279241032791,                 0,              -2.0, 2827.42987746001,     -0.13966652749649],\n",
       "[                   0,                  0,                 0,                 0,                  0,                 0,                   0,                 0,                     0,                   0,                    0,  2827.42987746001,                 0,                 0,  2827.42987746001,             -2.0,      164.462695569438],\n",
       "[-3.16681247578056e-5, -0.403295155560835,  16929.4263621599, 0.260811015865573, -0.403295155560835, -164.462695569438, -0.0440537197406975, -304.416567950844, -0.000705283818518843, -0.0440537197406975, -4.81766603820573e-7, -0.13966652749649, 0.260811015865573, -304.416567950844, -0.13966652749649, 164.462695569438,                  -0.1]])"
      ]
     },
     "execution_count": 98,
     "metadata": {},
     "output_type": "execute_result"
    }
   ],
   "source": [
    "M = 1/2 * (A + A_T)\n",
    "M"
   ]
  },
  {
   "cell_type": "code",
   "execution_count": 99,
   "metadata": {},
   "outputs": [
    {
     "data": {
      "text/plain": [
       "{-5656.85527470295 - 3.90825640290704e-125*I: 1,\n",
       " 5652.85527470295 + 2.94438912195155e-125*I: 1,\n",
       " -7.44279704064531 - 2.41330834424049e-125*I: 1,\n",
       " 3.44279704064531 - 9.21582034776611e-126*I: 1,\n",
       " -2.0 + 2.61075927142431e-64*I: 1,\n",
       " -2.0 - 1.80208452430083e-61*I: 1,\n",
       " -2.0 + 1.80071901383249e-61*I: 1,\n",
       " -17445.0234068648: 1,\n",
       " -5660.63586047641: 1,\n",
       " -5653.07504699753: 1,\n",
       " -5.91880692305920: 1,\n",
       " 1.91880688869625: 1,\n",
       " -3813.86551018088: 1,\n",
       " 5656.63591818679: 1,\n",
       " 5649.07498968258: 1,\n",
       " 3809.87905187311: 1,\n",
       " 17442.9098648115: 1}"
      ]
     },
     "execution_count": 99,
     "metadata": {},
     "output_type": "execute_result"
    }
   ],
   "source": [
    "M.eigenvals()"
   ]
  },
  {
   "cell_type": "code",
   "execution_count": 100,
   "metadata": {},
   "outputs": [],
   "source": [
    "#Perform analysis by varying only N0. This is because varying epsilon will actually change the strength of excitation in addition to a \n",
    "#fundamental parameter of the system. "
   ]
  },
  {
   "cell_type": "code",
   "execution_count": 101,
   "metadata": {},
   "outputs": [
    {
     "name": "stdout",
     "output_type": "stream",
     "text": [
      "Running simulation 0\n"
     ]
    },
    {
     "data": {
      "image/png": "[encoded data removed]",
      "text/plain": [
       "<Figure size 1500x500 with 2 Axes>"
      ]
     },
     "metadata": {},
     "output_type": "display_data"
    }
   ],
   "source": [
    "class SimulationSSD:\n",
    "    def __init__(self, epsilon, N_0_squared, r_m, k, m, m_u, dt, total_time):\n",
    "\n",
    "        #Make sure this is updated\n",
    "\n",
    "        self.epsilon = epsilon\n",
    "        self.N_0_squared = N_0_squared\n",
    "        self.r_m = r_m    \n",
    "        self.k = k\n",
    "        self.m = m\n",
    "        self.m_u = m_u\n",
    "        self.dt = dt\n",
    "        self.total_time = total_time\n",
    "        self.num_steps = int(total_time / dt)\n",
    "        self.k_e_square = k**2 + m**2\n",
    "        self.k_plus_square = k**2 + (m + m_u)**2\n",
    "\n",
    "        self.W_e = np.array([[-1, (k / self.k_e_square)], [-k * N_0_squared, -1]])\n",
    "        self.W_plus = np.array([[-1, -k / self.k_plus_square], [k * N_0_squared, -1]])\n",
    "        self.L_e_plus = np.array([[(-k / (2 * self.k_e_square)) * (self.k_plus_square - m_u**2), 0],\n",
    "                                  [0, k / 2]])\n",
    "        self.L_plus_e = np.array([[(-k / (2 * self.k_plus_square)) * (m_u**2 - self.k_e_square), 0],\n",
    "                                  [0, -k / 2]]) \n",
    "        self.U = 0.01\n",
    "        self.C = np.array([[0, 0, 0, 0], [0, 0, 0, 0], [0, 0, 0, 0], [0, 0, 0, 0]])\n",
    "\n",
    "        self.A_U = np.array([[-1, (k / self.k_e_square), self.U*(-k / (2 * self.k_e_square)) * (self.k_plus_square - m_u**2), self.U*0],\n",
    "                             \n",
    "                             [-k * N_0_squared, -1, self.U*0, self.U*self.k/2],\n",
    "\n",
    "                             [self.U*(-k / (2 * self.k_plus_square)) * (m_u**2 - self.k_e_square), self.U*0, -1, -self.k/self.k_plus_square],\n",
    "\n",
    "                             [self.U*0, self.U* -k / 2,k * N_0_squared, -1]])  \n",
    "    \n",
    "        self.Q = np.array([[8/self.k_e_square, 0, 0, 0], [0, 0, 0, 0], [0, 0, 0, 0], [0, 0, 0, 0]])\n",
    "        self.R = 0\n",
    "        self.C_History = np.zeros((self.num_steps, 4, 4))              \n",
    "        # self.C_History = np.zeros(self.num_steps)\n",
    "        self.U_History = np.zeros(self.num_steps)\n",
    "        self.R_History = np.zeros(self.num_steps)\n",
    "        self.C = self.C.astype(np.float64)\n",
    "\n",
    "    def simulate(self):\n",
    "        for i in range(self.num_steps):\n",
    "            if i == 100000:\n",
    "                self.U += 0.001\n",
    "\n",
    "\n",
    "            self.A_U = np.array([[-1, (k / self.k_e_square), self.U*(-k / (2 * self.k_e_square)) * (self.k_plus_square - m_u**2), self.U*0],\n",
    "                             \n",
    "                             [-k * N_0_squared, -1, self.U*0, self.U*self.k/2],\n",
    "\n",
    "                             [self.U*(-k / (2 * self.k_plus_square)) * (m_u**2 - self.k_e_square), self.U*0, -1, -self.k/self.k_plus_square],\n",
    "\n",
    "                             [self.U*0, self.U* -k / 2,k * N_0_squared, -1]]) \n",
    "                             \n",
    " \n",
    "            C_dot = (self.A_U @ self.C + self.C @ np.transpose(self.A_U) + self.epsilon * self.Q) \n",
    "            U_dot = (self.R - self.r_m * self.U)\n",
    "\n",
    "            \n",
    "            self.C += C_dot * self.dt\n",
    "            self.U += U_dot * self.dt\n",
    "            self.R = 0.25 * self.k * (self.k_plus_square - self.k_e_square) * self.C[0][2]\n",
    "\n",
    "            self.C_History[i] = self.C\n",
    "            self.U_History[i] = self.U\n",
    "            self.R_History[i] = self.R\n",
    "\n",
    "    def make_plots(self):\n",
    "\n",
    "        time_array = np.arange(0, self.total_time, .001)\n",
    "        fig, axs = plt.subplots(1, 2, figsize = (15, 5))\n",
    "\n",
    "       \n",
    "        axs[0].plot(time_array, self.U_History)\n",
    "        axs[0].set_title(f\"U History\")\n",
    "        axs[0].grid()\n",
    "        # axs[0].set_xlim(50, 75)\n",
    "        # axs[0].set_ylim(.29, .295)\n",
    "        axs[1].plot(time_array, self.R_History)\n",
    "        axs[1].set_title(f\"R Values\")\n",
    "        axs[1].grid()\n",
    "\n",
    "\n",
    "        plt.show()\n",
    "\n",
    "\n",
    "if __name__ == \"__main__\":\n",
    "    # epsilon_values = [.24]\n",
    "    epsilon_values = [.06]\n",
    "    N_0_squared_values = [150]\n",
    "    combo_list = list(itertools.product(epsilon_values, N_0_squared_values))\n",
    "\n",
    "    r_m = 0.1\n",
    "    k = 2 * np.pi * 6\n",
    "    m = 2 * np.pi * 3\n",
    "    m_u = 2 * np.pi * 7\n",
    "    dt = 0.001\n",
    "    total_time = 200\n",
    "    simulations = []\n",
    "    for idx, (epsilon, N_0_squared) in enumerate(combo_list):\n",
    "        print(f\"Running simulation {idx}\")\n",
    "        sim = SimulationSSD(epsilon, N_0_squared, r_m, k, m, m_u, dt, total_time)\n",
    "        sim.simulate()\n",
    "        simulations.append(sim)\n",
    "        globals()[f'sim{idx}'] = sim\n",
    "        globals()[f'sim{idx}Ustar'] = sim.U_History[-1]\n",
    "        globals()[f'sim{idx}Cstar'] = sim.C_History[-1]\n",
    "        sim.make_plots()"
   ]
  },
  {
   "cell_type": "code",
   "execution_count": 102,
   "metadata": {},
   "outputs": [
    {
     "data": {
      "text/plain": [
       "0.27209376239656274"
      ]
     },
     "execution_count": 102,
     "metadata": {},
     "output_type": "execute_result"
    }
   ],
   "source": [
    "sim0.U_History[99999]"
   ]
  },
  {
   "cell_type": "code",
   "execution_count": 103,
   "metadata": {},
   "outputs": [
    {
     "data": {
      "text/plain": [
       "0.2730936623965628"
      ]
     },
     "execution_count": 103,
     "metadata": {},
     "output_type": "execute_result"
    }
   ],
   "source": [
    "sim0.U_History[100000]"
   ]
  },
  {
   "cell_type": "code",
   "execution_count": 104,
   "metadata": {},
   "outputs": [
    {
     "data": {
      "text/plain": [
       "0.27309355243160854"
      ]
     },
     "execution_count": 104,
     "metadata": {},
     "output_type": "execute_result"
    }
   ],
   "source": [
    "sim0.U_History[100001]"
   ]
  },
  {
   "cell_type": "code",
   "execution_count": 105,
   "metadata": {},
   "outputs": [
    {
     "data": {
      "text/plain": [
       "array([[ 4.02751837e-05, -4.09293523e-03,  8.03317241e-07,\n",
       "        -3.91535167e-03],\n",
       "       [-4.09293523e-03,  1.24881418e+01,  2.55760814e-03,\n",
       "        -2.07777849e+00],\n",
       "       [ 8.03317241e-07,  2.55760814e-03,  7.47137616e-06,\n",
       "        -1.08137562e-03],\n",
       "       [-3.91535167e-03, -2.07777849e+00, -1.08137562e-03,\n",
       "         4.54114244e+00]])"
      ]
     },
     "execution_count": 105,
     "metadata": {},
     "output_type": "execute_result"
    }
   ],
   "source": [
    "C0 = sim0.C_History[100000]\n",
    "C0"
   ]
  },
  {
   "cell_type": "code",
   "execution_count": 106,
   "metadata": {},
   "outputs": [
    {
     "data": {
      "text/plain": [
       "array([[ 4.02751240e-05, -4.09310244e-03,  8.03022071e-07,\n",
       "        -3.91523888e-03],\n",
       "       [-4.09310244e-03,  1.24880640e+01,  2.55759257e-03,\n",
       "        -2.07792793e+00],\n",
       "       [ 8.03022071e-07,  2.55759257e-03,  7.47137601e-06,\n",
       "        -1.08142204e-03],\n",
       "       [-3.91523888e-03, -2.07792793e+00, -1.08142204e-03,\n",
       "         4.54122162e+00]])"
      ]
     },
     "execution_count": 106,
     "metadata": {},
     "output_type": "execute_result"
    }
   ],
   "source": [
    "sim0.C_History[100001]"
   ]
  },
  {
   "cell_type": "code",
   "execution_count": 107,
   "metadata": {},
   "outputs": [
    {
     "data": {
      "text/plain": [
       "array([[0., 0., 0., 0.],\n",
       "       [0., 0., 0., 0.],\n",
       "       [0., 0., 0., 0.],\n",
       "       [0., 0., 0., 0.]])"
      ]
     },
     "execution_count": 107,
     "metadata": {},
     "output_type": "execute_result"
    }
   ],
   "source": [
    "deltaCmat0 = sim0.C_History[99999] - sim0.C_History[99998]\n",
    "deltaCmat0"
   ]
  },
  {
   "cell_type": "code",
   "execution_count": 108,
   "metadata": {},
   "outputs": [
    {
     "data": {
      "text/plain": [
       "array([0.   , 0.   , 0.   , 0.   , 0.   , 0.   , 0.   , 0.   , 0.   ,\n",
       "       0.   , 0.   , 0.   , 0.   , 0.   , 0.   , 0.   , 0.001])"
      ]
     },
     "execution_count": 108,
     "metadata": {},
     "output_type": "execute_result"
    }
   ],
   "source": [
    "deltaX0 = np.array([deltaCmat0[i,j] for i in range(4) for j in range(4)] + [.001])\n",
    "deltaX0"
   ]
  },
  {
   "cell_type": "code",
   "execution_count": 109,
   "metadata": {},
   "outputs": [
    {
     "data": {
      "text/plain": [
       "array([[-5.85712088e-11, -1.67011067e-07, -2.94604012e-10,\n",
       "         1.16553189e-07],\n",
       "       [-1.67011067e-07, -7.83247564e-05, -1.81135570e-08,\n",
       "        -1.49800363e-04],\n",
       "       [-2.94604012e-10, -1.81135570e-08, -8.91042729e-13,\n",
       "        -4.60393885e-08],\n",
       "       [ 1.16553189e-07, -1.49800363e-04, -4.60393885e-08,\n",
       "         7.83247564e-05]])"
      ]
     },
     "execution_count": 109,
     "metadata": {},
     "output_type": "execute_result"
    }
   ],
   "source": [
    "deltaCmat1 = sim0.C_History[100000] - sim0.C_History[99999]\n",
    "deltaCmat1"
   ]
  },
  {
   "cell_type": "code",
   "execution_count": 110,
   "metadata": {},
   "outputs": [
    {
     "data": {
      "text/plain": [
       "0.0009999000000000535"
      ]
     },
     "execution_count": 110,
     "metadata": {},
     "output_type": "execute_result"
    }
   ],
   "source": [
    "deltaU1 = sim0.U_History[100000] - (sim0.U_History[99999])\n",
    "deltaU1"
   ]
  },
  {
   "cell_type": "code",
   "execution_count": 111,
   "metadata": {},
   "outputs": [
    {
     "data": {
      "text/plain": [
       "array([-5.85712088e-11, -1.67011067e-07, -2.94604012e-10,  1.16553189e-07,\n",
       "       -1.67011067e-07, -7.83247564e-05, -1.81135570e-08, -1.49800363e-04,\n",
       "       -2.94604012e-10, -1.81135570e-08, -8.91042729e-13, -4.60393885e-08,\n",
       "        1.16553189e-07, -1.49800363e-04, -4.60393885e-08,  7.83247564e-05,\n",
       "        9.99900000e-04])"
      ]
     },
     "execution_count": 111,
     "metadata": {},
     "output_type": "execute_result"
    }
   ],
   "source": [
    "deltaX1 = np.array([deltaCmat1[i,j] for i in range(4) for j in range(4)] + [deltaU1])\n",
    "deltaX1"
   ]
  },
  {
   "cell_type": "code",
   "execution_count": 112,
   "metadata": {},
   "outputs": [
    {
     "data": {
      "text/plain": [
       "array([0.   , 0.   , 0.   , 0.   , 0.   , 0.   , 0.   , 0.   , 0.   ,\n",
       "       0.   , 0.   , 0.   , 0.   , 0.   , 0.   , 0.   , 0.001])"
      ]
     },
     "execution_count": 112,
     "metadata": {},
     "output_type": "execute_result"
    }
   ],
   "source": [
    "deltaX0"
   ]
  },
  {
   "cell_type": "code",
   "execution_count": 113,
   "metadata": {},
   "outputs": [
    {
     "data": {
      "text/plain": [
       "array([-5.85712088e-11, -1.67011067e-07, -2.94604012e-10,  1.16553189e-07,\n",
       "       -1.67011067e-07, -7.83247564e-05, -1.81135570e-08, -1.49800363e-04,\n",
       "       -2.94604012e-10, -1.81135570e-08, -8.91042729e-13, -4.60393885e-08,\n",
       "        1.16553189e-07, -1.49800363e-04, -4.60393885e-08,  7.83247564e-05,\n",
       "       -9.99999999e-08])"
      ]
     },
     "execution_count": 113,
     "metadata": {},
     "output_type": "execute_result"
    }
   ],
   "source": [
    "deltaDiff = deltaX1 - deltaX0\n",
    "deltaDiff"
   ]
  },
  {
   "cell_type": "code",
   "execution_count": 114,
   "metadata": {},
   "outputs": [],
   "source": [
    "den = 10**-6"
   ]
  },
  {
   "cell_type": "code",
   "execution_count": 115,
   "metadata": {},
   "outputs": [
    {
     "data": {
      "text/plain": [
       "array([-5.85712088e-05, -1.67011067e-01, -2.94604012e-04,  1.16553189e-01,\n",
       "       -1.67011067e-01, -7.83247564e+01, -1.81135570e-02, -1.49800363e+02,\n",
       "       -2.94604012e-04, -1.81135570e-02, -8.91042729e-07, -4.60393885e-02,\n",
       "        1.16553189e-01, -1.49800363e+02, -4.60393885e-02,  7.83247564e+01,\n",
       "       -9.99999999e-02])"
      ]
     },
     "execution_count": 115,
     "metadata": {},
     "output_type": "execute_result"
    }
   ],
   "source": [
    "Amat = deltaDiff/den\n",
    "Amat"
   ]
  },
  {
   "cell_type": "code",
   "execution_count": 116,
   "metadata": {},
   "outputs": [
    {
     "name": "stdout",
     "output_type": "stream",
     "text": [
      "-5.857120878935288e-05\n",
      "-0.1670110673186384\n",
      "-0.0002946040120338333\n",
      "0.11655318929524455\n",
      "-0.1670110673186384\n",
      "-78.32475641222914\n",
      "-0.018113557004144354\n",
      "-149.8003625117761\n",
      "-0.0002946040120338333\n",
      "-0.018113557004144354\n",
      "-8.910427293739014e-07\n",
      "-0.04603938854653468\n",
      "0.11655318929524455\n",
      "-149.8003625117761\n",
      "-0.04603938854653468\n",
      "78.32475641134096\n",
      "-0.09999999994649705\n"
     ]
    }
   ],
   "source": [
    "for i in Amat:\n",
    "    print(i)"
   ]
  },
  {
   "cell_type": "code",
   "execution_count": 117,
   "metadata": {},
   "outputs": [
    {
     "data": {
      "text/latex": [
       "$\\displaystyle \\left[\\begin{array}{ccccccccccccccccc}-2 & 0.0212206590789194 & -10.7224641689976 & 0 & 0.0212206590789194 & 0 & 0 & 0 & -10.7224641689976 & 0 & 0 & 0 & 0 & 0 & 0 & 0 & -6.33362495156113 \\cdot 10^{-5}\\\\-5654.86677646163 & -2 & 0 & 5.54610215637809 & 0 & 0.0212206590789194 & 0 & 0 & 0 & -10.7224641689976 & 0 & 0 & 0 & 0 & 0 & 0 & -0.806590311121669\\\\-0.163120651658179 & 0 & -2 & -0.00702154160699538 & 0 & 0 & 0.0212206590789194 & 0 & 0 & 0 & -10.7224641689976 & 0 & 0 & 0 & 0 & 0 & -0.00141056763703769\\\\0 & -5.54610215637809 & 5654.86677646163 & -2 & 0 & 0 & 0 & 0.0212206590789194 & 0 & 0 & 0 & -10.7224641689976 & 0 & 0 & 0 & 0 & 0.521622031731146\\\\-5654.86677646163 & 0 & 0 & 0 & -2 & 0.0212206590789194 & -10.7224641689976 & 0 & 0 & 0 & 0 & 0 & 5.54610215637809 & 0 & 0 & 0 & -0.806590311121669\\\\0 & -5654.86677646163 & 0 & 0 & -5654.86677646163 & -2 & 0 & 5.54610215637809 & 0 & 0 & 0 & 0 & 0 & 5.54610215637809 & 0 & 0 & -328.925391138876\\\\0 & 0 & -5654.86677646163 & 0 & -0.163120651658179 & 0 & -2 & -0.00702154160699538 & 0 & 0 & 0 & 0 & 0 & 0 & 5.54610215637809 & 0 & -0.088107439481395\\\\0 & 0 & 0 & -5654.86677646163 & 0 & -5.54610215637809 & 5654.86677646163 & -2 & 0 & 0 & 0 & 0 & 0 & 0 & 0 & 5.54610215637809 & -608.833135901688\\\\-0.163120651658179 & 0 & 0 & 0 & 0 & 0 & 0 & 0 & -2 & 0.0212206590789194 & -10.7224641689976 & 0 & -0.00702154160699538 & 0 & 0 & 0 & -0.00141056763703769\\\\0 & -0.163120651658179 & 0 & 0 & 0 & 0 & 0 & 0 & -5654.86677646163 & -2 & 0 & 5.54610215637809 & 0 & -0.00702154160699538 & 0 & 0 & -0.088107439481395\\\\0 & 0 & -0.163120651658179 & 0 & 0 & 0 & 0 & 0 & -0.163120651658179 & 0 & -2 & -0.00702154160699538 & 0 & 0 & -0.00702154160699538 & 0 & -9.63533207641146 \\cdot 10^{-7}\\\\0 & 0 & 0 & -0.163120651658179 & 0 & 0 & 0 & 0 & 0 & -5.54610215637809 & 5654.86677646163 & -2 & 0 & 0 & 0 & -0.00702154160699538 & -0.279333054992981\\\\0 & 0 & 0 & 0 & -5.54610215637809 & 0 & 0 & 0 & 5654.86677646163 & 0 & 0 & 0 & -2 & 0.0212206590789194 & -10.7224641689976 & 0 & 0.521622031731146\\\\0 & 0 & 0 & 0 & 0 & -5.54610215637809 & 0 & 0 & 0 & 5654.86677646163 & 0 & 0 & -5654.86677646163 & -2 & 0 & 5.54610215637809 & -608.833135901688\\\\0 & 0 & 0 & 0 & 0 & 0 & -5.54610215637809 & 0 & 0 & 0 & 5654.86677646163 & 0 & -0.163120651658179 & 0 & -2 & -0.00702154160699538 & -0.279333054992981\\\\0 & 0 & 0 & 0 & 0 & 0 & 0 & -5.54610215637809 & 0 & 0 & 0 & 5654.86677646163 & 0 & -5.54610215637809 & 5654.86677646163 & -2 & 328.925391138876\\\\0 & 0 & 33858.8541348874 & 0 & 0 & 0 & 0 & 0 & 0 & 0 & 0 & 0 & 0 & 0 & 0 & 0 & -0.1\\end{array}\\right]$"
      ],
      "text/plain": [
       "Matrix([\n",
       "[                -2, 0.0212206590789194,  -10.7224641689976,                    0, 0.0212206590789194,                  0,                  0,                    0,  -10.7224641689976,                  0,                 0,                    0,                    0,                    0,                    0,                    0, -6.33362495156113e-5],\n",
       "[ -5654.86677646163,                 -2,                  0,     5.54610215637809,                  0, 0.0212206590789194,                  0,                    0,                  0,  -10.7224641689976,                 0,                    0,                    0,                    0,                    0,                    0,   -0.806590311121669],\n",
       "[-0.163120651658179,                  0,                 -2, -0.00702154160699538,                  0,                  0, 0.0212206590789194,                    0,                  0,                  0, -10.7224641689976,                    0,                    0,                    0,                    0,                    0, -0.00141056763703769],\n",
       "[                 0,  -5.54610215637809,   5654.86677646163,                   -2,                  0,                  0,                  0,   0.0212206590789194,                  0,                  0,                 0,    -10.7224641689976,                    0,                    0,                    0,                    0,    0.521622031731146],\n",
       "[ -5654.86677646163,                  0,                  0,                    0,                 -2, 0.0212206590789194,  -10.7224641689976,                    0,                  0,                  0,                 0,                    0,     5.54610215637809,                    0,                    0,                    0,   -0.806590311121669],\n",
       "[                 0,  -5654.86677646163,                  0,                    0,  -5654.86677646163,                 -2,                  0,     5.54610215637809,                  0,                  0,                 0,                    0,                    0,     5.54610215637809,                    0,                    0,    -328.925391138876],\n",
       "[                 0,                  0,  -5654.86677646163,                    0, -0.163120651658179,                  0,                 -2, -0.00702154160699538,                  0,                  0,                 0,                    0,                    0,                    0,     5.54610215637809,                    0,   -0.088107439481395],\n",
       "[                 0,                  0,                  0,    -5654.86677646163,                  0,  -5.54610215637809,   5654.86677646163,                   -2,                  0,                  0,                 0,                    0,                    0,                    0,                    0,     5.54610215637809,    -608.833135901688],\n",
       "[-0.163120651658179,                  0,                  0,                    0,                  0,                  0,                  0,                    0,                 -2, 0.0212206590789194, -10.7224641689976,                    0, -0.00702154160699538,                    0,                    0,                    0, -0.00141056763703769],\n",
       "[                 0, -0.163120651658179,                  0,                    0,                  0,                  0,                  0,                    0,  -5654.86677646163,                 -2,                 0,     5.54610215637809,                    0, -0.00702154160699538,                    0,                    0,   -0.088107439481395],\n",
       "[                 0,                  0, -0.163120651658179,                    0,                  0,                  0,                  0,                    0, -0.163120651658179,                  0,                -2, -0.00702154160699538,                    0,                    0, -0.00702154160699538,                    0, -9.63533207641146e-7],\n",
       "[                 0,                  0,                  0,   -0.163120651658179,                  0,                  0,                  0,                    0,                  0,  -5.54610215637809,  5654.86677646163,                   -2,                    0,                    0,                    0, -0.00702154160699538,   -0.279333054992981],\n",
       "[                 0,                  0,                  0,                    0,  -5.54610215637809,                  0,                  0,                    0,   5654.86677646163,                  0,                 0,                    0,                   -2,   0.0212206590789194,    -10.7224641689976,                    0,    0.521622031731146],\n",
       "[                 0,                  0,                  0,                    0,                  0,  -5.54610215637809,                  0,                    0,                  0,   5654.86677646163,                 0,                    0,    -5654.86677646163,                   -2,                    0,     5.54610215637809,    -608.833135901688],\n",
       "[                 0,                  0,                  0,                    0,                  0,                  0,  -5.54610215637809,                    0,                  0,                  0,  5654.86677646163,                    0,   -0.163120651658179,                    0,                   -2, -0.00702154160699538,   -0.279333054992981],\n",
       "[                 0,                  0,                  0,                    0,                  0,                  0,                  0,    -5.54610215637809,                  0,                  0,                 0,     5654.86677646163,                    0,    -5.54610215637809,     5654.86677646163,                   -2,     328.925391138876],\n",
       "[                 0,                  0,   33858.8541348874,                    0,                  0,                  0,                  0,                    0,                  0,                  0,                 0,                    0,                    0,                    0,                    0,                    0,                 -0.1]])"
      ]
     },
     "execution_count": 117,
     "metadata": {},
     "output_type": "execute_result"
    }
   ],
   "source": [
    "combo_list = [(.06, 150)]\n",
    "for idx in range(len(combo_list)):\n",
    "    # print(f\"Calculating eigenvalues for simulation {idx}\")\n",
    "    U_star_val = globals()[f'sim{idx}Ustar']\n",
    "    C_star_val = globals()[f'sim{idx}Cstar']\n",
    "    epsilon_val, N_0_squared_val = combo_list[idx]\n",
    "\n",
    "    C_star_subs = {f'C_star{i}': C_star_val[i // 4, i % 4] for i in range(16)} #change here\n",
    "    subs_dict = {'U_star': U_star_val, **C_star_subs}\n",
    "\n",
    "    subs_dict.update({'r_m': r_m_val, 'k': k_val, 'm': m_val, 'm_u': m_u_val, 'dt': dt_val, 'total_time': total_time_val, 'k_e_square': k_e_square_val, 'k_plus_square': k_plus_square_val, 'epsilon': epsilon_val, 'N_0_squared': N_0_squared_val})\n",
    "    A_subs = A.subs(subs_dict)\n",
    "    # A_numeric = np.array(A_subs).astype(np.complex128)\n",
    "    # eigenvalues, eigenvectors = np.linalg.eig(A_numeric)\n",
    "    # eigenvalues = A_subs.eigenvals()\n",
    "    # globals()[f'Eigenvalues{idx}'] = eigenvalues\n",
    "A_subs"
   ]
  },
  {
   "cell_type": "code",
   "execution_count": 118,
   "metadata": {},
   "outputs": [
    {
     "data": {
      "text/plain": [
       "{-2.0 - 16.9669511535006*I: 1,\n",
       " -2.0 + 16.9669511535006*I: 1,\n",
       " -2.0 - 9.4633356081941*I: 1,\n",
       " -2.0 + 9.4633356081941*I: 1,\n",
       " -1.99863777058245 - 26.522214819026*I: 1,\n",
       " -1.99863777058245 + 26.522214819026*I: 1,\n",
       " -1.9534196572004 - 17.5127441038743*I: 1,\n",
       " -0.370218189165144 - 9.55229726515369*I: 1,\n",
       " -2.3135772722923 - 8.94320520891369*I: 1,\n",
       " -1.9534196572004 + 17.5127441038743*I: 1,\n",
       " -2.82829422151942 - 6.56783364715292e-61*I: 1,\n",
       " -2.0 + 4.92412256422902e-63*I: 1,\n",
       " -2.0 - 2.53437336684871e-63*I: 1,\n",
       " -2.0 - 4.0932941844741e-29*I: 1,\n",
       " -2.0 + 4.0932941844741e-29*I: 1,\n",
       " -2.3135772722923 + 8.94320520891369*I: 1,\n",
       " -0.370218189165144 + 9.55229726515369*I: 1}"
      ]
     },
     "execution_count": 118,
     "metadata": {},
     "output_type": "execute_result"
    }
   ],
   "source": [
    "A_subs.eigenvals()"
   ]
  },
  {
   "cell_type": "code",
   "execution_count": 119,
   "metadata": {},
   "outputs": [
    {
     "data": {
      "text/plain": [
       "{'U_star': 0.27209376239661714,\n",
       " 'C_star0': 4.027524227513364e-05,\n",
       " 'C_star1': -0.0040927682142808995,\n",
       " 'C_star2': 8.036118449619653e-07,\n",
       " 'C_star3': -0.003915468218998767,\n",
       " 'C_star4': -0.0040927682142808995,\n",
       " 'C_star5': 12.48822016837093,\n",
       " 'C_star6': 0.002557626251332569,\n",
       " 'C_star7': -2.0776286915446134,\n",
       " 'C_star8': 8.036118449619653e-07,\n",
       " 'C_star9': 0.002557626251332569,\n",
       " 'C_star10': 7.471377055535871e-06,\n",
       " 'C_star11': -0.0010813295804455315,\n",
       " 'C_star12': -0.003915468218998767,\n",
       " 'C_star13': -2.0776286915446134,\n",
       " 'C_star14': -0.0010813295804455315,\n",
       " 'C_star15': 4.541064111457452,\n",
       " 'r_m': 0.1,\n",
       " 'k': 37.69911184307752,\n",
       " 'm': 18.84955592153876,\n",
       " 'm_u': 43.982297150257104,\n",
       " 'dt': 0.001,\n",
       " 'total_time': 200,\n",
       " 'k_e_square': 1776.5287921960844,\n",
       " 'k_plus_square': 5369.064794192611,\n",
       " 'epsilon': 0.06,\n",
       " 'N_0_squared': 150}"
      ]
     },
     "execution_count": 119,
     "metadata": {},
     "output_type": "execute_result"
    }
   ],
   "source": [
    "subs_dict"
   ]
  },
  {
   "cell_type": "code",
   "execution_count": 120,
   "metadata": {},
   "outputs": [
    {
     "name": "stdout",
     "output_type": "stream",
     "text": [
      "[[0.13182138 0.8063243  0.88911038 0.04064918]\n",
      " [0.47709511 0.77982174 0.05923172 0.44137957]\n",
      " [0.76902929 0.92553707 0.85229028 0.03553715]\n",
      " [0.34242769 0.47495393 0.04795171 0.16991138]]\n"
     ]
    }
   ],
   "source": [
    "import numpy as np\n",
    "\n",
    "matrix_4x4 = np.random.rand(4, 4)\n",
    "print(matrix_4x4)"
   ]
  },
  {
   "cell_type": "code",
   "execution_count": 121,
   "metadata": {},
   "outputs": [
    {
     "data": {
      "text/plain": [
       "{'matrix_4x4_0': 0.1318213782209715,\n",
       " 'matrix_4x4_1': 0.8063242970730184,\n",
       " 'matrix_4x4_2': 0.8891103830898706,\n",
       " 'matrix_4x4_3': 0.04064918296541886,\n",
       " 'matrix_4x4_4': 0.47709510646155606,\n",
       " 'matrix_4x4_5': 0.7798217361333775,\n",
       " 'matrix_4x4_6': 0.059231718215987605,\n",
       " 'matrix_4x4_7': 0.4413795716671083,\n",
       " 'matrix_4x4_8': 0.7690292900997461,\n",
       " 'matrix_4x4_9': 0.9255370696186503,\n",
       " 'matrix_4x4_10': 0.8522902793601288,\n",
       " 'matrix_4x4_11': 0.03553714624961879,\n",
       " 'matrix_4x4_12': 0.34242768567921955,\n",
       " 'matrix_4x4_13': 0.4749539340298897,\n",
       " 'matrix_4x4_14': 0.04795170767800272,\n",
       " 'matrix_4x4_15': 0.16991137865097394}"
      ]
     },
     "execution_count": 121,
     "metadata": {},
     "output_type": "execute_result"
    }
   ],
   "source": [
    "test_star_subs = {f'matrix_4x4_{i}': matrix_4x4[i // 4, i % 4] for i in range(16)}\n",
    "test_star_subs"
   ]
  },
  {
   "cell_type": "code",
   "execution_count": 122,
   "metadata": {},
   "outputs": [
    {
     "data": {
      "text/latex": [
       "$\\displaystyle \\left[\\begin{matrix}test_{star0} & test_{star1} & test_{star2} & test_{star3}\\\\test_{star4} & test_{star5} & test_{star6} & test_{star7}\\\\test_{star8} & test_{star9} & test_{star10} & test_{star11}\\\\test_{star12} & test_{star13} & test_{star14} & test_{star15}\\end{matrix}\\right]$"
      ],
      "text/plain": [
       "Matrix([\n",
       "[ test_star0,  test_star1,  test_star2,  test_star3],\n",
       "[ test_star4,  test_star5,  test_star6,  test_star7],\n",
       "[ test_star8,  test_star9, test_star10, test_star11],\n",
       "[test_star12, test_star13, test_star14, test_star15]])"
      ]
     },
     "execution_count": 122,
     "metadata": {},
     "output_type": "execute_result"
    }
   ],
   "source": [
    "test_star_subs = Matrix(4, 4, symbols('test_star:16'))\n",
    "test_star_subs"
   ]
  },
  {
   "cell_type": "code",
   "execution_count": 123,
   "metadata": {},
   "outputs": [
    {
     "data": {
      "text/latex": [
       "$\\displaystyle test_{star2}$"
      ],
      "text/plain": [
       "test_star2"
      ]
     },
     "execution_count": 123,
     "metadata": {},
     "output_type": "execute_result"
    }
   ],
   "source": [
    "test_star_subs[0, 2]"
   ]
  },
  {
   "cell_type": "code",
   "execution_count": 124,
   "metadata": {},
   "outputs": [
    {
     "data": {
      "text/latex": [
       "$\\displaystyle \\left[\\begin{matrix}test_{star0}\\\\test_{star1}\\\\test_{star2}\\\\test_{star3}\\\\test_{star4}\\\\test_{star5}\\\\test_{star6}\\\\test_{star7}\\\\test_{star8}\\\\test_{star9}\\\\test_{star10}\\\\test_{star11}\\\\test_{star12}\\\\test_{star13}\\\\test_{star14}\\\\test_{star15}\\\\0.001\\end{matrix}\\right]$"
      ],
      "text/plain": [
       "Matrix([\n",
       "[ test_star0],\n",
       "[ test_star1],\n",
       "[ test_star2],\n",
       "[ test_star3],\n",
       "[ test_star4],\n",
       "[ test_star5],\n",
       "[ test_star6],\n",
       "[ test_star7],\n",
       "[ test_star8],\n",
       "[ test_star9],\n",
       "[test_star10],\n",
       "[test_star11],\n",
       "[test_star12],\n",
       "[test_star13],\n",
       "[test_star14],\n",
       "[test_star15],\n",
       "[      0.001]])"
      ]
     },
     "execution_count": 124,
     "metadata": {},
     "output_type": "execute_result"
    }
   ],
   "source": [
    "samp_dx = Matrix([test_star_subs[i, j] for i in range(4) for j in range(4)] + [0.001])\n",
    "samp_dx"
   ]
  },
  {
   "cell_type": "code",
   "execution_count": 125,
   "metadata": {},
   "outputs": [
    {
     "data": {
      "text/plain": [
       "{-2.0 - 16.9669511535006*I: 1,\n",
       " -2.0 + 16.9669511535006*I: 1,\n",
       " -2.0 - 9.4633356081941*I: 1,\n",
       " -2.0 + 9.4633356081941*I: 1,\n",
       " -1.99863777058245 - 26.522214819026*I: 1,\n",
       " -1.99863777058245 + 26.522214819026*I: 1,\n",
       " -1.9534196572004 - 17.5127441038743*I: 1,\n",
       " -0.370218189165144 - 9.55229726515369*I: 1,\n",
       " -2.3135772722923 - 8.94320520891369*I: 1,\n",
       " -1.9534196572004 + 17.5127441038743*I: 1,\n",
       " -2.82829422151942 - 6.56783364715292e-61*I: 1,\n",
       " -2.0 + 4.92412256422902e-63*I: 1,\n",
       " -2.0 - 2.53437336684871e-63*I: 1,\n",
       " -2.0 - 4.0932941844741e-29*I: 1,\n",
       " -2.0 + 4.0932941844741e-29*I: 1,\n",
       " -2.3135772722923 + 8.94320520891369*I: 1,\n",
       " -0.370218189165144 + 9.55229726515369*I: 1}"
      ]
     },
     "execution_count": 125,
     "metadata": {},
     "output_type": "execute_result"
    }
   ],
   "source": [
    "Eigenvalues90"
   ]
  },
  {
   "cell_type": "code",
   "execution_count": null,
   "metadata": {},
   "outputs": [],
   "source": []
  }
 ],
 "metadata": {
  "kernelspec": {
   "display_name": "simulations_env",
   "language": "python",
   "name": "python3"
  },
  "language_info": {
   "codemirror_mode": {
    "name": "ipython",
    "version": 3
   },
   "file_extension": ".py",
   "mimetype": "text/x-python",
   "name": "python",
   "nbconvert_exporter": "python",
   "pygments_lexer": "ipython3",
   "version": "3.12.2"
  }
 },
 "nbformat": 4,
 "nbformat_minor": 2
}
