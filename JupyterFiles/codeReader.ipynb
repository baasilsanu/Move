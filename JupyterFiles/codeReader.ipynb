{
 "cells": [
  {
   "cell_type": "code",
   "execution_count": null,
   "metadata": {},
   "outputs": [],
   "source": [
    "import pandas as pd"
   ]
  },
  {
   "cell_type": "code",
   "execution_count": null,
   "metadata": {},
   "outputs": [],
   "source": [
    "df = pd.read_csv('data.csv')"
   ]
  },
  {
   "cell_type": "code",
   "execution_count": 1,
   "metadata": {},
   "outputs": [
    {
     "ename": "NameError",
     "evalue": "name 'df' is not defined",
     "output_type": "error",
     "traceback": [
      "\u001b[0;31m---------------------------------------------------------------------------\u001b[0m",
      "\u001b[0;31mNameError\u001b[0m                                 Traceback (most recent call last)",
      "Cell \u001b[0;32mIn[1], line 1\u001b[0m\n\u001b[0;32m----> 1\u001b[0m \u001b[43mdf\u001b[49m\u001b[38;5;241m.\u001b[39mhead()\n",
      "\u001b[0;31mNameError\u001b[0m: name 'df' is not defined"
     ]
    }
   ],
   "source": [
    "df.head()"
   ]
  },
  {
   "cell_type": "code",
   "execution_count": null,
   "metadata": {},
   "outputs": [],
   "source": [
    "psi_e_total = []\n",
    "b_e_total = []\n",
    "psi_plus_total = []\n",
    "b_plus_total = []\n",
    "U_total = []\n",
    "R_total = []\n",
    "k_e_psi_e_total = []\n",
    "k_e_b_e_total = []\n",
    "k_e_psi_plus_total = []\n",
    "k_e_b_plus_total = []\n",
    "heat_flux_psi_e_b_e_total= []\n",
    "heat_flux_psi_e_b_plus_total = []\n",
    "b_e_psi_plus_total = []\n",
    "b_e_b_plus_total = []\n",
    "psi_plus_b_plus_total= []\n",
    "eta_total = []"
   ]
  },
  {
   "cell_type": "code",
   "execution_count": null,
   "metadata": {},
   "outputs": [
    {
     "ename": "NameError",
     "evalue": "name 'df' is not defined",
     "output_type": "error",
     "traceback": [
      "\u001b[0;31m---------------------------------------------------------------------------\u001b[0m",
      "\u001b[0;31mNameError\u001b[0m                                 Traceback (most recent call last)",
      "Cell \u001b[0;32mIn[2], line 1\u001b[0m\n\u001b[0;32m----> 1\u001b[0m \u001b[38;5;28;01mfor\u001b[39;00m index, row \u001b[38;5;129;01min\u001b[39;00m \u001b[43mdf\u001b[49m\u001b[38;5;241m.\u001b[39miterrows():\n\u001b[1;32m      2\u001b[0m     psi_e_list \u001b[38;5;241m=\u001b[39m row[\u001b[38;5;124m'\u001b[39m\u001b[38;5;124mpsi_e\u001b[39m\u001b[38;5;124m'\u001b[39m]\n\u001b[1;32m      3\u001b[0m     b_e_list \u001b[38;5;241m=\u001b[39m row[\u001b[38;5;124m'\u001b[39m\u001b[38;5;124mb_e\u001b[39m\u001b[38;5;124m'\u001b[39m]\n",
      "\u001b[0;31mNameError\u001b[0m: name 'df' is not defined"
     ]
    }
   ],
   "source": [
    "for index, row in df.iterrows():\n",
    "    psi_e_list = row['psi_e']\n",
    "    b_e_list = row['b_e']\n",
    "    psi_plus_list = row['psi_plus']\n",
    "    b_plus_list = row['b_plus']\n",
    "    U_list = row['u_list']\n",
    "    R_list = row['r_list']\n",
    "    k_e_psi_e_list = row['k_e_psi_e_list']\n",
    "    k_e_b_e_list = row['k_e_b_e_list']\n",
    "    k_e_psi_plus_list = row['k_e_psi_plus_list']\n",
    "    k_e_b_plus_list = row['k_e_b_plus_list']\n",
    "    heat_flux_psi_e_b_e_list= row['heat_flux_psi_e_b_e_list']\n",
    "    heat_flux_psi_e_b_plus_list = row['heat_flux_psi_e_b_plus_list']\n",
    "    b_e_psi_plus_list = row['b_e_psi_plus_list']\n",
    "    b_e_b_plus_list = row['b_e_b_plus_list']\n",
    "    psi_plus_b_plus_list= row['psi_plus_b_plus_list']\n",
    "    eta_list = row['eta_list']\n",
    "\n",
    "    psi_e_total.extend(psi_e_list)\n",
    "    b_e_total.extend(b_e_list)\n",
    "    psi_plus_total.extend(psi_plus_list)\n",
    "    b_plus_total.extend(b_plus_list)\n",
    "    U_total.extend(U_list)\n",
    "    R_total.extend(R_list)\n",
    "    k_e_psi_e_total.extend(k_e_psi_e_list)\n",
    "    k_e_b_e_total.extend(k_e_b_e_list)\n",
    "    k_e_psi_plus_total.extend(k_e_psi_plus_list)\n",
    "    k_e_b_plus_total.extend(k_e_b_plus_list)\n",
    "    heat_flux_psi_e_b_e_total.extend(heat_flux_psi_e_b_e_list)\n",
    "    heat_flux_psi_e_b_plus_total.extend(heat_flux_psi_e_b_plus_list)\n",
    "    b_e_psi_plus_total.extend(b_e_psi_plus_list)\n",
    "    b_e_b_plus_total.extend(b_e_b_plus_list)\n",
    "    psi_plus_b_plus_total.extend(psi_plus_b_plus_list)\n",
    "    eta_total.extend(eta_list)"
   ]
  },
  {
   "cell_type": "markdown",
   "metadata": {},
   "source": [
    "Github repo (All file names related to composite analysis will have a lot of helpful function, including extracting data and averaging arrays)"
   ]
  },
  {
   "cell_type": "markdown",
   "metadata": {},
   "source": [
    "https://github.com/baasilsanu/Move/blob/master/JupyterFiles/detailedCompositeAnalysis.ipynb"
   ]
  }
 ],
 "metadata": {
  "kernelspec": {
   "display_name": "simulations_env",
   "language": "python",
   "name": "python3"
  },
  "language_info": {
   "codemirror_mode": {
    "name": "ipython",
    "version": 3
   },
   "file_extension": ".py",
   "mimetype": "text/x-python",
   "name": "python",
   "nbconvert_exporter": "python",
   "pygments_lexer": "ipython3",
   "version": "3.12.2"
  }
 },
 "nbformat": 4,
 "nbformat_minor": 2
}
