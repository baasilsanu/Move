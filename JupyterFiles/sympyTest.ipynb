{
 "cells": [
  {
   "cell_type": "code",
   "execution_count": 1,
   "metadata": {},
   "outputs": [],
   "source": [
    "import sympy as sp"
   ]
  },
  {
   "cell_type": "code",
   "execution_count": 2,
   "metadata": {},
   "outputs": [],
   "source": [
    "x, y = sp.symbols('x y')\n",
    "alpha, beta, gamma, delta = sp.symbols(\"alpha beta gamma delta\")"
   ]
  },
  {
   "cell_type": "code",
   "execution_count": 3,
   "metadata": {},
   "outputs": [],
   "source": [
    "dxdt = alpha*x - beta*x*y\n",
    "dydt = delta*x*y - gamma*y"
   ]
  },
  {
   "cell_type": "code",
   "execution_count": 4,
   "metadata": {},
   "outputs": [
    {
     "data": {
      "text/latex": [
       "$\\displaystyle \\left[\\begin{matrix}0 & 0\\\\\\frac{\\gamma}{\\delta} & \\frac{\\alpha}{\\beta}\\end{matrix}\\right]$"
      ],
      "text/plain": [
       "Matrix([\n",
       "[          0,          0],\n",
       "[gamma/delta, alpha/beta]])"
      ]
     },
     "execution_count": 4,
     "metadata": {},
     "output_type": "execute_result"
    }
   ],
   "source": [
    "fixed_points = sp.solve([dxdt, dydt], (x, y))\n",
    "sp.Matrix(fixed_points)"
   ]
  },
  {
   "cell_type": "code",
   "execution_count": 5,
   "metadata": {},
   "outputs": [
    {
     "data": {
      "text/latex": [
       "$\\displaystyle \\left[\\begin{matrix}\\alpha - \\beta y & \\delta x - \\gamma\\\\\\delta y & - \\beta x\\end{matrix}\\right]$"
      ],
      "text/plain": [
       "Matrix([\n",
       "[alpha - beta*y, delta*x - gamma],\n",
       "[       delta*y,         -beta*x]])"
      ]
     },
     "execution_count": 5,
     "metadata": {},
     "output_type": "execute_result"
    }
   ],
   "source": [
    "J = sp.Matrix([[dxdt.diff(x), dydt.diff(y)], [dydt.diff(x), dxdt.diff(y)]])\n",
    "J"
   ]
  },
  {
   "cell_type": "code",
   "execution_count": 6,
   "metadata": {},
   "outputs": [
    {
     "data": {
      "text/latex": [
       "$\\displaystyle \\left[\\begin{matrix}\\alpha & - \\gamma\\\\0 & 0\\\\0 & 0\\\\\\frac{\\alpha \\delta}{\\beta} & - \\frac{\\beta \\gamma}{\\delta}\\end{matrix}\\right]$"
      ],
      "text/plain": [
       "Matrix([\n",
       "[           alpha,            -gamma],\n",
       "[               0,                 0],\n",
       "[               0,                 0],\n",
       "[alpha*delta/beta, -beta*gamma/delta]])"
      ]
     },
     "execution_count": 6,
     "metadata": {},
     "output_type": "execute_result"
    }
   ],
   "source": [
    "jacobians_at_fixed_points = [J.subs({x: fp[0], y: fp[1]}) for fp in fixed_points]\n",
    "sp.Matrix(jacobians_at_fixed_points)"
   ]
  },
  {
   "cell_type": "code",
   "execution_count": 7,
   "metadata": {},
   "outputs": [
    {
     "name": "stdout",
     "output_type": "stream",
     "text": [
      "⎡              ⎧      -β⋅γ    ⎫⎤\n",
      "⎢{0: 1, α: 1}, ⎨0: 1, ─────: 1⎬⎥\n",
      "⎣              ⎩        δ     ⎭⎦\n"
     ]
    }
   ],
   "source": [
    "eigenvalues = [jacobian.eigenvals() for jacobian in jacobians_at_fixed_points]\n",
    "sp.pretty_print(eigenvalues)"
   ]
  },
  {
   "cell_type": "code",
   "execution_count": 11,
   "metadata": {},
   "outputs": [
    {
     "name": "stdout",
     "output_type": "stream",
     "text": [
      "<bound method MatrixBase.eigenvals of Matrix([\n",
      "[2, 1],\n",
      "[1, 2]])>\n"
     ]
    }
   ],
   "source": [
    "from sympy import Matrix\n",
    "\n",
    "A = Matrix([[2, 1], [1, 2]])\n",
    "\n",
    "# Accessing the method without invoking it\n",
    "print(A.eigenvals)  \n"
   ]
  },
  {
   "cell_type": "code",
   "execution_count": 10,
   "metadata": {},
   "outputs": [
    {
     "name": "stdout",
     "output_type": "stream",
     "text": [
      "{3: 1, 1: 1}\n"
     ]
    }
   ],
   "source": [
    "\n",
    "# Invoking the method to compute eigenvalues\n",
    "print(A.eigenvals())  \n"
   ]
  }
 ],
 "metadata": {
  "kernelspec": {
   "display_name": "simulations_env",
   "language": "python",
   "name": "python3"
  },
  "language_info": {
   "codemirror_mode": {
    "name": "ipython",
    "version": 3
   },
   "file_extension": ".py",
   "mimetype": "text/x-python",
   "name": "python",
   "nbconvert_exporter": "python",
   "pygments_lexer": "ipython3",
   "version": "3.12.2"
  }
 },
 "nbformat": 4,
 "nbformat_minor": 2
}
