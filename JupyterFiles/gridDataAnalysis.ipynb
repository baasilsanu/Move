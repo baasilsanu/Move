{
 "cells": [
  {
   "cell_type": "code",
   "execution_count": 1,
   "metadata": {},
   "outputs": [],
   "source": [
    "import pandas as pd\n",
    "import h5py\n",
    "import numpy as np\n",
    "import itertools\n",
    "import matplotlib.pyplot as plt"
   ]
  },
  {
   "cell_type": "code",
   "execution_count": 2,
   "metadata": {},
   "outputs": [],
   "source": [
    "def create_dataframes_for_combinations(param_combinations, num_simulations):\n",
    "    dataframes = {}\n",
    "\n",
    "    for epsilon, N_0_squared in param_combinations:\n",
    "        file_path = f\"../PythonFiles/H5Data/runfile_eps_{epsilon:.2f}_n0_{N_0_squared:.2f}.h5\"\n",
    "        with h5py.File(file_path, 'r') as hf:\n",
    "            runs_data = []\n",
    "\n",
    "            for run_id in range(num_simulations):\n",
    "                run_group = hf[f\"run_{run_id}\"]\n",
    "\n",
    "                run_data = {\n",
    "                    \"run_id\": run_id,\n",
    "                    \"epsilon\": epsilon,\n",
    "                    \"N_0_squared\": N_0_squared,\n",
    "                    \"phi_e_history\": run_group[\"phi_e_history\"][:],\n",
    "                    \"phi_plus_history\": run_group[\"phi_plus_history\"][:],\n",
    "                    \"U_history\": run_group[\"U_history\"][:],\n",
    "                    \"R_vals\": run_group[\"R_vals\"][:],\n",
    "                    \"k_e_psi_e_vals\": run_group[\"k_e_psi_e_vals\"][:],\n",
    "                    \"k_e_b_e_vals\": run_group[\"k_e_b_e_vals\"][:],\n",
    "                    \"k_e_psi_plus_vals\": run_group[\"k_e_psi_plus_vals\"][:],\n",
    "                    \"k_e_b_plus_vals\": run_group[\"k_e_b_plus_vals\"][:],\n",
    "                    \"heat_flux_psi_e_b_e_vals\": run_group[\"heat_flux_psi_e_b_e_vals\"][:],\n",
    "                    \"heat_flux_psi_e_b_plus_vals\": run_group[\"heat_flux_psi_e_b_plus_vals\"][:],\n",
    "                    \"b_e_psi_plus_vals\": run_group[\"b_e_psi_plus_vals\"][:],\n",
    "                    \"b_e_b_plus_vals\": run_group[\"b_e_b_plus_vals\"][:],\n",
    "                    \"psi_plus_b_plus_vals\": run_group[\"psi_plus_b_plus_vals\"][:],\n",
    "                    \"eta_batch\": run_group[\"eta_batch\"][:],\n",
    "                    \"reversals\": run_group[\"reversals\"][:],\n",
    "                    \"durations\": run_group[\"durations\"][:]\n",
    "                }\n",
    "\n",
    "                runs_data.append(run_data)\n",
    "\n",
    "            df_name = f\"df_eps_{epsilon:.2f}_n0_{N_0_squared:.2f}\"\n",
    "            dataframes[df_name] = pd.DataFrame(runs_data)\n",
    "\n",
    "    return dataframes\n"
   ]
  },
  {
   "cell_type": "code",
   "execution_count": 3,
   "metadata": {},
   "outputs": [],
   "source": [
    "param_combinations = [(eps, n0) for eps in np.linspace(0.06, 0.24, 10) for n0 in np.linspace(150, 640, 10)]\n",
    "param_combinations = [(.06, 150)] #TAKEOUT \n",
    "num_simulations = 1"
   ]
  },
  {
   "cell_type": "code",
   "execution_count": 73,
   "metadata": {},
   "outputs": [],
   "source": [
    "#The following code definitely needs editing. it cannot handle 2000 run times. "
   ]
  },
  {
   "cell_type": "code",
   "execution_count": 74,
   "metadata": {},
   "outputs": [],
   "source": [
    "dataframes = create_dataframes_for_combinations([(0.06, 204.44444444444446)], num_simulations)"
   ]
  },
  {
   "cell_type": "code",
   "execution_count": 75,
   "metadata": {},
   "outputs": [],
   "source": [
    "epsilon_values = np.linspace(0.06, 0.24, 10)\n",
    "N_0_squared_values = np.linspace(150, 640, 10)\n",
    "combo_list = list(itertools.product(epsilon_values, N_0_squared_values))"
   ]
  },
  {
   "cell_type": "code",
   "execution_count": 9,
   "metadata": {},
   "outputs": [
    {
     "data": {
      "text/plain": [
       "27"
      ]
     },
     "execution_count": 9,
     "metadata": {},
     "output_type": "execute_result"
    }
   ],
   "source": [
    "dataframes = create_dataframes_for_combinations([(0.06, 150.0)], num_simulations)\n",
    "df0 = dataframes[\"df_eps_0.06_n0_150.00\"]\n",
    "len(df0['durations'][0]) #TAKEOUT"
   ]
  },
  {
   "cell_type": "code",
   "execution_count": 77,
   "metadata": {},
   "outputs": [],
   "source": [
    "dataframes = create_dataframes_for_combinations([(0.06, 204.44444444444446)], num_simulations)\n",
    "df1 = dataframes[\"df_eps_0.06_n0_204.44\"]"
   ]
  },
  {
   "cell_type": "code",
   "execution_count": 78,
   "metadata": {},
   "outputs": [],
   "source": [
    "dataframes = create_dataframes_for_combinations([(0.06, 258.8888888888889)], num_simulations)\n",
    "df2 = dataframes[\"df_eps_0.06_n0_258.89\"]"
   ]
  },
  {
   "cell_type": "code",
   "execution_count": 79,
   "metadata": {},
   "outputs": [],
   "source": [
    "dataframes = create_dataframes_for_combinations([(0.06, 313.3333333333333)], num_simulations)\n",
    "df3 = dataframes[\"df_eps_0.06_n0_313.33\"]"
   ]
  },
  {
   "cell_type": "code",
   "execution_count": 80,
   "metadata": {},
   "outputs": [],
   "source": [
    "dataframes = create_dataframes_for_combinations([(0.06, 367.77777777777777)], num_simulations)\n",
    "df4 = dataframes[\"df_eps_0.06_n0_367.78\"]"
   ]
  },
  {
   "cell_type": "code",
   "execution_count": 81,
   "metadata": {},
   "outputs": [],
   "source": [
    "dataframes = create_dataframes_for_combinations([(0.06, 422.22222222222223)], num_simulations)\n",
    "df5 = dataframes[\"df_eps_0.06_n0_422.22\"]"
   ]
  },
  {
   "cell_type": "code",
   "execution_count": 82,
   "metadata": {},
   "outputs": [],
   "source": [
    "dataframes = create_dataframes_for_combinations([(0.06, 476.66666666666663)], num_simulations)\n",
    "df6 = dataframes[\"df_eps_0.06_n0_476.67\"]"
   ]
  },
  {
   "cell_type": "code",
   "execution_count": 83,
   "metadata": {},
   "outputs": [],
   "source": [
    "dataframes = create_dataframes_for_combinations([(0.06, 531.1111111111111)], num_simulations)\n",
    "df7 = dataframes[\"df_eps_0.06_n0_531.11\"]"
   ]
  },
  {
   "cell_type": "code",
   "execution_count": 84,
   "metadata": {},
   "outputs": [],
   "source": [
    "dataframes = create_dataframes_for_combinations([(0.06, 585.5555555555555)], num_simulations)\n",
    "df8 = dataframes[\"df_eps_0.06_n0_585.56\"]"
   ]
  },
  {
   "cell_type": "code",
   "execution_count": 85,
   "metadata": {},
   "outputs": [],
   "source": [
    "dataframes = create_dataframes_for_combinations([(0.06, 640.0)], num_simulations)\n",
    "df9 = dataframes[\"df_eps_0.06_n0_640.00\"]"
   ]
  },
  {
   "cell_type": "code",
   "execution_count": 86,
   "metadata": {},
   "outputs": [],
   "source": [
    "dataframes = create_dataframes_for_combinations([(0.08, 150.0)], num_simulations)\n",
    "df10 = dataframes[\"df_eps_0.08_n0_150.00\"]"
   ]
  },
  {
   "cell_type": "code",
   "execution_count": 87,
   "metadata": {},
   "outputs": [],
   "source": [
    "dataframes = create_dataframes_for_combinations([(0.08, 204.44444444444446)], num_simulations)\n",
    "df11 = dataframes[\"df_eps_0.08_n0_204.44\"]"
   ]
  },
  {
   "cell_type": "code",
   "execution_count": 88,
   "metadata": {},
   "outputs": [],
   "source": [
    "dataframes = create_dataframes_for_combinations([(0.08, 258.8888888888889)], num_simulations)\n",
    "df12 = dataframes[\"df_eps_0.08_n0_258.89\"]"
   ]
  },
  {
   "cell_type": "code",
   "execution_count": 89,
   "metadata": {},
   "outputs": [],
   "source": [
    "dataframes = create_dataframes_for_combinations([(0.08, 313.3333333333333)], num_simulations)\n",
    "df13 = dataframes[\"df_eps_0.08_n0_313.33\"]"
   ]
  },
  {
   "cell_type": "code",
   "execution_count": 90,
   "metadata": {},
   "outputs": [],
   "source": [
    "dataframes = create_dataframes_for_combinations([(0.08, 367.77777777777777)], num_simulations)\n",
    "df14 = dataframes[\"df_eps_0.08_n0_367.78\"]"
   ]
  },
  {
   "cell_type": "code",
   "execution_count": 91,
   "metadata": {},
   "outputs": [],
   "source": [
    "dataframes = create_dataframes_for_combinations([(0.08, 422.22222222222223)], num_simulations)\n",
    "df15 = dataframes[\"df_eps_0.08_n0_422.22\"]"
   ]
  },
  {
   "cell_type": "code",
   "execution_count": 92,
   "metadata": {},
   "outputs": [],
   "source": [
    "dataframes = create_dataframes_for_combinations([(0.08, 476.66666666666663)], num_simulations)\n",
    "df16 = dataframes[\"df_eps_0.08_n0_476.67\"]"
   ]
  },
  {
   "cell_type": "code",
   "execution_count": 93,
   "metadata": {},
   "outputs": [],
   "source": [
    "dataframes = create_dataframes_for_combinations([(0.08, 531.1111111111111)], num_simulations)\n",
    "df17 = dataframes[\"df_eps_0.08_n0_531.11\"]"
   ]
  },
  {
   "cell_type": "code",
   "execution_count": 94,
   "metadata": {},
   "outputs": [],
   "source": [
    "dataframes = create_dataframes_for_combinations([(0.08, 585.5555555555555)], num_simulations)\n",
    "df18 = dataframes[\"df_eps_0.08_n0_585.56\"]"
   ]
  },
  {
   "cell_type": "code",
   "execution_count": 95,
   "metadata": {},
   "outputs": [],
   "source": [
    "dataframes = create_dataframes_for_combinations([(0.08, 640.0)], num_simulations)\n",
    "df19 = dataframes[\"df_eps_0.08_n0_640.00\"]"
   ]
  },
  {
   "cell_type": "code",
   "execution_count": 96,
   "metadata": {},
   "outputs": [],
   "source": [
    "dataframes = create_dataframes_for_combinations([(0.1, 150.0)], num_simulations)\n",
    "df20 = dataframes[\"df_eps_0.10_n0_150.00\"]"
   ]
  },
  {
   "cell_type": "code",
   "execution_count": 97,
   "metadata": {},
   "outputs": [],
   "source": [
    "dataframes = create_dataframes_for_combinations([(0.1, 204.44444444444446)], num_simulations)\n",
    "df21 = dataframes[\"df_eps_0.10_n0_204.44\"]"
   ]
  },
  {
   "cell_type": "code",
   "execution_count": 98,
   "metadata": {},
   "outputs": [],
   "source": [
    "dataframes = create_dataframes_for_combinations([(0.1, 258.8888888888889)], num_simulations)\n",
    "df22 = dataframes[\"df_eps_0.10_n0_258.89\"]"
   ]
  },
  {
   "cell_type": "code",
   "execution_count": 99,
   "metadata": {},
   "outputs": [],
   "source": [
    "dataframes = create_dataframes_for_combinations([(0.1, 313.3333333333333)], num_simulations)\n",
    "df23 = dataframes[\"df_eps_0.10_n0_313.33\"]"
   ]
  },
  {
   "cell_type": "code",
   "execution_count": 100,
   "metadata": {},
   "outputs": [],
   "source": [
    "dataframes = create_dataframes_for_combinations([(0.1, 367.77777777777777)], num_simulations)\n",
    "df24 = dataframes[\"df_eps_0.10_n0_367.78\"]"
   ]
  },
  {
   "cell_type": "code",
   "execution_count": 101,
   "metadata": {},
   "outputs": [],
   "source": [
    "dataframes = create_dataframes_for_combinations([(0.1, 422.22222222222223)], num_simulations)\n",
    "df25 = dataframes[\"df_eps_0.10_n0_422.22\"]"
   ]
  },
  {
   "cell_type": "code",
   "execution_count": 102,
   "metadata": {},
   "outputs": [],
   "source": [
    "dataframes = create_dataframes_for_combinations([(0.1, 476.66666666666663)], num_simulations)\n",
    "df26 = dataframes[\"df_eps_0.10_n0_476.67\"]"
   ]
  },
  {
   "cell_type": "code",
   "execution_count": 103,
   "metadata": {},
   "outputs": [],
   "source": [
    "dataframes = create_dataframes_for_combinations([(0.1, 531.1111111111111)], num_simulations)\n",
    "df27 = dataframes[\"df_eps_0.10_n0_531.11\"]"
   ]
  },
  {
   "cell_type": "code",
   "execution_count": 104,
   "metadata": {},
   "outputs": [],
   "source": [
    "dataframes = create_dataframes_for_combinations([(0.1, 585.5555555555555)], num_simulations)\n",
    "df28 = dataframes[\"df_eps_0.10_n0_585.56\"]"
   ]
  },
  {
   "cell_type": "code",
   "execution_count": 105,
   "metadata": {},
   "outputs": [],
   "source": [
    "dataframes = create_dataframes_for_combinations([(0.1, 640.0)], num_simulations)\n",
    "df29 = dataframes[\"df_eps_0.10_n0_640.00\"]"
   ]
  },
  {
   "cell_type": "code",
   "execution_count": 106,
   "metadata": {},
   "outputs": [],
   "source": [
    "dataframes = create_dataframes_for_combinations([(0.12, 150.0)], num_simulations)\n",
    "df30 = dataframes[\"df_eps_0.12_n0_150.00\"]"
   ]
  },
  {
   "cell_type": "code",
   "execution_count": 107,
   "metadata": {},
   "outputs": [],
   "source": [
    "dataframes = create_dataframes_for_combinations([(0.12, 204.44444444444446)], num_simulations)\n",
    "df31 = dataframes[\"df_eps_0.12_n0_204.44\"]"
   ]
  },
  {
   "cell_type": "code",
   "execution_count": 108,
   "metadata": {},
   "outputs": [],
   "source": [
    "dataframes = create_dataframes_for_combinations([(0.12, 258.8888888888889)], num_simulations)\n",
    "df32 = dataframes[\"df_eps_0.12_n0_258.89\"]"
   ]
  },
  {
   "cell_type": "code",
   "execution_count": 109,
   "metadata": {},
   "outputs": [],
   "source": [
    "dataframes = create_dataframes_for_combinations([(0.12, 313.3333333333333)], num_simulations)\n",
    "df33 = dataframes[\"df_eps_0.12_n0_313.33\"]"
   ]
  },
  {
   "cell_type": "code",
   "execution_count": 110,
   "metadata": {},
   "outputs": [],
   "source": [
    "dataframes = create_dataframes_for_combinations([(0.12, 367.77777777777777)], num_simulations)\n",
    "df34 = dataframes[\"df_eps_0.12_n0_367.78\"]"
   ]
  },
  {
   "cell_type": "code",
   "execution_count": 111,
   "metadata": {},
   "outputs": [],
   "source": [
    "dataframes = create_dataframes_for_combinations([(0.12, 422.22222222222223)], num_simulations)\n",
    "df35 = dataframes[\"df_eps_0.12_n0_422.22\"]"
   ]
  },
  {
   "cell_type": "code",
   "execution_count": 112,
   "metadata": {},
   "outputs": [],
   "source": [
    "dataframes = create_dataframes_for_combinations([(0.12, 476.66666666666663)], num_simulations)\n",
    "df36 = dataframes[\"df_eps_0.12_n0_476.67\"]"
   ]
  },
  {
   "cell_type": "code",
   "execution_count": 113,
   "metadata": {},
   "outputs": [],
   "source": [
    "dataframes = create_dataframes_for_combinations([(0.12, 531.1111111111111)], num_simulations)\n",
    "df37 = dataframes[\"df_eps_0.12_n0_531.11\"]"
   ]
  },
  {
   "cell_type": "code",
   "execution_count": 114,
   "metadata": {},
   "outputs": [],
   "source": [
    "dataframes = create_dataframes_for_combinations([(0.12, 585.5555555555555)], num_simulations)\n",
    "df38 = dataframes[\"df_eps_0.12_n0_585.56\"]"
   ]
  },
  {
   "cell_type": "code",
   "execution_count": 115,
   "metadata": {},
   "outputs": [],
   "source": [
    "dataframes = create_dataframes_for_combinations([(0.12, 640.0)], num_simulations)\n",
    "df39 = dataframes[\"df_eps_0.12_n0_640.00\"]"
   ]
  },
  {
   "cell_type": "code",
   "execution_count": 116,
   "metadata": {},
   "outputs": [],
   "source": [
    "dataframes = create_dataframes_for_combinations([(0.14, 150.0)], num_simulations)\n",
    "df40 = dataframes[\"df_eps_0.14_n0_150.00\"]"
   ]
  },
  {
   "cell_type": "code",
   "execution_count": 117,
   "metadata": {},
   "outputs": [],
   "source": [
    "dataframes = create_dataframes_for_combinations([(0.14, 204.44444444444446)], num_simulations)\n",
    "df41 = dataframes[\"df_eps_0.14_n0_204.44\"]"
   ]
  },
  {
   "cell_type": "code",
   "execution_count": null,
   "metadata": {},
   "outputs": [],
   "source": [
    "dataframes = create_dataframes_for_combinations([(0.14, 258.8888888888889)], num_simulations)\n",
    "df42 = dataframes[\"df_eps_0.14_n0_258.89\"]"
   ]
  },
  {
   "cell_type": "code",
   "execution_count": null,
   "metadata": {},
   "outputs": [],
   "source": [
    "dataframes = create_dataframes_for_combinations([(0.14, 313.3333333333333)], num_simulations)\n",
    "df43 = dataframes[\"df_eps_0.14_n0_313.33\"]"
   ]
  },
  {
   "cell_type": "code",
   "execution_count": null,
   "metadata": {},
   "outputs": [],
   "source": [
    "dataframes = create_dataframes_for_combinations([(0.14, 367.77777777777777)], num_simulations)\n",
    "df44 = dataframes[\"df_eps_0.14_n0_367.78\"]"
   ]
  },
  {
   "cell_type": "code",
   "execution_count": null,
   "metadata": {},
   "outputs": [],
   "source": [
    "dataframes = create_dataframes_for_combinations([(0.14, 422.22222222222223)], num_simulations)\n",
    "df45 = dataframes[\"df_eps_0.14_n0_422.22\"]"
   ]
  },
  {
   "cell_type": "code",
   "execution_count": null,
   "metadata": {},
   "outputs": [],
   "source": [
    "dataframes = create_dataframes_for_combinations([(0.14, 476.66666666666663)], num_simulations)\n",
    "df46 = dataframes[\"df_eps_0.14_n0_476.67\"]"
   ]
  },
  {
   "cell_type": "code",
   "execution_count": null,
   "metadata": {},
   "outputs": [],
   "source": [
    "dataframes = create_dataframes_for_combinations([(0.14, 531.1111111111111)], num_simulations)\n",
    "df47 = dataframes[\"df_eps_0.14_n0_531.11\"]"
   ]
  },
  {
   "cell_type": "code",
   "execution_count": null,
   "metadata": {},
   "outputs": [],
   "source": [
    "dataframes = create_dataframes_for_combinations([(0.14, 585.5555555555555)], num_simulations)\n",
    "df48 = dataframes[\"df_eps_0.14_n0_585.56\"]"
   ]
  },
  {
   "cell_type": "code",
   "execution_count": null,
   "metadata": {},
   "outputs": [],
   "source": [
    "dataframes = create_dataframes_for_combinations([(0.14, 640.0)], num_simulations)\n",
    "df49 = dataframes[\"df_eps_0.14_n0_640.00\"]"
   ]
  },
  {
   "cell_type": "code",
   "execution_count": null,
   "metadata": {},
   "outputs": [],
   "source": [
    "dataframes = create_dataframes_for_combinations([(0.16, 150.0)], num_simulations)\n",
    "df50 = dataframes[\"df_eps_0.16_n0_150.00\"]"
   ]
  },
  {
   "cell_type": "code",
   "execution_count": null,
   "metadata": {},
   "outputs": [],
   "source": [
    "dataframes = create_dataframes_for_combinations([(0.16, 204.44444444444446)], num_simulations)\n",
    "df51 = dataframes[\"df_eps_0.16_n0_204.44\"]"
   ]
  },
  {
   "cell_type": "code",
   "execution_count": null,
   "metadata": {},
   "outputs": [],
   "source": [
    "dataframes = create_dataframes_for_combinations([(0.16, 258.8888888888889)], num_simulations)\n",
    "df52 = dataframes[\"df_eps_0.16_n0_258.89\"]"
   ]
  },
  {
   "cell_type": "code",
   "execution_count": null,
   "metadata": {},
   "outputs": [],
   "source": [
    "dataframes = create_dataframes_for_combinations([(0.16, 313.3333333333333)], num_simulations)\n",
    "df53 = dataframes[\"df_eps_0.16_n0_313.33\"]"
   ]
  },
  {
   "cell_type": "code",
   "execution_count": null,
   "metadata": {},
   "outputs": [],
   "source": [
    "dataframes = create_dataframes_for_combinations([(0.16, 367.77777777777777)], num_simulations)\n",
    "df54 = dataframes[\"df_eps_0.16_n0_367.78\"]"
   ]
  },
  {
   "cell_type": "code",
   "execution_count": null,
   "metadata": {},
   "outputs": [],
   "source": [
    "dataframes = create_dataframes_for_combinations([(0.16, 422.22222222222223)], num_simulations)\n",
    "df55 = dataframes[\"df_eps_0.16_n0_422.22\"]"
   ]
  },
  {
   "cell_type": "code",
   "execution_count": null,
   "metadata": {},
   "outputs": [],
   "source": [
    "dataframes = create_dataframes_for_combinations([(0.16, 476.66666666666663)], num_simulations)\n",
    "df56 = dataframes[\"df_eps_0.16_n0_476.67\"]"
   ]
  },
  {
   "cell_type": "code",
   "execution_count": null,
   "metadata": {},
   "outputs": [],
   "source": [
    "dataframes = create_dataframes_for_combinations([(0.16, 531.1111111111111)], num_simulations)\n",
    "df57 = dataframes[\"df_eps_0.16_n0_531.11\"]"
   ]
  },
  {
   "cell_type": "code",
   "execution_count": null,
   "metadata": {},
   "outputs": [],
   "source": [
    "dataframes = create_dataframes_for_combinations([(0.16, 585.5555555555555)], num_simulations)\n",
    "df58 = dataframes[\"df_eps_0.16_n0_585.56\"]"
   ]
  },
  {
   "cell_type": "code",
   "execution_count": null,
   "metadata": {},
   "outputs": [],
   "source": [
    "dataframes = create_dataframes_for_combinations([(0.16, 640.0)], num_simulations)\n",
    "df59 = dataframes[\"df_eps_0.16_n0_640.00\"]"
   ]
  },
  {
   "cell_type": "code",
   "execution_count": null,
   "metadata": {},
   "outputs": [],
   "source": [
    "dataframes = create_dataframes_for_combinations([(0.18, 150.0)], num_simulations)\n",
    "df60 = dataframes[\"df_eps_0.18_n0_150.00\"]"
   ]
  },
  {
   "cell_type": "code",
   "execution_count": null,
   "metadata": {},
   "outputs": [],
   "source": [
    "dataframes = create_dataframes_for_combinations([(0.18, 204.44444444444446)], num_simulations)\n",
    "df61 = dataframes[\"df_eps_0.18_n0_204.44\"]"
   ]
  },
  {
   "cell_type": "code",
   "execution_count": null,
   "metadata": {},
   "outputs": [],
   "source": [
    "dataframes = create_dataframes_for_combinations([(0.18, 258.8888888888889)], num_simulations)\n",
    "df62 = dataframes[\"df_eps_0.18_n0_258.89\"]"
   ]
  },
  {
   "cell_type": "code",
   "execution_count": null,
   "metadata": {},
   "outputs": [],
   "source": [
    "dataframes = create_dataframes_for_combinations([(0.18, 313.3333333333333)], num_simulations)\n",
    "df63 = dataframes[\"df_eps_0.18_n0_313.33\"]"
   ]
  },
  {
   "cell_type": "code",
   "execution_count": null,
   "metadata": {},
   "outputs": [],
   "source": [
    "dataframes = create_dataframes_for_combinations([(0.18, 367.77777777777777)], num_simulations)\n",
    "df64 = dataframes[\"df_eps_0.18_n0_367.78\"]"
   ]
  },
  {
   "cell_type": "code",
   "execution_count": null,
   "metadata": {},
   "outputs": [],
   "source": [
    "dataframes = create_dataframes_for_combinations([(0.18, 422.22222222222223)], num_simulations)\n",
    "df65 = dataframes[\"df_eps_0.18_n0_422.22\"]"
   ]
  },
  {
   "cell_type": "code",
   "execution_count": null,
   "metadata": {},
   "outputs": [],
   "source": [
    "dataframes = create_dataframes_for_combinations([(0.18, 476.66666666666663)], num_simulations)\n",
    "df66 = dataframes[\"df_eps_0.18_n0_476.67\"]"
   ]
  },
  {
   "cell_type": "code",
   "execution_count": null,
   "metadata": {},
   "outputs": [],
   "source": [
    "dataframes = create_dataframes_for_combinations([(0.18, 531.1111111111111)], num_simulations)\n",
    "df67 = dataframes[\"df_eps_0.18_n0_531.11\"]"
   ]
  },
  {
   "cell_type": "code",
   "execution_count": null,
   "metadata": {},
   "outputs": [],
   "source": [
    "dataframes = create_dataframes_for_combinations([(0.18, 585.5555555555555)], num_simulations)\n",
    "df68 = dataframes[\"df_eps_0.18_n0_585.56\"]"
   ]
  },
  {
   "cell_type": "code",
   "execution_count": null,
   "metadata": {},
   "outputs": [],
   "source": [
    "dataframes = create_dataframes_for_combinations([(0.18, 640.0)], num_simulations)\n",
    "df69 = dataframes[\"df_eps_0.18_n0_640.00\"]"
   ]
  },
  {
   "cell_type": "code",
   "execution_count": null,
   "metadata": {},
   "outputs": [],
   "source": [
    "dataframes = create_dataframes_for_combinations([(0.2, 150.0)], num_simulations)\n",
    "df70 = dataframes[\"df_eps_0.20_n0_150.00\"]"
   ]
  },
  {
   "cell_type": "code",
   "execution_count": null,
   "metadata": {},
   "outputs": [],
   "source": [
    "dataframes = create_dataframes_for_combinations([(0.2, 204.44444444444446)], num_simulations)\n",
    "df71 = dataframes[\"df_eps_0.20_n0_204.44\"]"
   ]
  },
  {
   "cell_type": "code",
   "execution_count": null,
   "metadata": {},
   "outputs": [],
   "source": [
    "dataframes = create_dataframes_for_combinations([(0.2, 258.8888888888889)], num_simulations)\n",
    "df72 = dataframes[\"df_eps_0.20_n0_258.89\"]"
   ]
  },
  {
   "cell_type": "code",
   "execution_count": null,
   "metadata": {},
   "outputs": [],
   "source": [
    "dataframes = create_dataframes_for_combinations([(0.2, 313.3333333333333)], num_simulations)\n",
    "df73 = dataframes[\"df_eps_0.20_n0_313.33\"]"
   ]
  },
  {
   "cell_type": "code",
   "execution_count": null,
   "metadata": {},
   "outputs": [],
   "source": [
    "dataframes = create_dataframes_for_combinations([(0.2, 367.77777777777777)], num_simulations)\n",
    "df74 = dataframes[\"df_eps_0.20_n0_367.78\"]"
   ]
  },
  {
   "cell_type": "code",
   "execution_count": null,
   "metadata": {},
   "outputs": [],
   "source": [
    "dataframes = create_dataframes_for_combinations([(0.2, 422.22222222222223)], num_simulations)\n",
    "df75 = dataframes[\"df_eps_0.20_n0_422.22\"]"
   ]
  },
  {
   "cell_type": "code",
   "execution_count": null,
   "metadata": {},
   "outputs": [],
   "source": [
    "dataframes = create_dataframes_for_combinations([(0.2, 476.66666666666663)], num_simulations)\n",
    "df76 = dataframes[\"df_eps_0.20_n0_476.67\"]"
   ]
  },
  {
   "cell_type": "code",
   "execution_count": null,
   "metadata": {},
   "outputs": [],
   "source": [
    "dataframes = create_dataframes_for_combinations([(0.2, 531.1111111111111)], num_simulations)\n",
    "df77 = dataframes[\"df_eps_0.20_n0_531.11\"]"
   ]
  },
  {
   "cell_type": "code",
   "execution_count": null,
   "metadata": {},
   "outputs": [],
   "source": [
    "dataframes = create_dataframes_for_combinations([(0.2, 585.5555555555555)], num_simulations)\n",
    "df78 = dataframes[\"df_eps_0.20_n0_585.56\"]"
   ]
  },
  {
   "cell_type": "code",
   "execution_count": null,
   "metadata": {},
   "outputs": [],
   "source": [
    "dataframes = create_dataframes_for_combinations([(0.2, 640.0)], num_simulations)\n",
    "df79 = dataframes[\"df_eps_0.20_n0_640.00\"]"
   ]
  },
  {
   "cell_type": "code",
   "execution_count": null,
   "metadata": {},
   "outputs": [],
   "source": [
    "dataframes = create_dataframes_for_combinations([(0.22, 150.0)], num_simulations)\n",
    "df80 = dataframes[\"df_eps_0.22_n0_150.00\"]"
   ]
  },
  {
   "cell_type": "code",
   "execution_count": null,
   "metadata": {},
   "outputs": [],
   "source": [
    "dataframes = create_dataframes_for_combinations([(0.22, 204.44444444444446)], num_simulations)\n",
    "df81 = dataframes[\"df_eps_0.22_n0_204.44\"]"
   ]
  },
  {
   "cell_type": "code",
   "execution_count": null,
   "metadata": {},
   "outputs": [],
   "source": [
    "dataframes = create_dataframes_for_combinations([(0.22, 258.8888888888889)], num_simulations)\n",
    "df82 = dataframes[\"df_eps_0.22_n0_258.89\"]"
   ]
  },
  {
   "cell_type": "code",
   "execution_count": null,
   "metadata": {},
   "outputs": [],
   "source": [
    "dataframes = create_dataframes_for_combinations([(0.22, 313.3333333333333)], num_simulations)\n",
    "df83 = dataframes[\"df_eps_0.22_n0_313.33\"]"
   ]
  },
  {
   "cell_type": "code",
   "execution_count": null,
   "metadata": {},
   "outputs": [],
   "source": [
    "dataframes = create_dataframes_for_combinations([(0.22, 367.77777777777777)], num_simulations)\n",
    "df84 = dataframes[\"df_eps_0.22_n0_367.78\"]"
   ]
  },
  {
   "cell_type": "code",
   "execution_count": null,
   "metadata": {},
   "outputs": [],
   "source": [
    "dataframes = create_dataframes_for_combinations([(0.22, 422.22222222222223)], num_simulations)\n",
    "df85 = dataframes[\"df_eps_0.22_n0_422.22\"]"
   ]
  },
  {
   "cell_type": "code",
   "execution_count": null,
   "metadata": {},
   "outputs": [],
   "source": [
    "dataframes = create_dataframes_for_combinations([(0.22, 476.66666666666663)], num_simulations)\n",
    "df86 = dataframes[\"df_eps_0.22_n0_476.67\"]"
   ]
  },
  {
   "cell_type": "code",
   "execution_count": null,
   "metadata": {},
   "outputs": [],
   "source": [
    "dataframes = create_dataframes_for_combinations([(0.22, 531.1111111111111)], num_simulations)\n",
    "df87 = dataframes[\"df_eps_0.22_n0_531.11\"]"
   ]
  },
  {
   "cell_type": "code",
   "execution_count": null,
   "metadata": {},
   "outputs": [],
   "source": [
    "dataframes = create_dataframes_for_combinations([(0.22, 585.5555555555555)], num_simulations)\n",
    "df88 = dataframes[\"df_eps_0.22_n0_585.56\"]"
   ]
  },
  {
   "cell_type": "code",
   "execution_count": null,
   "metadata": {},
   "outputs": [],
   "source": [
    "dataframes = create_dataframes_for_combinations([(0.22, 640.0)], num_simulations)\n",
    "df89 = dataframes[\"df_eps_0.22_n0_640.00\"]"
   ]
  },
  {
   "cell_type": "code",
   "execution_count": null,
   "metadata": {},
   "outputs": [],
   "source": [
    "dataframes = create_dataframes_for_combinations([(0.24, 150.0)], num_simulations)\n",
    "df90 = dataframes[\"df_eps_0.24_n0_150.00\"]"
   ]
  },
  {
   "cell_type": "code",
   "execution_count": null,
   "metadata": {},
   "outputs": [],
   "source": [
    "dataframes = create_dataframes_for_combinations([(0.24, 204.44444444444446)], num_simulations)\n",
    "df91 = dataframes[\"df_eps_0.24_n0_204.44\"]"
   ]
  },
  {
   "cell_type": "code",
   "execution_count": null,
   "metadata": {},
   "outputs": [],
   "source": [
    "dataframes = create_dataframes_for_combinations([(0.24, 258.8888888888889)], num_simulations)\n",
    "df92 = dataframes[\"df_eps_0.24_n0_258.89\"]"
   ]
  },
  {
   "cell_type": "code",
   "execution_count": null,
   "metadata": {},
   "outputs": [],
   "source": [
    "dataframes = create_dataframes_for_combinations([(0.24, 313.3333333333333)], num_simulations)\n",
    "df93 = dataframes[\"df_eps_0.24_n0_313.33\"]"
   ]
  },
  {
   "cell_type": "code",
   "execution_count": null,
   "metadata": {},
   "outputs": [],
   "source": [
    "dataframes = create_dataframes_for_combinations([(0.24, 367.77777777777777)], num_simulations)\n",
    "df94 = dataframes[\"df_eps_0.24_n0_367.78\"]"
   ]
  },
  {
   "cell_type": "code",
   "execution_count": null,
   "metadata": {},
   "outputs": [],
   "source": [
    "dataframes = create_dataframes_for_combinations([(0.24, 422.22222222222223)], num_simulations)\n",
    "df95 = dataframes[\"df_eps_0.24_n0_422.22\"]"
   ]
  },
  {
   "cell_type": "code",
   "execution_count": null,
   "metadata": {},
   "outputs": [],
   "source": [
    "dataframes = create_dataframes_for_combinations([(0.24, 476.66666666666663)], num_simulations)\n",
    "df96 = dataframes[\"df_eps_0.24_n0_476.67\"]"
   ]
  },
  {
   "cell_type": "code",
   "execution_count": null,
   "metadata": {},
   "outputs": [],
   "source": [
    "dataframes = create_dataframes_for_combinations([(0.24, 531.1111111111111)], num_simulations)\n",
    "df97 = dataframes[\"df_eps_0.24_n0_531.11\"]"
   ]
  },
  {
   "cell_type": "code",
   "execution_count": null,
   "metadata": {},
   "outputs": [],
   "source": [
    "dataframes = create_dataframes_for_combinations([(0.24, 585.5555555555555)], num_simulations)\n",
    "df98 = dataframes[\"df_eps_0.24_n0_585.56\"]"
   ]
  },
  {
   "cell_type": "code",
   "execution_count": 7,
   "metadata": {},
   "outputs": [],
   "source": [
    "dataframes = create_dataframes_for_combinations([(0.24, 640.0)], num_simulations)\n",
    "df99 = dataframes[\"df_eps_0.24_n0_640.00\"]"
   ]
  },
  {
   "cell_type": "code",
   "execution_count": 8,
   "metadata": {},
   "outputs": [
    {
     "data": {
      "text/html": [
       "<div>\n",
       "<style scoped>\n",
       "    .dataframe tbody tr th:only-of-type {\n",
       "        vertical-align: middle;\n",
       "    }\n",
       "\n",
       "    .dataframe tbody tr th {\n",
       "        vertical-align: top;\n",
       "    }\n",
       "\n",
       "    .dataframe thead th {\n",
       "        text-align: right;\n",
       "    }\n",
       "</style>\n",
       "<table border=\"1\" class=\"dataframe\">\n",
       "  <thead>\n",
       "    <tr style=\"text-align: right;\">\n",
       "      <th></th>\n",
       "      <th>run_id</th>\n",
       "      <th>epsilon</th>\n",
       "      <th>N_0_squared</th>\n",
       "      <th>phi_e_history</th>\n",
       "      <th>phi_plus_history</th>\n",
       "      <th>U_history</th>\n",
       "      <th>R_vals</th>\n",
       "      <th>k_e_psi_e_vals</th>\n",
       "      <th>k_e_b_e_vals</th>\n",
       "      <th>k_e_psi_plus_vals</th>\n",
       "      <th>k_e_b_plus_vals</th>\n",
       "      <th>heat_flux_psi_e_b_e_vals</th>\n",
       "      <th>heat_flux_psi_e_b_plus_vals</th>\n",
       "      <th>b_e_psi_plus_vals</th>\n",
       "      <th>b_e_b_plus_vals</th>\n",
       "      <th>psi_plus_b_plus_vals</th>\n",
       "      <th>eta_batch</th>\n",
       "      <th>reversals</th>\n",
       "      <th>durations</th>\n",
       "    </tr>\n",
       "  </thead>\n",
       "  <tbody>\n",
       "    <tr>\n",
       "      <th>0</th>\n",
       "      <td>0</td>\n",
       "      <td>0.24</td>\n",
       "      <td>640.0</td>\n",
       "      <td>[[9.604434866505035e-05, 0.0], [0.000639351944...</td>\n",
       "      <td>[[0.0, 0.0], [-5.32415376993389e-10, 0.0], [-4...</td>\n",
       "      <td>[0.009999000000000001, 0.00999800008847442, 0....</td>\n",
       "      <td>[0.0, -1.152558125970335e-08, 7.08631108024836...</td>\n",
       "      <td>[9.22451691049376e-09, 4.087709091422192e-07, ...</td>\n",
       "      <td>[0.0, 5.369895284110732e-06, 0.000314739761584...</td>\n",
       "      <td>[0.0, 2.8346613365901256e-19, 1.66115992727424...</td>\n",
       "      <td>[0.0, 0.0, 1.7966428307850027e-13, 1.345559130...</td>\n",
       "      <td>[0.0, -1.4815724677802498e-06, 9.1099929260091...</td>\n",
       "      <td>[0.0, 0.0, -2.1765723527077836e-10, 2.37600684...</td>\n",
       "      <td>[0.0, 1.2337679904830705e-12, 7.23071973916603...</td>\n",
       "      <td>[0.0, -0.0, -7.51980675425488e-09, -1.95649264...</td>\n",
       "      <td>[0.0, -0.0, -1.7275737535991383e-15, -4.506874...</td>\n",
       "      <td>[[0.09238624730127538], [0.5227066849753066], ...</td>\n",
       "      <td>[40.782022891011444, 70.81203790601896, 86.257...</td>\n",
       "      <td>[40.782022891011444, 30.030015015007514, 15.44...</td>\n",
       "    </tr>\n",
       "  </tbody>\n",
       "</table>\n",
       "</div>"
      ],
      "text/plain": [
       "   run_id  epsilon  N_0_squared  \\\n",
       "0       0     0.24        640.0   \n",
       "\n",
       "                                       phi_e_history  \\\n",
       "0  [[9.604434866505035e-05, 0.0], [0.000639351944...   \n",
       "\n",
       "                                    phi_plus_history  \\\n",
       "0  [[0.0, 0.0], [-5.32415376993389e-10, 0.0], [-4...   \n",
       "\n",
       "                                           U_history  \\\n",
       "0  [0.009999000000000001, 0.00999800008847442, 0....   \n",
       "\n",
       "                                              R_vals  \\\n",
       "0  [0.0, -1.152558125970335e-08, 7.08631108024836...   \n",
       "\n",
       "                                      k_e_psi_e_vals  \\\n",
       "0  [9.22451691049376e-09, 4.087709091422192e-07, ...   \n",
       "\n",
       "                                        k_e_b_e_vals  \\\n",
       "0  [0.0, 5.369895284110732e-06, 0.000314739761584...   \n",
       "\n",
       "                                   k_e_psi_plus_vals  \\\n",
       "0  [0.0, 2.8346613365901256e-19, 1.66115992727424...   \n",
       "\n",
       "                                     k_e_b_plus_vals  \\\n",
       "0  [0.0, 0.0, 1.7966428307850027e-13, 1.345559130...   \n",
       "\n",
       "                            heat_flux_psi_e_b_e_vals  \\\n",
       "0  [0.0, -1.4815724677802498e-06, 9.1099929260091...   \n",
       "\n",
       "                         heat_flux_psi_e_b_plus_vals  \\\n",
       "0  [0.0, 0.0, -2.1765723527077836e-10, 2.37600684...   \n",
       "\n",
       "                                   b_e_psi_plus_vals  \\\n",
       "0  [0.0, 1.2337679904830705e-12, 7.23071973916603...   \n",
       "\n",
       "                                     b_e_b_plus_vals  \\\n",
       "0  [0.0, -0.0, -7.51980675425488e-09, -1.95649264...   \n",
       "\n",
       "                                psi_plus_b_plus_vals  \\\n",
       "0  [0.0, -0.0, -1.7275737535991383e-15, -4.506874...   \n",
       "\n",
       "                                           eta_batch  \\\n",
       "0  [[0.09238624730127538], [0.5227066849753066], ...   \n",
       "\n",
       "                                           reversals  \\\n",
       "0  [40.782022891011444, 70.81203790601896, 86.257...   \n",
       "\n",
       "                                           durations  \n",
       "0  [40.782022891011444, 30.030015015007514, 15.44...  "
      ]
     },
     "execution_count": 8,
     "metadata": {},
     "output_type": "execute_result"
    }
   ],
   "source": [
    "df99.head()"
   ]
  },
  {
   "cell_type": "code",
   "execution_count": 9,
   "metadata": {},
   "outputs": [
    {
     "data": {
      "text/plain": [
       "[40.782022891011444,\n",
       " 70.81203790601896,\n",
       " 86.25704562852282,\n",
       " 122.29106364553182,\n",
       " 144.38707469353736,\n",
       " 154.85107992553995,\n",
       " 291.46214823107414,\n",
       " 304.6151548075774,\n",
       " 336.9561709780855,\n",
       " 342.41617370808683,\n",
       " 347.74917637458816,\n",
       " 373.0721890360945,\n",
       " 448.7752268876134,\n",
       " 543.4712742356371,\n",
       " 552.1662785831393,\n",
       " 595.34430017215,\n",
       " 600.3743026871514,\n",
       " 641.2603231301615,\n",
       " 721.1913630956816,\n",
       " 731.217368108684,\n",
       " 755.7063803531902,\n",
       " 872.0624385312193,\n",
       " 875.7584403792201,\n",
       " 887.7284463642231,\n",
       " 943.5534742767371,\n",
       " 955.38548019274,\n",
       " 965.2984851492425,\n",
       " 996.7445008722505,\n",
       " 1003.8255044127523,\n",
       " 1080.5995427997714,\n",
       " 1151.3615781807891,\n",
       " 1213.9906094953046,\n",
       " 1236.2266206133104,\n",
       " 1278.914641957321,\n",
       " 1359.231682115841,\n",
       " 1377.3186911593455,\n",
       " 1401.0497030248514,\n",
       " 1444.7687248843624,\n",
       " 1464.9277349638676,\n",
       " 1486.0177455088728,\n",
       " 1542.774773887387,\n",
       " 1598.528801764401,\n",
       " 1698.532851766426,\n",
       " 1737.5768712884355,\n",
       " 1759.7088823544411,\n",
       " 1843.446924223462,\n",
       " 1861.2279331139666,\n",
       " 1929.9679674839838,\n",
       " 1958.3209816604908]"
      ]
     },
     "execution_count": 9,
     "metadata": {},
     "output_type": "execute_result"
    }
   ],
   "source": [
    "list(df99['reversals'][0])"
   ]
  },
  {
   "cell_type": "code",
   "execution_count": 13,
   "metadata": {},
   "outputs": [
    {
     "data": {
      "image/png": "[encoded data removed]",
      "text/plain": [
       "<Figure size 640x480 with 1 Axes>"
      ]
     },
     "metadata": {},
     "output_type": "display_data"
    }
   ],
   "source": [
    "plt.plot(np.linspace(0, 2000, 2000000),list(df99['U_history'][0]))\n",
    "for i in list(df99['reversals'][0]):\n",
    "    plt.axvline(x=int(i), color = 'r', linestyle = '--', label = f'x={i}')\n",
    "plt.grid()\n",
    "plt.show()"
   ]
  }
 ],
 "metadata": {
  "kernelspec": {
   "display_name": "simulations_env",
   "language": "python",
   "name": "python3"
  },
  "language_info": {
   "codemirror_mode": {
    "name": "ipython",
    "version": 3
   },
   "file_extension": ".py",
   "mimetype": "text/x-python",
   "name": "python",
   "nbconvert_exporter": "python",
   "pygments_lexer": "ipython3",
   "version": "3.12.2"
  }
 },
 "nbformat": 4,
 "nbformat_minor": 2
}
